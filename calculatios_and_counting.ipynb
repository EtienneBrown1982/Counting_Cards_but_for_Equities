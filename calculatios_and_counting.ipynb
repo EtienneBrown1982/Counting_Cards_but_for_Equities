{
 "cells": [
  {
   "cell_type": "code",
   "execution_count": null,
   "metadata": {},
   "outputs": [],
   "source": [
    "max_body_size = \n",
    "min_candle_size = \n",
    "current_count = 0\n",
    "previous_count = 0\n",
    "def card_counting(\n",
    "        current_high, current_low, current_open, current_close,\n",
    "        previous_high, previous_low, previous_open, previous_close,\n",
    "        current_count, previous_count,max_body_size, min_candle_size,\n",
    "        body_size_previous, body_size_current, candle_size_previous,\n",
    "        candle_size_current):\n",
    "    # Defines a doji candlestick. this can be bearish or bullish depending\n",
    "    # on previous candle count/trend\n",
    "if previous_count = 2 or 1 and (abs(open-close)<close*max_body_size>close*min_candle_size)\n",
    "    current_count = current_count - 1\n",
    "if previous_count = -2 or -1 and (abs(open-close)<close*max_body_size>close*min_candle_size)\n",
    "    current_count = current_count + 1\n",
    "# bullish enfulging candle\n",
    "if open < close and body_size_current > body_size_previous\n",
    "    current_count = current_count + 1\n",
    "# bearish engulfing candle\n",
    "if open > close and body_size_current > body_size_previous\n",
    "    current_count = current_count - 1\n",
    "# bullish hammer\n",
    "if open < close and abs(open-close)*2 < (open-low)\n",
    "    current_count = current_count + 1\n",
    "# bearish hammer\n",
    "if open < close and abs(open-close)*2 < (close - low)\n",
    "    current_count = current_count - 1\n",
    "# as all calculations are completed for the current bar\n",
    "# we prepare to calculate following bar and assign \n",
    "# the previous_count to current_count for binning\n",
    "# and comparison\n",
    "previous_count = current_count\n",
    "    "
   ]
  }
 ],
 "metadata": {
  "kernelspec": {
   "display_name": "Python 3 (ipykernel)",
   "language": "python",
   "name": "python3"
  },
  "language_info": {
   "codemirror_mode": {
    "name": "ipython",
    "version": 3
   },
   "file_extension": ".py",
   "mimetype": "text/x-python",
   "name": "python",
   "nbconvert_exporter": "python",
   "pygments_lexer": "ipython3",
   "version": "3.11.5"
  }
 },
 "nbformat": 4,
 "nbformat_minor": 4
}
