{
 "cells": [
  {
   "cell_type": "code",
   "execution_count": 1,
   "metadata": {},
   "outputs": [],
   "source": [
    "#import libraries\n",
    "\n",
    "\n",
    "import plotly.graph_objects as go\n",
    "import plotly.express as px\n",
    "import os\n",
    "import pandas as pd\n",
    "import hvplot\n",
    "import matplotlib\n",
    "import requests\n",
    "import numpy as np\n",
    "import alpaca_trade_api as tradeapi\n",
    "from dotenv import load_dotenv\n",
    "from datetime import datetime\n",
    "import json\n",
    "from itertools import islice"
   ]
  },
  {
   "cell_type": "code",
   "execution_count": 2,
   "metadata": {},
   "outputs": [
    {
     "data": {
      "text/plain": [
       "True"
      ]
     },
     "execution_count": 2,
     "metadata": {},
     "output_type": "execute_result"
    }
   ],
   "source": [
    "load_dotenv()"
   ]
  },
  {
   "cell_type": "code",
   "execution_count": 3,
   "metadata": {},
   "outputs": [],
   "source": [
    "# Set Alpaca API key and secret\n",
    "alpaca_api_key = os.getenv(\"ALPACA_API_KEY\")\n",
    "alpaca_secret_key = os.getenv(\"ALPACA_SECRET_KEY\")"
   ]
  },
  {
   "cell_type": "code",
   "execution_count": 4,
   "metadata": {},
   "outputs": [],
   "source": [
    "# Instantiate REST API\n",
    "\n",
    "api = tradeapi.REST(\n",
    "    alpaca_api_key,\n",
    "    alpaca_secret_key,\n",
    "    base_url = 'https://app.alpaca.markets/paper/dashboard/overview',\n",
    "    api_version = \"v2\"\n",
    ")"
   ]
  },
  {
   "cell_type": "code",
   "execution_count": 5,
   "metadata": {},
   "outputs": [],
   "source": [
    "# Get user input for the stock symbol\n",
    "# stock_symbol = input(\"Enter the stock symbol you want to analyze (e.g., AAPL): \")\n",
    "stock_symbol = \"META\""
   ]
  },
  {
   "cell_type": "code",
   "execution_count": 6,
   "metadata": {},
   "outputs": [],
   "source": [
    "# Establish what time frame increment we will be looking at\n",
    "time_frame = \"1Day\""
   ]
  },
  {
   "cell_type": "code",
   "execution_count": 7,
   "metadata": {},
   "outputs": [],
   "source": [
    "# Get user input for the start date in datetime format\n",
    "# start_date_str = input(\"Enter the start date (YYYY-MM-DD): \")\n",
    "# start_date = datetime.strptime(start_date_str, \"%Y-%m-%d\")\n",
    "start_date = pd.Timestamp(\"2020-10-10\", tz=\"America/New_York\").isoformat()"
   ]
  },
  {
   "cell_type": "code",
   "execution_count": 8,
   "metadata": {},
   "outputs": [],
   "source": [
    "# Get user input for the end date in datetime format\n",
    "# end_date_str = input(\"Enter the end date (YYYY-MM-DD): \")\n",
    "# end_date = datetime.strptime(end_date_str, \"%Y-%m-%d\")\n",
    "end_date = pd.Timestamp(\"2020-12-12\", tz=\"America/New_York\").isoformat()"
   ]
  },
  {
   "cell_type": "code",
   "execution_count": 11,
   "metadata": {},
   "outputs": [],
   "source": [
    "# trading_days = end_date - start_date\n",
    "\n",
    "\n",
    "# print(f\"The timeframe between {start_date_str} and {end_date_str} is {trading_days.days} days.\")"
   ]
  },
  {
   "cell_type": "code",
   "execution_count": 9,
   "metadata": {},
   "outputs": [],
   "source": [
    "# Calls the stock data from the period of time desired in the desired time increment\n",
    "stock_data = api.get_bars(\n",
    "    stock_symbol, \n",
    "    time_frame, \n",
    "    start = start_date, \n",
    "    end = end_date\n",
    ").df"
   ]
  },
  {
   "cell_type": "code",
   "execution_count": 10,
   "metadata": {},
   "outputs": [
    {
     "name": "stdout",
     "output_type": "stream",
     "text": [
      "<class 'pandas.core.frame.DataFrame'>\n",
      "DatetimeIndex: 44 entries, 2020-10-12 04:00:00+00:00 to 2020-12-11 05:00:00+00:00\n",
      "Data columns (total 7 columns):\n",
      " #   Column       Non-Null Count  Dtype  \n",
      "---  ------       --------------  -----  \n",
      " 0   close        44 non-null     float64\n",
      " 1   high         44 non-null     float64\n",
      " 2   low          44 non-null     float64\n",
      " 3   trade_count  44 non-null     int64  \n",
      " 4   open         44 non-null     float64\n",
      " 5   volume       44 non-null     int64  \n",
      " 6   vwap         44 non-null     float64\n",
      "dtypes: float64(5), int64(2)\n",
      "memory usage: 2.8 KB\n"
     ]
    },
    {
     "data": {
      "text/html": [
       "<div>\n",
       "<style scoped>\n",
       "    .dataframe tbody tr th:only-of-type {\n",
       "        vertical-align: middle;\n",
       "    }\n",
       "\n",
       "    .dataframe tbody tr th {\n",
       "        vertical-align: top;\n",
       "    }\n",
       "\n",
       "    .dataframe thead th {\n",
       "        text-align: right;\n",
       "    }\n",
       "</style>\n",
       "<table border=\"1\" class=\"dataframe\">\n",
       "  <thead>\n",
       "    <tr style=\"text-align: right;\">\n",
       "      <th></th>\n",
       "      <th>close</th>\n",
       "      <th>high</th>\n",
       "      <th>low</th>\n",
       "      <th>trade_count</th>\n",
       "      <th>open</th>\n",
       "      <th>volume</th>\n",
       "      <th>vwap</th>\n",
       "    </tr>\n",
       "    <tr>\n",
       "      <th>timestamp</th>\n",
       "      <th></th>\n",
       "      <th></th>\n",
       "      <th></th>\n",
       "      <th></th>\n",
       "      <th></th>\n",
       "      <th></th>\n",
       "      <th></th>\n",
       "    </tr>\n",
       "  </thead>\n",
       "  <tbody>\n",
       "    <tr>\n",
       "      <th>2020-10-12 04:00:00+00:00</th>\n",
       "      <td>275.75</td>\n",
       "      <td>280.18</td>\n",
       "      <td>267.87</td>\n",
       "      <td>292730</td>\n",
       "      <td>270.200</td>\n",
       "      <td>32999660</td>\n",
       "      <td>275.227035</td>\n",
       "    </tr>\n",
       "    <tr>\n",
       "      <th>2020-10-13 04:00:00+00:00</th>\n",
       "      <td>276.14</td>\n",
       "      <td>279.10</td>\n",
       "      <td>273.39</td>\n",
       "      <td>181923</td>\n",
       "      <td>277.580</td>\n",
       "      <td>19505211</td>\n",
       "      <td>276.201124</td>\n",
       "    </tr>\n",
       "    <tr>\n",
       "      <th>2020-10-14 04:00:00+00:00</th>\n",
       "      <td>271.82</td>\n",
       "      <td>278.75</td>\n",
       "      <td>271.50</td>\n",
       "      <td>151136</td>\n",
       "      <td>277.620</td>\n",
       "      <td>16590158</td>\n",
       "      <td>273.981850</td>\n",
       "    </tr>\n",
       "    <tr>\n",
       "      <th>2020-10-15 04:00:00+00:00</th>\n",
       "      <td>266.72</td>\n",
       "      <td>269.04</td>\n",
       "      <td>263.67</td>\n",
       "      <td>182305</td>\n",
       "      <td>267.600</td>\n",
       "      <td>16330684</td>\n",
       "      <td>266.033730</td>\n",
       "    </tr>\n",
       "    <tr>\n",
       "      <th>2020-10-16 04:00:00+00:00</th>\n",
       "      <td>265.93</td>\n",
       "      <td>271.37</td>\n",
       "      <td>265.30</td>\n",
       "      <td>157636</td>\n",
       "      <td>267.375</td>\n",
       "      <td>18430693</td>\n",
       "      <td>267.458035</td>\n",
       "    </tr>\n",
       "  </tbody>\n",
       "</table>\n",
       "</div>"
      ],
      "text/plain": [
       "                            close    high     low  trade_count     open  \\\n",
       "timestamp                                                                 \n",
       "2020-10-12 04:00:00+00:00  275.75  280.18  267.87       292730  270.200   \n",
       "2020-10-13 04:00:00+00:00  276.14  279.10  273.39       181923  277.580   \n",
       "2020-10-14 04:00:00+00:00  271.82  278.75  271.50       151136  277.620   \n",
       "2020-10-15 04:00:00+00:00  266.72  269.04  263.67       182305  267.600   \n",
       "2020-10-16 04:00:00+00:00  265.93  271.37  265.30       157636  267.375   \n",
       "\n",
       "                             volume        vwap  \n",
       "timestamp                                        \n",
       "2020-10-12 04:00:00+00:00  32999660  275.227035  \n",
       "2020-10-13 04:00:00+00:00  19505211  276.201124  \n",
       "2020-10-14 04:00:00+00:00  16590158  273.981850  \n",
       "2020-10-15 04:00:00+00:00  16330684  266.033730  \n",
       "2020-10-16 04:00:00+00:00  18430693  267.458035  "
      ]
     },
     "metadata": {},
     "output_type": "display_data"
    },
    {
     "data": {
      "text/html": [
       "<div>\n",
       "<style scoped>\n",
       "    .dataframe tbody tr th:only-of-type {\n",
       "        vertical-align: middle;\n",
       "    }\n",
       "\n",
       "    .dataframe tbody tr th {\n",
       "        vertical-align: top;\n",
       "    }\n",
       "\n",
       "    .dataframe thead th {\n",
       "        text-align: right;\n",
       "    }\n",
       "</style>\n",
       "<table border=\"1\" class=\"dataframe\">\n",
       "  <thead>\n",
       "    <tr style=\"text-align: right;\">\n",
       "      <th></th>\n",
       "      <th>close</th>\n",
       "      <th>high</th>\n",
       "      <th>low</th>\n",
       "      <th>trade_count</th>\n",
       "      <th>open</th>\n",
       "      <th>volume</th>\n",
       "      <th>vwap</th>\n",
       "    </tr>\n",
       "    <tr>\n",
       "      <th>timestamp</th>\n",
       "      <th></th>\n",
       "      <th></th>\n",
       "      <th></th>\n",
       "      <th></th>\n",
       "      <th></th>\n",
       "      <th></th>\n",
       "      <th></th>\n",
       "    </tr>\n",
       "  </thead>\n",
       "  <tbody>\n",
       "    <tr>\n",
       "      <th>2020-12-07 05:00:00+00:00</th>\n",
       "      <td>285.58</td>\n",
       "      <td>288.4900</td>\n",
       "      <td>278.20</td>\n",
       "      <td>153281</td>\n",
       "      <td>279.190</td>\n",
       "      <td>14005842</td>\n",
       "      <td>285.751969</td>\n",
       "    </tr>\n",
       "    <tr>\n",
       "      <th>2020-12-08 05:00:00+00:00</th>\n",
       "      <td>283.40</td>\n",
       "      <td>286.4272</td>\n",
       "      <td>281.55</td>\n",
       "      <td>136454</td>\n",
       "      <td>286.010</td>\n",
       "      <td>11974657</td>\n",
       "      <td>283.705184</td>\n",
       "    </tr>\n",
       "    <tr>\n",
       "      <th>2020-12-09 05:00:00+00:00</th>\n",
       "      <td>277.92</td>\n",
       "      <td>287.6300</td>\n",
       "      <td>271.75</td>\n",
       "      <td>312698</td>\n",
       "      <td>283.660</td>\n",
       "      <td>26765687</td>\n",
       "      <td>278.642389</td>\n",
       "    </tr>\n",
       "    <tr>\n",
       "      <th>2020-12-10 05:00:00+00:00</th>\n",
       "      <td>277.12</td>\n",
       "      <td>278.7300</td>\n",
       "      <td>271.86</td>\n",
       "      <td>209825</td>\n",
       "      <td>275.535</td>\n",
       "      <td>21534833</td>\n",
       "      <td>276.018129</td>\n",
       "    </tr>\n",
       "    <tr>\n",
       "      <th>2020-12-11 05:00:00+00:00</th>\n",
       "      <td>273.55</td>\n",
       "      <td>276.4800</td>\n",
       "      <td>270.25</td>\n",
       "      <td>158853</td>\n",
       "      <td>274.530</td>\n",
       "      <td>15609459</td>\n",
       "      <td>273.330511</td>\n",
       "    </tr>\n",
       "  </tbody>\n",
       "</table>\n",
       "</div>"
      ],
      "text/plain": [
       "                            close      high     low  trade_count     open  \\\n",
       "timestamp                                                                   \n",
       "2020-12-07 05:00:00+00:00  285.58  288.4900  278.20       153281  279.190   \n",
       "2020-12-08 05:00:00+00:00  283.40  286.4272  281.55       136454  286.010   \n",
       "2020-12-09 05:00:00+00:00  277.92  287.6300  271.75       312698  283.660   \n",
       "2020-12-10 05:00:00+00:00  277.12  278.7300  271.86       209825  275.535   \n",
       "2020-12-11 05:00:00+00:00  273.55  276.4800  270.25       158853  274.530   \n",
       "\n",
       "                             volume        vwap  \n",
       "timestamp                                        \n",
       "2020-12-07 05:00:00+00:00  14005842  285.751969  \n",
       "2020-12-08 05:00:00+00:00  11974657  283.705184  \n",
       "2020-12-09 05:00:00+00:00  26765687  278.642389  \n",
       "2020-12-10 05:00:00+00:00  21534833  276.018129  \n",
       "2020-12-11 05:00:00+00:00  15609459  273.330511  "
      ]
     },
     "metadata": {},
     "output_type": "display_data"
    }
   ],
   "source": [
    "# Displays the information pulled\n",
    "stock_data.info()\n",
    "display(stock_data.head())\n",
    "display(stock_data.tail())"
   ]
  },
  {
   "cell_type": "code",
   "execution_count": 11,
   "metadata": {},
   "outputs": [
    {
     "data": {
      "text/html": [
       "<div>\n",
       "<style scoped>\n",
       "    .dataframe tbody tr th:only-of-type {\n",
       "        vertical-align: middle;\n",
       "    }\n",
       "\n",
       "    .dataframe tbody tr th {\n",
       "        vertical-align: top;\n",
       "    }\n",
       "\n",
       "    .dataframe thead th {\n",
       "        text-align: right;\n",
       "    }\n",
       "</style>\n",
       "<table border=\"1\" class=\"dataframe\">\n",
       "  <thead>\n",
       "    <tr style=\"text-align: right;\">\n",
       "      <th></th>\n",
       "      <th>timestamp</th>\n",
       "      <th>close</th>\n",
       "      <th>high</th>\n",
       "      <th>low</th>\n",
       "      <th>trade_count</th>\n",
       "      <th>open</th>\n",
       "      <th>volume</th>\n",
       "      <th>vwap</th>\n",
       "    </tr>\n",
       "  </thead>\n",
       "  <tbody>\n",
       "    <tr>\n",
       "      <th>0</th>\n",
       "      <td>2020-10-12 04:00:00+00:00</td>\n",
       "      <td>275.75</td>\n",
       "      <td>280.18</td>\n",
       "      <td>267.87</td>\n",
       "      <td>292730</td>\n",
       "      <td>270.200</td>\n",
       "      <td>32999660</td>\n",
       "      <td>275.227035</td>\n",
       "    </tr>\n",
       "    <tr>\n",
       "      <th>1</th>\n",
       "      <td>2020-10-13 04:00:00+00:00</td>\n",
       "      <td>276.14</td>\n",
       "      <td>279.10</td>\n",
       "      <td>273.39</td>\n",
       "      <td>181923</td>\n",
       "      <td>277.580</td>\n",
       "      <td>19505211</td>\n",
       "      <td>276.201124</td>\n",
       "    </tr>\n",
       "    <tr>\n",
       "      <th>2</th>\n",
       "      <td>2020-10-14 04:00:00+00:00</td>\n",
       "      <td>271.82</td>\n",
       "      <td>278.75</td>\n",
       "      <td>271.50</td>\n",
       "      <td>151136</td>\n",
       "      <td>277.620</td>\n",
       "      <td>16590158</td>\n",
       "      <td>273.981850</td>\n",
       "    </tr>\n",
       "    <tr>\n",
       "      <th>3</th>\n",
       "      <td>2020-10-15 04:00:00+00:00</td>\n",
       "      <td>266.72</td>\n",
       "      <td>269.04</td>\n",
       "      <td>263.67</td>\n",
       "      <td>182305</td>\n",
       "      <td>267.600</td>\n",
       "      <td>16330684</td>\n",
       "      <td>266.033730</td>\n",
       "    </tr>\n",
       "    <tr>\n",
       "      <th>4</th>\n",
       "      <td>2020-10-16 04:00:00+00:00</td>\n",
       "      <td>265.93</td>\n",
       "      <td>271.37</td>\n",
       "      <td>265.30</td>\n",
       "      <td>157636</td>\n",
       "      <td>267.375</td>\n",
       "      <td>18430693</td>\n",
       "      <td>267.458035</td>\n",
       "    </tr>\n",
       "  </tbody>\n",
       "</table>\n",
       "</div>"
      ],
      "text/plain": [
       "                  timestamp   close    high     low  trade_count     open  \\\n",
       "0 2020-10-12 04:00:00+00:00  275.75  280.18  267.87       292730  270.200   \n",
       "1 2020-10-13 04:00:00+00:00  276.14  279.10  273.39       181923  277.580   \n",
       "2 2020-10-14 04:00:00+00:00  271.82  278.75  271.50       151136  277.620   \n",
       "3 2020-10-15 04:00:00+00:00  266.72  269.04  263.67       182305  267.600   \n",
       "4 2020-10-16 04:00:00+00:00  265.93  271.37  265.30       157636  267.375   \n",
       "\n",
       "     volume        vwap  \n",
       "0  32999660  275.227035  \n",
       "1  19505211  276.201124  \n",
       "2  16590158  273.981850  \n",
       "3  16330684  266.033730  \n",
       "4  18430693  267.458035  "
      ]
     },
     "execution_count": 11,
     "metadata": {},
     "output_type": "execute_result"
    }
   ],
   "source": [
    "# Reset index and display the first 5\n",
    "stock_data = stock_data.reset_index()\n",
    "\n",
    "stock_data.head()"
   ]
  },
  {
   "cell_type": "code",
   "execution_count": 12,
   "metadata": {},
   "outputs": [
    {
     "data": {
      "text/html": [
       "<div>\n",
       "<style scoped>\n",
       "    .dataframe tbody tr th:only-of-type {\n",
       "        vertical-align: middle;\n",
       "    }\n",
       "\n",
       "    .dataframe tbody tr th {\n",
       "        vertical-align: top;\n",
       "    }\n",
       "\n",
       "    .dataframe thead th {\n",
       "        text-align: right;\n",
       "    }\n",
       "</style>\n",
       "<table border=\"1\" class=\"dataframe\">\n",
       "  <thead>\n",
       "    <tr style=\"text-align: right;\">\n",
       "      <th></th>\n",
       "      <th>timestamp</th>\n",
       "      <th>close</th>\n",
       "      <th>high</th>\n",
       "      <th>low</th>\n",
       "      <th>open</th>\n",
       "    </tr>\n",
       "  </thead>\n",
       "  <tbody>\n",
       "    <tr>\n",
       "      <th>0</th>\n",
       "      <td>2020-10-12 04:00:00+00:00</td>\n",
       "      <td>275.75</td>\n",
       "      <td>280.18</td>\n",
       "      <td>267.87</td>\n",
       "      <td>270.200</td>\n",
       "    </tr>\n",
       "    <tr>\n",
       "      <th>1</th>\n",
       "      <td>2020-10-13 04:00:00+00:00</td>\n",
       "      <td>276.14</td>\n",
       "      <td>279.10</td>\n",
       "      <td>273.39</td>\n",
       "      <td>277.580</td>\n",
       "    </tr>\n",
       "    <tr>\n",
       "      <th>2</th>\n",
       "      <td>2020-10-14 04:00:00+00:00</td>\n",
       "      <td>271.82</td>\n",
       "      <td>278.75</td>\n",
       "      <td>271.50</td>\n",
       "      <td>277.620</td>\n",
       "    </tr>\n",
       "    <tr>\n",
       "      <th>3</th>\n",
       "      <td>2020-10-15 04:00:00+00:00</td>\n",
       "      <td>266.72</td>\n",
       "      <td>269.04</td>\n",
       "      <td>263.67</td>\n",
       "      <td>267.600</td>\n",
       "    </tr>\n",
       "    <tr>\n",
       "      <th>4</th>\n",
       "      <td>2020-10-16 04:00:00+00:00</td>\n",
       "      <td>265.93</td>\n",
       "      <td>271.37</td>\n",
       "      <td>265.30</td>\n",
       "      <td>267.375</td>\n",
       "    </tr>\n",
       "  </tbody>\n",
       "</table>\n",
       "</div>"
      ],
      "text/plain": [
       "                  timestamp   close    high     low     open\n",
       "0 2020-10-12 04:00:00+00:00  275.75  280.18  267.87  270.200\n",
       "1 2020-10-13 04:00:00+00:00  276.14  279.10  273.39  277.580\n",
       "2 2020-10-14 04:00:00+00:00  271.82  278.75  271.50  277.620\n",
       "3 2020-10-15 04:00:00+00:00  266.72  269.04  263.67  267.600\n",
       "4 2020-10-16 04:00:00+00:00  265.93  271.37  265.30  267.375"
      ]
     },
     "metadata": {},
     "output_type": "display_data"
    }
   ],
   "source": [
    "# clean up datafram by removing vwap, volume, trade count columns\n",
    "\n",
    "# Drop columns which aren't needed(trade_count, volume, vwap) and display the results\n",
    "stock_data = stock_data.drop(columns=['trade_count','volume','vwap'])\n",
    "display(stock_data.head())"
   ]
  },
  {
   "cell_type": "code",
   "execution_count": 14,
   "metadata": {},
   "outputs": [],
   "source": [
    "# Assign plot values to plotly\n",
    "\n",
    "fig = go.Candlestick(x=stock_data['timestamp'],\n",
    "                open=stock_data['open'],\n",
    "                high=stock_data['high'],\n",
    "                low=stock_data['low'],\n",
    "                close=stock_data['close'])\n",
    "\n",
    "\n",
    "cand = go.Figure(data=[fig])"
   ]
  },
  {
   "cell_type": "code",
   "execution_count": 15,
   "metadata": {},
   "outputs": [
    {
     "data": {
      "application/vnd.plotly.v1+json": {
       "config": {
        "plotlyServerURL": "https://plot.ly"
       },
       "data": [
        {
         "close": [
          275.75,
          276.14,
          271.82,
          266.72,
          265.93,
          261.4,
          267.56,
          278.73,
          278.12,
          284.79,
          277.11,
          283.29,
          267.67,
          280.83,
          263.11,
          261.36,
          265.3,
          287.38,
          294.68,
          293.41,
          278.77,
          272.43,
          276.48,
          275.08,
          276.95,
          278.96,
          275,
          271.97,
          272.94,
          269.7,
          268.43,
          276.92,
          275.59,
          277.81,
          276.97,
          286.55,
          287.52,
          281.85,
          279.7,
          285.58,
          283.4,
          277.92,
          277.12,
          273.55
         ],
         "high": [
          280.18,
          279.1,
          278.75,
          269.04,
          271.37,
          268.55,
          269.7,
          283.05,
          282.45,
          285.24,
          285.23,
          284.51,
          278.79,
          283.6,
          276.7,
          270.47,
          270.05,
          288.94,
          297.38,
          294.6,
          292.58,
          274,
          278.4,
          279.75,
          277.76,
          279.41,
          277.68,
          277.3889,
          273.47,
          273,
          270.9471,
          277.8199,
          280.18,
          279.13,
          277.7,
          289.3,
          291.78,
          286.65,
          283.46,
          288.49,
          286.4272,
          287.63,
          278.73,
          276.48
         ],
         "low": [
          267.87,
          273.39,
          271.5,
          263.67,
          265.3,
          259.88,
          262.88,
          276.37,
          275.04,
          276.82,
          274.26,
          276.31,
          267.26,
          273.78,
          259.1,
          257.34,
          260.88,
          278.62,
          288.95,
          288.06,
          278.53,
          264,
          272.48,
          274.43,
          273.1,
          274.63,
          273.29,
          271.84,
          269.19,
          269.41,
          264.53,
          267.87,
          272.65,
          274.82,
          271.01,
          278.96,
          280.825,
          281.07,
          279.3,
          278.2,
          281.55,
          271.75,
          271.86,
          270.25
         ],
         "open": [
          270.2,
          277.58,
          277.62,
          267.6,
          267.375,
          265.53,
          263.06,
          279.56,
          279.87,
          278.8024,
          283.16,
          278.76,
          278.79,
          276.55,
          274.5,
          264.6,
          263.16,
          281,
          291.8965,
          293.95,
          289.87,
          273.1,
          273.47,
          277.18,
          277.72,
          275.05,
          277.68,
          274.52,
          271.025,
          272.56,
          270.89,
          268.49,
          278.14,
          277.39,
          276.13,
          279.16,
          285.36,
          286.25,
          280.3,
          279.19,
          286.01,
          283.66,
          275.535,
          274.53
         ],
         "type": "candlestick",
         "x": [
          "2020-10-12T04:00:00+00:00",
          "2020-10-13T04:00:00+00:00",
          "2020-10-14T04:00:00+00:00",
          "2020-10-15T04:00:00+00:00",
          "2020-10-16T04:00:00+00:00",
          "2020-10-19T04:00:00+00:00",
          "2020-10-20T04:00:00+00:00",
          "2020-10-21T04:00:00+00:00",
          "2020-10-22T04:00:00+00:00",
          "2020-10-23T04:00:00+00:00",
          "2020-10-26T04:00:00+00:00",
          "2020-10-27T04:00:00+00:00",
          "2020-10-28T04:00:00+00:00",
          "2020-10-29T04:00:00+00:00",
          "2020-10-30T04:00:00+00:00",
          "2020-11-02T05:00:00+00:00",
          "2020-11-03T05:00:00+00:00",
          "2020-11-04T05:00:00+00:00",
          "2020-11-05T05:00:00+00:00",
          "2020-11-06T05:00:00+00:00",
          "2020-11-09T05:00:00+00:00",
          "2020-11-10T05:00:00+00:00",
          "2020-11-11T05:00:00+00:00",
          "2020-11-12T05:00:00+00:00",
          "2020-11-13T05:00:00+00:00",
          "2020-11-16T05:00:00+00:00",
          "2020-11-17T05:00:00+00:00",
          "2020-11-18T05:00:00+00:00",
          "2020-11-19T05:00:00+00:00",
          "2020-11-20T05:00:00+00:00",
          "2020-11-23T05:00:00+00:00",
          "2020-11-24T05:00:00+00:00",
          "2020-11-25T05:00:00+00:00",
          "2020-11-27T05:00:00+00:00",
          "2020-11-30T05:00:00+00:00",
          "2020-12-01T05:00:00+00:00",
          "2020-12-02T05:00:00+00:00",
          "2020-12-03T05:00:00+00:00",
          "2020-12-04T05:00:00+00:00",
          "2020-12-07T05:00:00+00:00",
          "2020-12-08T05:00:00+00:00",
          "2020-12-09T05:00:00+00:00",
          "2020-12-10T05:00:00+00:00",
          "2020-12-11T05:00:00+00:00"
         ]
        }
       ],
       "layout": {
        "height": 800,
        "template": {
         "data": {
          "bar": [
           {
            "error_x": {
             "color": "#2a3f5f"
            },
            "error_y": {
             "color": "#2a3f5f"
            },
            "marker": {
             "line": {
              "color": "#E5ECF6",
              "width": 0.5
             },
             "pattern": {
              "fillmode": "overlay",
              "size": 10,
              "solidity": 0.2
             }
            },
            "type": "bar"
           }
          ],
          "barpolar": [
           {
            "marker": {
             "line": {
              "color": "#E5ECF6",
              "width": 0.5
             },
             "pattern": {
              "fillmode": "overlay",
              "size": 10,
              "solidity": 0.2
             }
            },
            "type": "barpolar"
           }
          ],
          "carpet": [
           {
            "aaxis": {
             "endlinecolor": "#2a3f5f",
             "gridcolor": "white",
             "linecolor": "white",
             "minorgridcolor": "white",
             "startlinecolor": "#2a3f5f"
            },
            "baxis": {
             "endlinecolor": "#2a3f5f",
             "gridcolor": "white",
             "linecolor": "white",
             "minorgridcolor": "white",
             "startlinecolor": "#2a3f5f"
            },
            "type": "carpet"
           }
          ],
          "choropleth": [
           {
            "colorbar": {
             "outlinewidth": 0,
             "ticks": ""
            },
            "type": "choropleth"
           }
          ],
          "contour": [
           {
            "colorbar": {
             "outlinewidth": 0,
             "ticks": ""
            },
            "colorscale": [
             [
              0,
              "#0d0887"
             ],
             [
              0.1111111111111111,
              "#46039f"
             ],
             [
              0.2222222222222222,
              "#7201a8"
             ],
             [
              0.3333333333333333,
              "#9c179e"
             ],
             [
              0.4444444444444444,
              "#bd3786"
             ],
             [
              0.5555555555555556,
              "#d8576b"
             ],
             [
              0.6666666666666666,
              "#ed7953"
             ],
             [
              0.7777777777777778,
              "#fb9f3a"
             ],
             [
              0.8888888888888888,
              "#fdca26"
             ],
             [
              1,
              "#f0f921"
             ]
            ],
            "type": "contour"
           }
          ],
          "contourcarpet": [
           {
            "colorbar": {
             "outlinewidth": 0,
             "ticks": ""
            },
            "type": "contourcarpet"
           }
          ],
          "heatmap": [
           {
            "colorbar": {
             "outlinewidth": 0,
             "ticks": ""
            },
            "colorscale": [
             [
              0,
              "#0d0887"
             ],
             [
              0.1111111111111111,
              "#46039f"
             ],
             [
              0.2222222222222222,
              "#7201a8"
             ],
             [
              0.3333333333333333,
              "#9c179e"
             ],
             [
              0.4444444444444444,
              "#bd3786"
             ],
             [
              0.5555555555555556,
              "#d8576b"
             ],
             [
              0.6666666666666666,
              "#ed7953"
             ],
             [
              0.7777777777777778,
              "#fb9f3a"
             ],
             [
              0.8888888888888888,
              "#fdca26"
             ],
             [
              1,
              "#f0f921"
             ]
            ],
            "type": "heatmap"
           }
          ],
          "heatmapgl": [
           {
            "colorbar": {
             "outlinewidth": 0,
             "ticks": ""
            },
            "colorscale": [
             [
              0,
              "#0d0887"
             ],
             [
              0.1111111111111111,
              "#46039f"
             ],
             [
              0.2222222222222222,
              "#7201a8"
             ],
             [
              0.3333333333333333,
              "#9c179e"
             ],
             [
              0.4444444444444444,
              "#bd3786"
             ],
             [
              0.5555555555555556,
              "#d8576b"
             ],
             [
              0.6666666666666666,
              "#ed7953"
             ],
             [
              0.7777777777777778,
              "#fb9f3a"
             ],
             [
              0.8888888888888888,
              "#fdca26"
             ],
             [
              1,
              "#f0f921"
             ]
            ],
            "type": "heatmapgl"
           }
          ],
          "histogram": [
           {
            "marker": {
             "pattern": {
              "fillmode": "overlay",
              "size": 10,
              "solidity": 0.2
             }
            },
            "type": "histogram"
           }
          ],
          "histogram2d": [
           {
            "colorbar": {
             "outlinewidth": 0,
             "ticks": ""
            },
            "colorscale": [
             [
              0,
              "#0d0887"
             ],
             [
              0.1111111111111111,
              "#46039f"
             ],
             [
              0.2222222222222222,
              "#7201a8"
             ],
             [
              0.3333333333333333,
              "#9c179e"
             ],
             [
              0.4444444444444444,
              "#bd3786"
             ],
             [
              0.5555555555555556,
              "#d8576b"
             ],
             [
              0.6666666666666666,
              "#ed7953"
             ],
             [
              0.7777777777777778,
              "#fb9f3a"
             ],
             [
              0.8888888888888888,
              "#fdca26"
             ],
             [
              1,
              "#f0f921"
             ]
            ],
            "type": "histogram2d"
           }
          ],
          "histogram2dcontour": [
           {
            "colorbar": {
             "outlinewidth": 0,
             "ticks": ""
            },
            "colorscale": [
             [
              0,
              "#0d0887"
             ],
             [
              0.1111111111111111,
              "#46039f"
             ],
             [
              0.2222222222222222,
              "#7201a8"
             ],
             [
              0.3333333333333333,
              "#9c179e"
             ],
             [
              0.4444444444444444,
              "#bd3786"
             ],
             [
              0.5555555555555556,
              "#d8576b"
             ],
             [
              0.6666666666666666,
              "#ed7953"
             ],
             [
              0.7777777777777778,
              "#fb9f3a"
             ],
             [
              0.8888888888888888,
              "#fdca26"
             ],
             [
              1,
              "#f0f921"
             ]
            ],
            "type": "histogram2dcontour"
           }
          ],
          "mesh3d": [
           {
            "colorbar": {
             "outlinewidth": 0,
             "ticks": ""
            },
            "type": "mesh3d"
           }
          ],
          "parcoords": [
           {
            "line": {
             "colorbar": {
              "outlinewidth": 0,
              "ticks": ""
             }
            },
            "type": "parcoords"
           }
          ],
          "pie": [
           {
            "automargin": true,
            "type": "pie"
           }
          ],
          "scatter": [
           {
            "fillpattern": {
             "fillmode": "overlay",
             "size": 10,
             "solidity": 0.2
            },
            "type": "scatter"
           }
          ],
          "scatter3d": [
           {
            "line": {
             "colorbar": {
              "outlinewidth": 0,
              "ticks": ""
             }
            },
            "marker": {
             "colorbar": {
              "outlinewidth": 0,
              "ticks": ""
             }
            },
            "type": "scatter3d"
           }
          ],
          "scattercarpet": [
           {
            "marker": {
             "colorbar": {
              "outlinewidth": 0,
              "ticks": ""
             }
            },
            "type": "scattercarpet"
           }
          ],
          "scattergeo": [
           {
            "marker": {
             "colorbar": {
              "outlinewidth": 0,
              "ticks": ""
             }
            },
            "type": "scattergeo"
           }
          ],
          "scattergl": [
           {
            "marker": {
             "colorbar": {
              "outlinewidth": 0,
              "ticks": ""
             }
            },
            "type": "scattergl"
           }
          ],
          "scattermapbox": [
           {
            "marker": {
             "colorbar": {
              "outlinewidth": 0,
              "ticks": ""
             }
            },
            "type": "scattermapbox"
           }
          ],
          "scatterpolar": [
           {
            "marker": {
             "colorbar": {
              "outlinewidth": 0,
              "ticks": ""
             }
            },
            "type": "scatterpolar"
           }
          ],
          "scatterpolargl": [
           {
            "marker": {
             "colorbar": {
              "outlinewidth": 0,
              "ticks": ""
             }
            },
            "type": "scatterpolargl"
           }
          ],
          "scatterternary": [
           {
            "marker": {
             "colorbar": {
              "outlinewidth": 0,
              "ticks": ""
             }
            },
            "type": "scatterternary"
           }
          ],
          "surface": [
           {
            "colorbar": {
             "outlinewidth": 0,
             "ticks": ""
            },
            "colorscale": [
             [
              0,
              "#0d0887"
             ],
             [
              0.1111111111111111,
              "#46039f"
             ],
             [
              0.2222222222222222,
              "#7201a8"
             ],
             [
              0.3333333333333333,
              "#9c179e"
             ],
             [
              0.4444444444444444,
              "#bd3786"
             ],
             [
              0.5555555555555556,
              "#d8576b"
             ],
             [
              0.6666666666666666,
              "#ed7953"
             ],
             [
              0.7777777777777778,
              "#fb9f3a"
             ],
             [
              0.8888888888888888,
              "#fdca26"
             ],
             [
              1,
              "#f0f921"
             ]
            ],
            "type": "surface"
           }
          ],
          "table": [
           {
            "cells": {
             "fill": {
              "color": "#EBF0F8"
             },
             "line": {
              "color": "white"
             }
            },
            "header": {
             "fill": {
              "color": "#C8D4E3"
             },
             "line": {
              "color": "white"
             }
            },
            "type": "table"
           }
          ]
         },
         "layout": {
          "annotationdefaults": {
           "arrowcolor": "#2a3f5f",
           "arrowhead": 0,
           "arrowwidth": 1
          },
          "autotypenumbers": "strict",
          "coloraxis": {
           "colorbar": {
            "outlinewidth": 0,
            "ticks": ""
           }
          },
          "colorscale": {
           "diverging": [
            [
             0,
             "#8e0152"
            ],
            [
             0.1,
             "#c51b7d"
            ],
            [
             0.2,
             "#de77ae"
            ],
            [
             0.3,
             "#f1b6da"
            ],
            [
             0.4,
             "#fde0ef"
            ],
            [
             0.5,
             "#f7f7f7"
            ],
            [
             0.6,
             "#e6f5d0"
            ],
            [
             0.7,
             "#b8e186"
            ],
            [
             0.8,
             "#7fbc41"
            ],
            [
             0.9,
             "#4d9221"
            ],
            [
             1,
             "#276419"
            ]
           ],
           "sequential": [
            [
             0,
             "#0d0887"
            ],
            [
             0.1111111111111111,
             "#46039f"
            ],
            [
             0.2222222222222222,
             "#7201a8"
            ],
            [
             0.3333333333333333,
             "#9c179e"
            ],
            [
             0.4444444444444444,
             "#bd3786"
            ],
            [
             0.5555555555555556,
             "#d8576b"
            ],
            [
             0.6666666666666666,
             "#ed7953"
            ],
            [
             0.7777777777777778,
             "#fb9f3a"
            ],
            [
             0.8888888888888888,
             "#fdca26"
            ],
            [
             1,
             "#f0f921"
            ]
           ],
           "sequentialminus": [
            [
             0,
             "#0d0887"
            ],
            [
             0.1111111111111111,
             "#46039f"
            ],
            [
             0.2222222222222222,
             "#7201a8"
            ],
            [
             0.3333333333333333,
             "#9c179e"
            ],
            [
             0.4444444444444444,
             "#bd3786"
            ],
            [
             0.5555555555555556,
             "#d8576b"
            ],
            [
             0.6666666666666666,
             "#ed7953"
            ],
            [
             0.7777777777777778,
             "#fb9f3a"
            ],
            [
             0.8888888888888888,
             "#fdca26"
            ],
            [
             1,
             "#f0f921"
            ]
           ]
          },
          "colorway": [
           "#636efa",
           "#EF553B",
           "#00cc96",
           "#ab63fa",
           "#FFA15A",
           "#19d3f3",
           "#FF6692",
           "#B6E880",
           "#FF97FF",
           "#FECB52"
          ],
          "font": {
           "color": "#2a3f5f"
          },
          "geo": {
           "bgcolor": "white",
           "lakecolor": "white",
           "landcolor": "#E5ECF6",
           "showlakes": true,
           "showland": true,
           "subunitcolor": "white"
          },
          "hoverlabel": {
           "align": "left"
          },
          "hovermode": "closest",
          "mapbox": {
           "style": "light"
          },
          "paper_bgcolor": "white",
          "plot_bgcolor": "#E5ECF6",
          "polar": {
           "angularaxis": {
            "gridcolor": "white",
            "linecolor": "white",
            "ticks": ""
           },
           "bgcolor": "#E5ECF6",
           "radialaxis": {
            "gridcolor": "white",
            "linecolor": "white",
            "ticks": ""
           }
          },
          "scene": {
           "xaxis": {
            "backgroundcolor": "#E5ECF6",
            "gridcolor": "white",
            "gridwidth": 2,
            "linecolor": "white",
            "showbackground": true,
            "ticks": "",
            "zerolinecolor": "white"
           },
           "yaxis": {
            "backgroundcolor": "#E5ECF6",
            "gridcolor": "white",
            "gridwidth": 2,
            "linecolor": "white",
            "showbackground": true,
            "ticks": "",
            "zerolinecolor": "white"
           },
           "zaxis": {
            "backgroundcolor": "#E5ECF6",
            "gridcolor": "white",
            "gridwidth": 2,
            "linecolor": "white",
            "showbackground": true,
            "ticks": "",
            "zerolinecolor": "white"
           }
          },
          "shapedefaults": {
           "line": {
            "color": "#2a3f5f"
           }
          },
          "ternary": {
           "aaxis": {
            "gridcolor": "white",
            "linecolor": "white",
            "ticks": ""
           },
           "baxis": {
            "gridcolor": "white",
            "linecolor": "white",
            "ticks": ""
           },
           "bgcolor": "#E5ECF6",
           "caxis": {
            "gridcolor": "white",
            "linecolor": "white",
            "ticks": ""
           }
          },
          "title": {
           "x": 0.05
          },
          "xaxis": {
           "automargin": true,
           "gridcolor": "white",
           "linecolor": "white",
           "ticks": "",
           "title": {
            "standoff": 15
           },
           "zerolinecolor": "white",
           "zerolinewidth": 2
          },
          "yaxis": {
           "automargin": true,
           "gridcolor": "white",
           "linecolor": "white",
           "ticks": "",
           "title": {
            "standoff": 15
           },
           "zerolinecolor": "white",
           "zerolinewidth": 2
          }
         }
        },
        "title": {
         "text": "Meta, OCT - DEC"
        },
        "width": 1600,
        "yaxis": {
         "title": {
          "text": "Meta Stock"
         }
        }
       }
      }
     },
     "metadata": {},
     "output_type": "display_data"
    }
   ],
   "source": [
    "# Customize the figure (optional)\n",
    "\n",
    "cand.update_layout(\n",
    "    width=1600, height=800,\n",
    "    title=\"Meta, OCT - DEC\",\n",
    "    yaxis_title='Meta Stock'\n",
    ")\n"
   ]
  },
  {
   "cell_type": "code",
   "execution_count": 16,
   "metadata": {},
   "outputs": [],
   "source": [
    "# Add new data columns to DF for body size and candle size\n",
    "# body size is absolute value of open - close\n",
    "# candle size is the absolute value of low - high\n",
    "\n",
    "\n",
    "stock_data['body_size'] = stock_data['close'] - stock_data['open']\n",
    "stock_data['candle_size'] = stock_data['high'] - stock_data['low']"
   ]
  },
  {
   "cell_type": "code",
   "execution_count": 18,
   "metadata": {},
   "outputs": [
    {
     "data": {
      "text/html": [
       "<div>\n",
       "<style scoped>\n",
       "    .dataframe tbody tr th:only-of-type {\n",
       "        vertical-align: middle;\n",
       "    }\n",
       "\n",
       "    .dataframe tbody tr th {\n",
       "        vertical-align: top;\n",
       "    }\n",
       "\n",
       "    .dataframe thead th {\n",
       "        text-align: right;\n",
       "    }\n",
       "</style>\n",
       "<table border=\"1\" class=\"dataframe\">\n",
       "  <thead>\n",
       "    <tr style=\"text-align: right;\">\n",
       "      <th></th>\n",
       "      <th>timestamp</th>\n",
       "      <th>close</th>\n",
       "      <th>high</th>\n",
       "      <th>low</th>\n",
       "      <th>open</th>\n",
       "      <th>body_size</th>\n",
       "      <th>candle_size</th>\n",
       "    </tr>\n",
       "  </thead>\n",
       "  <tbody>\n",
       "    <tr>\n",
       "      <th>0</th>\n",
       "      <td>2020-10-12 04:00:00+00:00</td>\n",
       "      <td>275.75</td>\n",
       "      <td>280.18</td>\n",
       "      <td>267.87</td>\n",
       "      <td>270.200</td>\n",
       "      <td>5.550</td>\n",
       "      <td>12.31</td>\n",
       "    </tr>\n",
       "    <tr>\n",
       "      <th>1</th>\n",
       "      <td>2020-10-13 04:00:00+00:00</td>\n",
       "      <td>276.14</td>\n",
       "      <td>279.10</td>\n",
       "      <td>273.39</td>\n",
       "      <td>277.580</td>\n",
       "      <td>-1.440</td>\n",
       "      <td>5.71</td>\n",
       "    </tr>\n",
       "    <tr>\n",
       "      <th>2</th>\n",
       "      <td>2020-10-14 04:00:00+00:00</td>\n",
       "      <td>271.82</td>\n",
       "      <td>278.75</td>\n",
       "      <td>271.50</td>\n",
       "      <td>277.620</td>\n",
       "      <td>-5.800</td>\n",
       "      <td>7.25</td>\n",
       "    </tr>\n",
       "    <tr>\n",
       "      <th>3</th>\n",
       "      <td>2020-10-15 04:00:00+00:00</td>\n",
       "      <td>266.72</td>\n",
       "      <td>269.04</td>\n",
       "      <td>263.67</td>\n",
       "      <td>267.600</td>\n",
       "      <td>-0.880</td>\n",
       "      <td>5.37</td>\n",
       "    </tr>\n",
       "    <tr>\n",
       "      <th>4</th>\n",
       "      <td>2020-10-16 04:00:00+00:00</td>\n",
       "      <td>265.93</td>\n",
       "      <td>271.37</td>\n",
       "      <td>265.30</td>\n",
       "      <td>267.375</td>\n",
       "      <td>-1.445</td>\n",
       "      <td>6.07</td>\n",
       "    </tr>\n",
       "  </tbody>\n",
       "</table>\n",
       "</div>"
      ],
      "text/plain": [
       "                  timestamp   close    high     low     open  body_size  \\\n",
       "0 2020-10-12 04:00:00+00:00  275.75  280.18  267.87  270.200      5.550   \n",
       "1 2020-10-13 04:00:00+00:00  276.14  279.10  273.39  277.580     -1.440   \n",
       "2 2020-10-14 04:00:00+00:00  271.82  278.75  271.50  277.620     -5.800   \n",
       "3 2020-10-15 04:00:00+00:00  266.72  269.04  263.67  267.600     -0.880   \n",
       "4 2020-10-16 04:00:00+00:00  265.93  271.37  265.30  267.375     -1.445   \n",
       "\n",
       "   candle_size  \n",
       "0        12.31  \n",
       "1         5.71  \n",
       "2         7.25  \n",
       "3         5.37  \n",
       "4         6.07  "
      ]
     },
     "metadata": {},
     "output_type": "display_data"
    },
    {
     "data": {
      "text/html": [
       "<div>\n",
       "<style scoped>\n",
       "    .dataframe tbody tr th:only-of-type {\n",
       "        vertical-align: middle;\n",
       "    }\n",
       "\n",
       "    .dataframe tbody tr th {\n",
       "        vertical-align: top;\n",
       "    }\n",
       "\n",
       "    .dataframe thead th {\n",
       "        text-align: right;\n",
       "    }\n",
       "</style>\n",
       "<table border=\"1\" class=\"dataframe\">\n",
       "  <thead>\n",
       "    <tr style=\"text-align: right;\">\n",
       "      <th></th>\n",
       "      <th>timestamp</th>\n",
       "      <th>close</th>\n",
       "      <th>high</th>\n",
       "      <th>low</th>\n",
       "      <th>open</th>\n",
       "      <th>body_size</th>\n",
       "      <th>candle_size</th>\n",
       "    </tr>\n",
       "  </thead>\n",
       "  <tbody>\n",
       "    <tr>\n",
       "      <th>39</th>\n",
       "      <td>2020-12-07 05:00:00+00:00</td>\n",
       "      <td>285.58</td>\n",
       "      <td>288.4900</td>\n",
       "      <td>278.20</td>\n",
       "      <td>279.190</td>\n",
       "      <td>6.390</td>\n",
       "      <td>10.2900</td>\n",
       "    </tr>\n",
       "    <tr>\n",
       "      <th>40</th>\n",
       "      <td>2020-12-08 05:00:00+00:00</td>\n",
       "      <td>283.40</td>\n",
       "      <td>286.4272</td>\n",
       "      <td>281.55</td>\n",
       "      <td>286.010</td>\n",
       "      <td>-2.610</td>\n",
       "      <td>4.8772</td>\n",
       "    </tr>\n",
       "    <tr>\n",
       "      <th>41</th>\n",
       "      <td>2020-12-09 05:00:00+00:00</td>\n",
       "      <td>277.92</td>\n",
       "      <td>287.6300</td>\n",
       "      <td>271.75</td>\n",
       "      <td>283.660</td>\n",
       "      <td>-5.740</td>\n",
       "      <td>15.8800</td>\n",
       "    </tr>\n",
       "    <tr>\n",
       "      <th>42</th>\n",
       "      <td>2020-12-10 05:00:00+00:00</td>\n",
       "      <td>277.12</td>\n",
       "      <td>278.7300</td>\n",
       "      <td>271.86</td>\n",
       "      <td>275.535</td>\n",
       "      <td>1.585</td>\n",
       "      <td>6.8700</td>\n",
       "    </tr>\n",
       "    <tr>\n",
       "      <th>43</th>\n",
       "      <td>2020-12-11 05:00:00+00:00</td>\n",
       "      <td>273.55</td>\n",
       "      <td>276.4800</td>\n",
       "      <td>270.25</td>\n",
       "      <td>274.530</td>\n",
       "      <td>-0.980</td>\n",
       "      <td>6.2300</td>\n",
       "    </tr>\n",
       "  </tbody>\n",
       "</table>\n",
       "</div>"
      ],
      "text/plain": [
       "                   timestamp   close      high     low     open  body_size  \\\n",
       "39 2020-12-07 05:00:00+00:00  285.58  288.4900  278.20  279.190      6.390   \n",
       "40 2020-12-08 05:00:00+00:00  283.40  286.4272  281.55  286.010     -2.610   \n",
       "41 2020-12-09 05:00:00+00:00  277.92  287.6300  271.75  283.660     -5.740   \n",
       "42 2020-12-10 05:00:00+00:00  277.12  278.7300  271.86  275.535      1.585   \n",
       "43 2020-12-11 05:00:00+00:00  273.55  276.4800  270.25  274.530     -0.980   \n",
       "\n",
       "    candle_size  \n",
       "39      10.2900  \n",
       "40       4.8772  \n",
       "41      15.8800  \n",
       "42       6.8700  \n",
       "43       6.2300  "
      ]
     },
     "metadata": {},
     "output_type": "display_data"
    }
   ],
   "source": [
    "# Display columns with added columns\n",
    "display(stock_data.head())\n",
    "display(stock_data.tail())"
   ]
  },
  {
   "cell_type": "code",
   "execution_count": 24,
   "metadata": {},
   "outputs": [
    {
     "name": "stdout",
     "output_type": "stream",
     "text": [
      "8.430000000000007\n",
      "3.589999999999975\n",
      "1\n",
      "270.2\n",
      "44\n"
     ]
    },
    {
     "data": {
      "text/html": [
       "<div>\n",
       "<style scoped>\n",
       "    .dataframe tbody tr th:only-of-type {\n",
       "        vertical-align: middle;\n",
       "    }\n",
       "\n",
       "    .dataframe tbody tr th {\n",
       "        vertical-align: top;\n",
       "    }\n",
       "\n",
       "    .dataframe thead th {\n",
       "        text-align: right;\n",
       "    }\n",
       "</style>\n",
       "<table border=\"1\" class=\"dataframe\">\n",
       "  <thead>\n",
       "    <tr style=\"text-align: right;\">\n",
       "      <th></th>\n",
       "      <th>timestamp</th>\n",
       "      <th>close</th>\n",
       "      <th>high</th>\n",
       "      <th>low</th>\n",
       "      <th>open</th>\n",
       "      <th>body_size</th>\n",
       "      <th>candle_size</th>\n",
       "      <th>card_count</th>\n",
       "    </tr>\n",
       "  </thead>\n",
       "  <tbody>\n",
       "    <tr>\n",
       "      <th>0</th>\n",
       "      <td>2020-10-12 04:00:00+00:00</td>\n",
       "      <td>275.75</td>\n",
       "      <td>280.18</td>\n",
       "      <td>267.87</td>\n",
       "      <td>270.200</td>\n",
       "      <td>5.550</td>\n",
       "      <td>12.31</td>\n",
       "      <td>0</td>\n",
       "    </tr>\n",
       "    <tr>\n",
       "      <th>1</th>\n",
       "      <td>2020-10-13 04:00:00+00:00</td>\n",
       "      <td>276.14</td>\n",
       "      <td>279.10</td>\n",
       "      <td>273.39</td>\n",
       "      <td>277.580</td>\n",
       "      <td>-1.440</td>\n",
       "      <td>5.71</td>\n",
       "      <td>0</td>\n",
       "    </tr>\n",
       "    <tr>\n",
       "      <th>2</th>\n",
       "      <td>2020-10-14 04:00:00+00:00</td>\n",
       "      <td>271.82</td>\n",
       "      <td>278.75</td>\n",
       "      <td>271.50</td>\n",
       "      <td>277.620</td>\n",
       "      <td>-5.800</td>\n",
       "      <td>7.25</td>\n",
       "      <td>0</td>\n",
       "    </tr>\n",
       "    <tr>\n",
       "      <th>3</th>\n",
       "      <td>2020-10-15 04:00:00+00:00</td>\n",
       "      <td>266.72</td>\n",
       "      <td>269.04</td>\n",
       "      <td>263.67</td>\n",
       "      <td>267.600</td>\n",
       "      <td>-0.880</td>\n",
       "      <td>5.37</td>\n",
       "      <td>0</td>\n",
       "    </tr>\n",
       "    <tr>\n",
       "      <th>4</th>\n",
       "      <td>2020-10-16 04:00:00+00:00</td>\n",
       "      <td>265.93</td>\n",
       "      <td>271.37</td>\n",
       "      <td>265.30</td>\n",
       "      <td>267.375</td>\n",
       "      <td>-1.445</td>\n",
       "      <td>6.07</td>\n",
       "      <td>0</td>\n",
       "    </tr>\n",
       "  </tbody>\n",
       "</table>\n",
       "</div>"
      ],
      "text/plain": [
       "                  timestamp   close    high     low     open  body_size  \\\n",
       "0 2020-10-12 04:00:00+00:00  275.75  280.18  267.87  270.200      5.550   \n",
       "1 2020-10-13 04:00:00+00:00  276.14  279.10  273.39  277.580     -1.440   \n",
       "2 2020-10-14 04:00:00+00:00  271.82  278.75  271.50  277.620     -5.800   \n",
       "3 2020-10-15 04:00:00+00:00  266.72  269.04  263.67  267.600     -0.880   \n",
       "4 2020-10-16 04:00:00+00:00  265.93  271.37  265.30  267.375     -1.445   \n",
       "\n",
       "   candle_size  card_count  \n",
       "0        12.31           0  \n",
       "1         5.71           0  \n",
       "2         7.25           0  \n",
       "3         5.37           0  \n",
       "4         6.07           0  "
      ]
     },
     "execution_count": 24,
     "metadata": {},
     "output_type": "execute_result"
    }
   ],
   "source": [
    "# initialize variables to be used in calculations\n",
    "max_body_size = stock_data[\"body_size\"].max()\n",
    "min_candle_size = stock_data[\"candle_size\"].min()\n",
    "current_count = 0\n",
    "threshold = 2\n",
    "stock_data[\"card_count\"] = current_count\n",
    "\n",
    "if stock_data.iloc[0][4] > 0:\n",
    "    previous_candle = 1\n",
    "elif stock_data.iloc[0][4] == 0:\n",
    "    previous_candle = 0\n",
    "else:\n",
    "    previous_candle = -1\n",
    "\n",
    "number_of_rows = len(stock_data)\n",
    "row_counter = 0\n",
    "\n",
    "print(max_body_size)\n",
    "print(min_candle_size)\n",
    "print(previous_candle)\n",
    "print(stock_data.iloc[0][4])\n",
    "print(number_of_rows)\n",
    "stock_data.head()"
   ]
  },
  {
   "cell_type": "code",
   "execution_count": 25,
   "metadata": {},
   "outputs": [
    {
     "name": "stderr",
     "output_type": "stream",
     "text": [
      "C:\\Users\\mrjwi\\AppData\\Local\\Temp\\ipykernel_49004\\1713496406.py:5: FutureWarning: Series.__getitem__ treating keys as positions is deprecated. In a future version, integer keys will always be treated as labels (consistent with DataFrame behavior). To access a value by position, use `ser.iloc[pos]`\n",
      "  previous_close = stock_data.iloc[0][0]\n",
      "C:\\Users\\mrjwi\\AppData\\Local\\Temp\\ipykernel_49004\\1713496406.py:6: FutureWarning: Series.__getitem__ treating keys as positions is deprecated. In a future version, integer keys will always be treated as labels (consistent with DataFrame behavior). To access a value by position, use `ser.iloc[pos]`\n",
      "  previous_high = stock_data.iloc[0][1]\n",
      "C:\\Users\\mrjwi\\AppData\\Local\\Temp\\ipykernel_49004\\1713496406.py:7: FutureWarning: Series.__getitem__ treating keys as positions is deprecated. In a future version, integer keys will always be treated as labels (consistent with DataFrame behavior). To access a value by position, use `ser.iloc[pos]`\n",
      "  previous_low = stock_data.iloc[0][2]\n",
      "C:\\Users\\mrjwi\\AppData\\Local\\Temp\\ipykernel_49004\\1713496406.py:8: FutureWarning: Series.__getitem__ treating keys as positions is deprecated. In a future version, integer keys will always be treated as labels (consistent with DataFrame behavior). To access a value by position, use `ser.iloc[pos]`\n",
      "  previous_open = stock_data.iloc[0][3]\n",
      "C:\\Users\\mrjwi\\AppData\\Local\\Temp\\ipykernel_49004\\1713496406.py:9: FutureWarning: Series.__getitem__ treating keys as positions is deprecated. In a future version, integer keys will always be treated as labels (consistent with DataFrame behavior). To access a value by position, use `ser.iloc[pos]`\n",
      "  previous_body_size = stock_data.iloc[0][4]\n",
      "C:\\Users\\mrjwi\\AppData\\Local\\Temp\\ipykernel_49004\\1713496406.py:10: FutureWarning: Series.__getitem__ treating keys as positions is deprecated. In a future version, integer keys will always be treated as labels (consistent with DataFrame behavior). To access a value by position, use `ser.iloc[pos]`\n",
      "  previous_candle_size = stock_data.iloc[0][5]\n",
      "C:\\Users\\mrjwi\\AppData\\Local\\Temp\\ipykernel_49004\\1713496406.py:21: FutureWarning: Series.__getitem__ treating keys as positions is deprecated. In a future version, integer keys will always be treated as labels (consistent with DataFrame behavior). To access a value by position, use `ser.iloc[pos]`\n",
      "  current_close = row[0]\n",
      "C:\\Users\\mrjwi\\AppData\\Local\\Temp\\ipykernel_49004\\1713496406.py:22: FutureWarning: Series.__getitem__ treating keys as positions is deprecated. In a future version, integer keys will always be treated as labels (consistent with DataFrame behavior). To access a value by position, use `ser.iloc[pos]`\n",
      "  current_high = row[1]\n",
      "C:\\Users\\mrjwi\\AppData\\Local\\Temp\\ipykernel_49004\\1713496406.py:23: FutureWarning: Series.__getitem__ treating keys as positions is deprecated. In a future version, integer keys will always be treated as labels (consistent with DataFrame behavior). To access a value by position, use `ser.iloc[pos]`\n",
      "  current_low = row[2]\n",
      "C:\\Users\\mrjwi\\AppData\\Local\\Temp\\ipykernel_49004\\1713496406.py:24: FutureWarning: Series.__getitem__ treating keys as positions is deprecated. In a future version, integer keys will always be treated as labels (consistent with DataFrame behavior). To access a value by position, use `ser.iloc[pos]`\n",
      "  current_open = row[3]\n",
      "C:\\Users\\mrjwi\\AppData\\Local\\Temp\\ipykernel_49004\\1713496406.py:25: FutureWarning: Series.__getitem__ treating keys as positions is deprecated. In a future version, integer keys will always be treated as labels (consistent with DataFrame behavior). To access a value by position, use `ser.iloc[pos]`\n",
      "  current_body_size = row[4]\n",
      "C:\\Users\\mrjwi\\AppData\\Local\\Temp\\ipykernel_49004\\1713496406.py:26: FutureWarning: Series.__getitem__ treating keys as positions is deprecated. In a future version, integer keys will always be treated as labels (consistent with DataFrame behavior). To access a value by position, use `ser.iloc[pos]`\n",
      "  current_candle_size = row[5]\n",
      "C:\\Users\\mrjwi\\AppData\\Local\\Temp\\ipykernel_49004\\1713496406.py:61: FutureWarning: Series.__getitem__ treating keys as positions is deprecated. In a future version, integer keys will always be treated as labels (consistent with DataFrame behavior). To access a value by position, use `ser.iloc[pos]`\n",
      "  previous_close = row[0]\n",
      "C:\\Users\\mrjwi\\AppData\\Local\\Temp\\ipykernel_49004\\1713496406.py:62: FutureWarning: Series.__getitem__ treating keys as positions is deprecated. In a future version, integer keys will always be treated as labels (consistent with DataFrame behavior). To access a value by position, use `ser.iloc[pos]`\n",
      "  previous_high = row[1]\n",
      "C:\\Users\\mrjwi\\AppData\\Local\\Temp\\ipykernel_49004\\1713496406.py:63: FutureWarning: Series.__getitem__ treating keys as positions is deprecated. In a future version, integer keys will always be treated as labels (consistent with DataFrame behavior). To access a value by position, use `ser.iloc[pos]`\n",
      "  previous_low = row[2]\n",
      "C:\\Users\\mrjwi\\AppData\\Local\\Temp\\ipykernel_49004\\1713496406.py:64: FutureWarning: Series.__getitem__ treating keys as positions is deprecated. In a future version, integer keys will always be treated as labels (consistent with DataFrame behavior). To access a value by position, use `ser.iloc[pos]`\n",
      "  previous_open = row[3]\n",
      "C:\\Users\\mrjwi\\AppData\\Local\\Temp\\ipykernel_49004\\1713496406.py:65: FutureWarning: Series.__getitem__ treating keys as positions is deprecated. In a future version, integer keys will always be treated as labels (consistent with DataFrame behavior). To access a value by position, use `ser.iloc[pos]`\n",
      "  previous_body_size = row[4]\n",
      "C:\\Users\\mrjwi\\AppData\\Local\\Temp\\ipykernel_49004\\1713496406.py:66: FutureWarning: Series.__getitem__ treating keys as positions is deprecated. In a future version, integer keys will always be treated as labels (consistent with DataFrame behavior). To access a value by position, use `ser.iloc[pos]`\n",
      "  previous_candle_size = row[5]\n"
     ]
    },
    {
     "data": {
      "text/html": [
       "<div>\n",
       "<style scoped>\n",
       "    .dataframe tbody tr th:only-of-type {\n",
       "        vertical-align: middle;\n",
       "    }\n",
       "\n",
       "    .dataframe tbody tr th {\n",
       "        vertical-align: top;\n",
       "    }\n",
       "\n",
       "    .dataframe thead th {\n",
       "        text-align: right;\n",
       "    }\n",
       "</style>\n",
       "<table border=\"1\" class=\"dataframe\">\n",
       "  <thead>\n",
       "    <tr style=\"text-align: right;\">\n",
       "      <th></th>\n",
       "      <th>close</th>\n",
       "      <th>high</th>\n",
       "      <th>low</th>\n",
       "      <th>open</th>\n",
       "    </tr>\n",
       "    <tr>\n",
       "      <th>timestamp</th>\n",
       "      <th></th>\n",
       "      <th></th>\n",
       "      <th></th>\n",
       "      <th></th>\n",
       "    </tr>\n",
       "  </thead>\n",
       "  <tbody>\n",
       "    <tr>\n",
       "      <th>2020-10-12 04:00:00+00:00</th>\n",
       "      <td>275.75</td>\n",
       "      <td>280.18</td>\n",
       "      <td>267.87</td>\n",
       "      <td>270.200</td>\n",
       "    </tr>\n",
       "    <tr>\n",
       "      <th>2020-10-13 04:00:00+00:00</th>\n",
       "      <td>276.14</td>\n",
       "      <td>279.10</td>\n",
       "      <td>273.39</td>\n",
       "      <td>277.580</td>\n",
       "    </tr>\n",
       "    <tr>\n",
       "      <th>2020-10-14 04:00:00+00:00</th>\n",
       "      <td>271.82</td>\n",
       "      <td>278.75</td>\n",
       "      <td>271.50</td>\n",
       "      <td>277.620</td>\n",
       "    </tr>\n",
       "    <tr>\n",
       "      <th>2020-10-15 04:00:00+00:00</th>\n",
       "      <td>266.72</td>\n",
       "      <td>269.04</td>\n",
       "      <td>263.67</td>\n",
       "      <td>267.600</td>\n",
       "    </tr>\n",
       "    <tr>\n",
       "      <th>2020-10-16 04:00:00+00:00</th>\n",
       "      <td>265.93</td>\n",
       "      <td>271.37</td>\n",
       "      <td>265.30</td>\n",
       "      <td>267.375</td>\n",
       "    </tr>\n",
       "  </tbody>\n",
       "</table>\n",
       "</div>"
      ],
      "text/plain": [
       "                            close    high     low     open\n",
       "timestamp                                                 \n",
       "2020-10-12 04:00:00+00:00  275.75  280.18  267.87  270.200\n",
       "2020-10-13 04:00:00+00:00  276.14  279.10  273.39  277.580\n",
       "2020-10-14 04:00:00+00:00  271.82  278.75  271.50  277.620\n",
       "2020-10-15 04:00:00+00:00  266.72  269.04  263.67  267.600\n",
       "2020-10-16 04:00:00+00:00  265.93  271.37  265.30  267.375"
      ]
     },
     "metadata": {},
     "output_type": "display_data"
    },
    {
     "name": "stdout",
     "output_type": "stream",
     "text": [
      "         Date  Initial_Investment  Amount  Number_of_Shares  \\\n",
      "4  2020-12-12               10000   10000                 0   \n",
      "\n",
      "   Investment_Bought  Profits  \n",
      "4                  0        0  \n"
     ]
    },
    {
     "data": {
      "text/html": [
       "<div>\n",
       "<style scoped>\n",
       "    .dataframe tbody tr th:only-of-type {\n",
       "        vertical-align: middle;\n",
       "    }\n",
       "\n",
       "    .dataframe tbody tr th {\n",
       "        vertical-align: top;\n",
       "    }\n",
       "\n",
       "    .dataframe thead th {\n",
       "        text-align: right;\n",
       "    }\n",
       "</style>\n",
       "<table border=\"1\" class=\"dataframe\">\n",
       "  <thead>\n",
       "    <tr style=\"text-align: right;\">\n",
       "      <th></th>\n",
       "      <th>close</th>\n",
       "      <th>high</th>\n",
       "      <th>low</th>\n",
       "      <th>open</th>\n",
       "    </tr>\n",
       "    <tr>\n",
       "      <th>timestamp</th>\n",
       "      <th></th>\n",
       "      <th></th>\n",
       "      <th></th>\n",
       "      <th></th>\n",
       "    </tr>\n",
       "  </thead>\n",
       "  <tbody>\n",
       "    <tr>\n",
       "      <th>2020-10-12 04:00:00+00:00</th>\n",
       "      <td>275.75</td>\n",
       "      <td>280.18</td>\n",
       "      <td>267.87</td>\n",
       "      <td>270.2000</td>\n",
       "    </tr>\n",
       "    <tr>\n",
       "      <th>2020-10-13 04:00:00+00:00</th>\n",
       "      <td>276.14</td>\n",
       "      <td>279.10</td>\n",
       "      <td>273.39</td>\n",
       "      <td>277.5800</td>\n",
       "    </tr>\n",
       "    <tr>\n",
       "      <th>2020-10-14 04:00:00+00:00</th>\n",
       "      <td>271.82</td>\n",
       "      <td>278.75</td>\n",
       "      <td>271.50</td>\n",
       "      <td>277.6200</td>\n",
       "    </tr>\n",
       "    <tr>\n",
       "      <th>2020-10-15 04:00:00+00:00</th>\n",
       "      <td>266.72</td>\n",
       "      <td>269.04</td>\n",
       "      <td>263.67</td>\n",
       "      <td>267.6000</td>\n",
       "    </tr>\n",
       "    <tr>\n",
       "      <th>2020-10-16 04:00:00+00:00</th>\n",
       "      <td>265.93</td>\n",
       "      <td>271.37</td>\n",
       "      <td>265.30</td>\n",
       "      <td>267.3750</td>\n",
       "    </tr>\n",
       "    <tr>\n",
       "      <th>2020-10-19 04:00:00+00:00</th>\n",
       "      <td>261.40</td>\n",
       "      <td>268.55</td>\n",
       "      <td>259.88</td>\n",
       "      <td>265.5300</td>\n",
       "    </tr>\n",
       "    <tr>\n",
       "      <th>2020-10-20 04:00:00+00:00</th>\n",
       "      <td>267.56</td>\n",
       "      <td>269.70</td>\n",
       "      <td>262.88</td>\n",
       "      <td>263.0600</td>\n",
       "    </tr>\n",
       "    <tr>\n",
       "      <th>2020-10-21 04:00:00+00:00</th>\n",
       "      <td>278.73</td>\n",
       "      <td>283.05</td>\n",
       "      <td>276.37</td>\n",
       "      <td>279.5600</td>\n",
       "    </tr>\n",
       "    <tr>\n",
       "      <th>2020-10-22 04:00:00+00:00</th>\n",
       "      <td>278.12</td>\n",
       "      <td>282.45</td>\n",
       "      <td>275.04</td>\n",
       "      <td>279.8700</td>\n",
       "    </tr>\n",
       "    <tr>\n",
       "      <th>2020-10-23 04:00:00+00:00</th>\n",
       "      <td>284.79</td>\n",
       "      <td>285.24</td>\n",
       "      <td>276.82</td>\n",
       "      <td>278.8024</td>\n",
       "    </tr>\n",
       "    <tr>\n",
       "      <th>2020-10-26 04:00:00+00:00</th>\n",
       "      <td>277.11</td>\n",
       "      <td>285.23</td>\n",
       "      <td>274.26</td>\n",
       "      <td>283.1600</td>\n",
       "    </tr>\n",
       "    <tr>\n",
       "      <th>2020-10-27 04:00:00+00:00</th>\n",
       "      <td>283.29</td>\n",
       "      <td>284.51</td>\n",
       "      <td>276.31</td>\n",
       "      <td>278.7600</td>\n",
       "    </tr>\n",
       "    <tr>\n",
       "      <th>2020-10-28 04:00:00+00:00</th>\n",
       "      <td>267.67</td>\n",
       "      <td>278.79</td>\n",
       "      <td>267.26</td>\n",
       "      <td>278.7900</td>\n",
       "    </tr>\n",
       "    <tr>\n",
       "      <th>2020-10-29 04:00:00+00:00</th>\n",
       "      <td>280.83</td>\n",
       "      <td>283.60</td>\n",
       "      <td>273.78</td>\n",
       "      <td>276.5500</td>\n",
       "    </tr>\n",
       "    <tr>\n",
       "      <th>2020-10-30 04:00:00+00:00</th>\n",
       "      <td>263.11</td>\n",
       "      <td>276.70</td>\n",
       "      <td>259.10</td>\n",
       "      <td>274.5000</td>\n",
       "    </tr>\n",
       "    <tr>\n",
       "      <th>2020-11-02 05:00:00+00:00</th>\n",
       "      <td>261.36</td>\n",
       "      <td>270.47</td>\n",
       "      <td>257.34</td>\n",
       "      <td>264.6000</td>\n",
       "    </tr>\n",
       "    <tr>\n",
       "      <th>2020-11-03 05:00:00+00:00</th>\n",
       "      <td>265.30</td>\n",
       "      <td>270.05</td>\n",
       "      <td>260.88</td>\n",
       "      <td>263.1600</td>\n",
       "    </tr>\n",
       "    <tr>\n",
       "      <th>2020-11-04 05:00:00+00:00</th>\n",
       "      <td>287.38</td>\n",
       "      <td>288.94</td>\n",
       "      <td>278.62</td>\n",
       "      <td>281.0000</td>\n",
       "    </tr>\n",
       "    <tr>\n",
       "      <th>2020-11-05 05:00:00+00:00</th>\n",
       "      <td>294.68</td>\n",
       "      <td>297.38</td>\n",
       "      <td>288.95</td>\n",
       "      <td>291.8965</td>\n",
       "    </tr>\n",
       "    <tr>\n",
       "      <th>2020-11-06 05:00:00+00:00</th>\n",
       "      <td>293.41</td>\n",
       "      <td>294.60</td>\n",
       "      <td>288.06</td>\n",
       "      <td>293.9500</td>\n",
       "    </tr>\n",
       "  </tbody>\n",
       "</table>\n",
       "</div>"
      ],
      "text/plain": [
       "                            close    high     low      open\n",
       "timestamp                                                  \n",
       "2020-10-12 04:00:00+00:00  275.75  280.18  267.87  270.2000\n",
       "2020-10-13 04:00:00+00:00  276.14  279.10  273.39  277.5800\n",
       "2020-10-14 04:00:00+00:00  271.82  278.75  271.50  277.6200\n",
       "2020-10-15 04:00:00+00:00  266.72  269.04  263.67  267.6000\n",
       "2020-10-16 04:00:00+00:00  265.93  271.37  265.30  267.3750\n",
       "2020-10-19 04:00:00+00:00  261.40  268.55  259.88  265.5300\n",
       "2020-10-20 04:00:00+00:00  267.56  269.70  262.88  263.0600\n",
       "2020-10-21 04:00:00+00:00  278.73  283.05  276.37  279.5600\n",
       "2020-10-22 04:00:00+00:00  278.12  282.45  275.04  279.8700\n",
       "2020-10-23 04:00:00+00:00  284.79  285.24  276.82  278.8024\n",
       "2020-10-26 04:00:00+00:00  277.11  285.23  274.26  283.1600\n",
       "2020-10-27 04:00:00+00:00  283.29  284.51  276.31  278.7600\n",
       "2020-10-28 04:00:00+00:00  267.67  278.79  267.26  278.7900\n",
       "2020-10-29 04:00:00+00:00  280.83  283.60  273.78  276.5500\n",
       "2020-10-30 04:00:00+00:00  263.11  276.70  259.10  274.5000\n",
       "2020-11-02 05:00:00+00:00  261.36  270.47  257.34  264.6000\n",
       "2020-11-03 05:00:00+00:00  265.30  270.05  260.88  263.1600\n",
       "2020-11-04 05:00:00+00:00  287.38  288.94  278.62  281.0000\n",
       "2020-11-05 05:00:00+00:00  294.68  297.38  288.95  291.8965\n",
       "2020-11-06 05:00:00+00:00  293.41  294.60  288.06  293.9500"
      ]
     },
     "metadata": {},
     "output_type": "display_data"
    },
    {
     "data": {
      "text/html": [
       "<div>\n",
       "<style scoped>\n",
       "    .dataframe tbody tr th:only-of-type {\n",
       "        vertical-align: middle;\n",
       "    }\n",
       "\n",
       "    .dataframe tbody tr th {\n",
       "        vertical-align: top;\n",
       "    }\n",
       "\n",
       "    .dataframe thead th {\n",
       "        text-align: right;\n",
       "    }\n",
       "</style>\n",
       "<table border=\"1\" class=\"dataframe\">\n",
       "  <thead>\n",
       "    <tr style=\"text-align: right;\">\n",
       "      <th></th>\n",
       "      <th>close</th>\n",
       "      <th>high</th>\n",
       "      <th>low</th>\n",
       "      <th>open</th>\n",
       "    </tr>\n",
       "    <tr>\n",
       "      <th>timestamp</th>\n",
       "      <th></th>\n",
       "      <th></th>\n",
       "      <th></th>\n",
       "      <th></th>\n",
       "    </tr>\n",
       "  </thead>\n",
       "  <tbody>\n",
       "    <tr>\n",
       "      <th>2020-11-30 05:00:00+00:00</th>\n",
       "      <td>276.97</td>\n",
       "      <td>277.7000</td>\n",
       "      <td>271.010</td>\n",
       "      <td>276.130</td>\n",
       "    </tr>\n",
       "    <tr>\n",
       "      <th>2020-12-01 05:00:00+00:00</th>\n",
       "      <td>286.55</td>\n",
       "      <td>289.3000</td>\n",
       "      <td>278.960</td>\n",
       "      <td>279.160</td>\n",
       "    </tr>\n",
       "    <tr>\n",
       "      <th>2020-12-02 05:00:00+00:00</th>\n",
       "      <td>287.52</td>\n",
       "      <td>291.7800</td>\n",
       "      <td>280.825</td>\n",
       "      <td>285.360</td>\n",
       "    </tr>\n",
       "    <tr>\n",
       "      <th>2020-12-03 05:00:00+00:00</th>\n",
       "      <td>281.85</td>\n",
       "      <td>286.6500</td>\n",
       "      <td>281.070</td>\n",
       "      <td>286.250</td>\n",
       "    </tr>\n",
       "    <tr>\n",
       "      <th>2020-12-04 05:00:00+00:00</th>\n",
       "      <td>279.70</td>\n",
       "      <td>283.4600</td>\n",
       "      <td>279.300</td>\n",
       "      <td>280.300</td>\n",
       "    </tr>\n",
       "    <tr>\n",
       "      <th>2020-12-07 05:00:00+00:00</th>\n",
       "      <td>285.58</td>\n",
       "      <td>288.4900</td>\n",
       "      <td>278.200</td>\n",
       "      <td>279.190</td>\n",
       "    </tr>\n",
       "    <tr>\n",
       "      <th>2020-12-08 05:00:00+00:00</th>\n",
       "      <td>283.40</td>\n",
       "      <td>286.4272</td>\n",
       "      <td>281.550</td>\n",
       "      <td>286.010</td>\n",
       "    </tr>\n",
       "    <tr>\n",
       "      <th>2020-12-09 05:00:00+00:00</th>\n",
       "      <td>277.92</td>\n",
       "      <td>287.6300</td>\n",
       "      <td>271.750</td>\n",
       "      <td>283.660</td>\n",
       "    </tr>\n",
       "    <tr>\n",
       "      <th>2020-12-10 05:00:00+00:00</th>\n",
       "      <td>277.12</td>\n",
       "      <td>278.7300</td>\n",
       "      <td>271.860</td>\n",
       "      <td>275.535</td>\n",
       "    </tr>\n",
       "    <tr>\n",
       "      <th>2020-12-11 05:00:00+00:00</th>\n",
       "      <td>273.55</td>\n",
       "      <td>276.4800</td>\n",
       "      <td>270.250</td>\n",
       "      <td>274.530</td>\n",
       "    </tr>\n",
       "  </tbody>\n",
       "</table>\n",
       "</div>"
      ],
      "text/plain": [
       "                            close      high      low     open\n",
       "timestamp                                                    \n",
       "2020-11-30 05:00:00+00:00  276.97  277.7000  271.010  276.130\n",
       "2020-12-01 05:00:00+00:00  286.55  289.3000  278.960  279.160\n",
       "2020-12-02 05:00:00+00:00  287.52  291.7800  280.825  285.360\n",
       "2020-12-03 05:00:00+00:00  281.85  286.6500  281.070  286.250\n",
       "2020-12-04 05:00:00+00:00  279.70  283.4600  279.300  280.300\n",
       "2020-12-07 05:00:00+00:00  285.58  288.4900  278.200  279.190\n",
       "2020-12-08 05:00:00+00:00  283.40  286.4272  281.550  286.010\n",
       "2020-12-09 05:00:00+00:00  277.92  287.6300  271.750  283.660\n",
       "2020-12-10 05:00:00+00:00  277.12  278.7300  271.860  275.535\n",
       "2020-12-11 05:00:00+00:00  273.55  276.4800  270.250  274.530"
      ]
     },
     "metadata": {},
     "output_type": "display_data"
    }
   ],
   "source": [
    "# begin for loop to start calculating each row's data to assign a +1 or -1\n",
    "# to our count and add adjust our current/previous counts accordingly\n",
    "#for index, rows in stock_data.iterrows():\n",
    "current_count = 0\n",
    "previous_close = stock_data.iloc[0][0]\n",
    "previous_high = stock_data.iloc[0][1]\n",
    "previous_low = stock_data.iloc[0][2]\n",
    "previous_open = stock_data.iloc[0][3]\n",
    "previous_body_size = stock_data.iloc[0][4]\n",
    "previous_candle_size = stock_data.iloc[0][5]\n",
    "\n",
    "#for index, row in stock_data.iterrows():\n",
    "for index, row in islice(stock_data.iterrows(), 1, None):\n",
    "# assign and document the current card count for the current day    \n",
    "    \n",
    "    if index == (number_of_rows):\n",
    "        break\n",
    "#assign previous day numbers to work with\n",
    "    \n",
    "# assign current day numbers to work with\n",
    "    current_close = row[0]\n",
    "    current_high = row[1]\n",
    "    current_low = row[2]\n",
    "    current_open = row[3]\n",
    "    current_body_size = row[4]\n",
    "    current_candle_size = row[5]\n",
    "    \n",
    "    #if current_body_size > 0:\n",
    "    #    current_count = current_count + 1\n",
    "    #    print(current_body_size)\n",
    "    #if current_body_size < 0:\n",
    "        \n",
    "    #    current_count = current_count - 1\n",
    "    #    print(current_body_size)\n",
    "\n",
    "    # bullish hammer\n",
    "    if (current_body_size > 0) and (current_body_size*2) < (current_candle_size):\n",
    "        current_count = current_count + 1\n",
    "    # bearish hammer\n",
    "    elif (current_body_size < 0) and ((np.absolute(current_body_size)*2) < (current_candle_size)):\n",
    "        current_count = current_count - 1\n",
    "    # bullish engulfing candle\n",
    "    elif (current_body_size > 0) and (previous_body_size < 1) and (current_body_size > previous_body_size):\n",
    "        current_count = current_count + 1\n",
    "    # bearish engulfing candle\n",
    "    elif (current_body_size < 0) and (previous_body_size > 1) and (np.absolute(current_body_size) > (previous_body_size)):\n",
    "        current_count = current_count - 1\n",
    "    # bullish doji candle\n",
    "    # elif (previous_count < 0) and (np.absolute(current_body_size) < (current_close * max_body_size)):\n",
    "    #     current_count = current_count + 1\n",
    "\n",
    "\n",
    "    if current_count > threshold:\n",
    "        current_count = threshold\n",
    "    elif current_count < -(threshold):\n",
    "        current_count = -(threshold)\n",
    "#\n",
    "\n",
    "\n",
    "\n",
    "previous_close = row[0]\n",
    "previous_high = row[1]\n",
    "previous_low = row[2]\n",
    "previous_open = row[3]\n",
    "previous_body_size = row[4]\n",
    "previous_candle_size = row[5]\n",
    "\n",
    "stock_data.at[index,\"card_count\"] = current_count\n",
    "\n",
    "\n",
    "\n",
    "\n",
    "\n",
    "\n",
    "\n",
    "# Create an empty DataFrame to track the trading strategy\n",
    "strategy_df = pd.DataFrame(columns=[\"Date\", \"Initial_Investment\", \"Amount\", \"Number_of_Shares\", \"Investment_Bought\", \"Profits\"])\n",
    "\n",
    "strategy_df = pd.DataFrame(strategy_df)\n",
    "strategy_df.head()\n",
    "# Initialize \n",
    "# the initial investment\n",
    "initial_investment = 10000\n",
    "\n",
    "# Initialize other variables\n",
    "amount = initial_investment\n",
    "number_of_shares = 0  # No initial position\n",
    "investment_bought = 0\n",
    "profits = 0\n",
    "\n",
    "# Define a list of threshold values for buy and sell\n",
    "threshold = 2  # Adjust this threshold as needed\n",
    "start_date = pd.Timestamp(\"2020-10-10\", tz=\"America/New_York\").isoformat()\n",
    "end_date = pd.Timestamp(\"2020-12-12\", tz=\"America/New_York\").isoformat()\n",
    "# Calls the stock data from the period of time desired in the desired time increment\n",
    "stock_data = api.get_bars(\n",
    "    stock_symbol, \n",
    "    time_frame, \n",
    "    start = start_date, \n",
    "    end = end_date\n",
    ").df\n",
    "# Drop columns which aren't needed(trade_count, volume, vwap) and display the results\n",
    "stock_data = stock_data.drop(columns=['trade_count','volume','vwap'])\n",
    "display(stock_data.head())\n",
    "# Define a list of dates (assuming you have a date for each trading day)\n",
    "dates = [\"2020-10-10\", \"2020-10-12\", \"2020-11-03\", \"2020-11-04\", \"2020-12-12\"]\n",
    "thresholds = [2, -3, 0, 1, -2]  # Example threshold values for each day\n",
    "# Iterate through each trading day\n",
    "for i in range(len(dates)):\n",
    "    date = dates[i]\n",
    "    threshold_value = thresholds[i]\n",
    "    # Check if you can buy or sell based on the threshold\n",
    "    if threshold_value > 2 and number_of_shares == 0:\n",
    "        # Buy condition: Invest all the available amount\n",
    "        investment_bought = amount\n",
    "        number_of_shares = amount\n",
    "        amount = 0  # No cash remaining\n",
    "    \n",
    "    elif threshold_value < -2 and number_of_shares > 0:\n",
    "        # Sell condition: Sell all the shares you have\n",
    "        amount += number_of_shares\n",
    "        profits += amount - investment_bought\n",
    "        investment_bought = 0\n",
    "        number_of_shares = 0\n",
    "         # Update the DataFrame with the trading day results\n",
    "  # Update the DataFrame with the trading day results\n",
    "strategy_df.loc[i] = {\n",
    "    \"Date\": date,\n",
    "    \"Initial_Investment\": initial_investment,\n",
    "    \"Amount\": amount,\n",
    "    \"Number_of_Shares\": number_of_shares,\n",
    "    \"Investment_Bought\": investment_bought,\n",
    "    \"Profits\": profits\n",
    "}\n",
    "\n",
    "\n",
    "# Display the trading strategy DataFrame\n",
    "print(strategy_df)\n",
    "\n",
    "\n",
    "    \n",
    "\n",
    "# previous_close = row[0]\n",
    "# previous_high = row[1]\n",
    "# previous_low = row[2]\n",
    "# previous_open = row[3]\n",
    "# previous_body_size = row[4]\n",
    "# previous_candle_size = row[5]\n",
    "\n",
    "# stock_data.at[index,\"card_count\"] = current_count\n",
    "\n",
    "display(stock_data.head(20))\n",
    "display(stock_data.tail(10))\n",
    "  "
   ]
  },
  {
   "cell_type": "code",
   "execution_count": 24,
   "metadata": {},
   "outputs": [
    {
     "data": {
      "text/html": [
       "<div>\n",
       "<style scoped>\n",
       "    .dataframe tbody tr th:only-of-type {\n",
       "        vertical-align: middle;\n",
       "    }\n",
       "\n",
       "    .dataframe tbody tr th {\n",
       "        vertical-align: top;\n",
       "    }\n",
       "\n",
       "    .dataframe thead th {\n",
       "        text-align: right;\n",
       "    }\n",
       "</style>\n",
       "<table border=\"1\" class=\"dataframe\">\n",
       "  <thead>\n",
       "    <tr style=\"text-align: right;\">\n",
       "      <th></th>\n",
       "      <th>timestamp</th>\n",
       "      <th>close</th>\n",
       "      <th>high</th>\n",
       "      <th>low</th>\n",
       "      <th>open</th>\n",
       "      <th>card_count</th>\n",
       "    </tr>\n",
       "  </thead>\n",
       "  <tbody>\n",
       "    <tr>\n",
       "      <th>0</th>\n",
       "      <td>2020-10-12 04:00:00+00:00</td>\n",
       "      <td>275.75</td>\n",
       "      <td>280.18</td>\n",
       "      <td>267.87</td>\n",
       "      <td>270.200</td>\n",
       "      <td>NaN</td>\n",
       "    </tr>\n",
       "    <tr>\n",
       "      <th>1</th>\n",
       "      <td>2020-10-13 04:00:00+00:00</td>\n",
       "      <td>276.14</td>\n",
       "      <td>279.10</td>\n",
       "      <td>273.39</td>\n",
       "      <td>277.580</td>\n",
       "      <td>NaN</td>\n",
       "    </tr>\n",
       "    <tr>\n",
       "      <th>2</th>\n",
       "      <td>2020-10-14 04:00:00+00:00</td>\n",
       "      <td>271.82</td>\n",
       "      <td>278.75</td>\n",
       "      <td>271.50</td>\n",
       "      <td>277.620</td>\n",
       "      <td>NaN</td>\n",
       "    </tr>\n",
       "    <tr>\n",
       "      <th>3</th>\n",
       "      <td>2020-10-15 04:00:00+00:00</td>\n",
       "      <td>266.72</td>\n",
       "      <td>269.04</td>\n",
       "      <td>263.67</td>\n",
       "      <td>267.600</td>\n",
       "      <td>NaN</td>\n",
       "    </tr>\n",
       "    <tr>\n",
       "      <th>4</th>\n",
       "      <td>2020-10-16 04:00:00+00:00</td>\n",
       "      <td>265.93</td>\n",
       "      <td>271.37</td>\n",
       "      <td>265.30</td>\n",
       "      <td>267.375</td>\n",
       "      <td>NaN</td>\n",
       "    </tr>\n",
       "  </tbody>\n",
       "</table>\n",
       "</div>"
      ],
      "text/plain": [
       "                   timestamp   close    high     low     open  card_count\n",
       "0  2020-10-12 04:00:00+00:00  275.75  280.18  267.87  270.200         NaN\n",
       "1  2020-10-13 04:00:00+00:00  276.14  279.10  273.39  277.580         NaN\n",
       "2  2020-10-14 04:00:00+00:00  271.82  278.75  271.50  277.620         NaN\n",
       "3  2020-10-15 04:00:00+00:00  266.72  269.04  263.67  267.600         NaN\n",
       "4  2020-10-16 04:00:00+00:00  265.93  271.37  265.30  267.375         NaN"
      ]
     },
     "execution_count": 24,
     "metadata": {},
     "output_type": "execute_result"
    }
   ],
   "source": [
    "stock_data.reset_index(inplace = True)\n",
    "stock_data.head()"
   ]
  },
  {
   "cell_type": "code",
   "execution_count": null,
   "metadata": {},
   "outputs": [],
   "source": []
  }
 ],
 "metadata": {
  "kernelspec": {
   "display_name": "API",
   "language": "python",
   "name": "python3"
  },
  "language_info": {
   "codemirror_mode": {
    "name": "ipython",
    "version": 3
   },
   "file_extension": ".py",
   "mimetype": "text/x-python",
   "name": "python",
   "nbconvert_exporter": "python",
   "pygments_lexer": "ipython3",
   "version": "3.11.5"
  }
 },
 "nbformat": 4,
 "nbformat_minor": 2
}
