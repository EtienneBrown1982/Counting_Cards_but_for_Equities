{
 "cells": [
  {
   "cell_type": "code",
   "execution_count": 1,
   "id": "f4263324-f778-4708-8c07-b862045ea216",
   "metadata": {
    "tags": []
   },
   "outputs": [],
   "source": [
    "#import libraries\n",
    "\n",
    "import plotly.graph_objects as go\n",
    "import plotly.express as px\n",
    "import os\n",
    "import altair as alt\n",
    "from vega_datasets import data\n",
    "import pandas as pd\n",
    "import hvplot\n",
    "import matplotlib\n",
    "import requests\n",
    "import alpaca_trade_api as tradeapi\n",
    "from dotenv import load_dotenv\n",
    "from datetime import datetime\n",
    "import json"
   ]
  },
  {
   "cell_type": "code",
   "execution_count": 2,
   "id": "7f2f36aa-35d8-4be2-ac98-777325fef000",
   "metadata": {
    "tags": []
   },
   "outputs": [
    {
     "data": {
      "text/plain": [
       "True"
      ]
     },
     "execution_count": 2,
     "metadata": {},
     "output_type": "execute_result"
    }
   ],
   "source": [
    "load_dotenv()"
   ]
  },
  {
   "cell_type": "code",
   "execution_count": 3,
   "id": "cee19603-87df-45e5-9ff5-7d78cf614d77",
   "metadata": {
    "tags": []
   },
   "outputs": [],
   "source": [
    "# Set Alpaca API key and secret\n",
    "alpaca_api_key = os.getenv(\"ALPACA_API_KEY\")\n",
    "alpaca_secret_key = os.getenv(\"ALPACA_SECRET_KEY\")\n",
    "\n"
   ]
  },
  {
   "cell_type": "code",
   "execution_count": 4,
   "id": "5edbf900",
   "metadata": {
    "tags": []
   },
   "outputs": [],
   "source": [
    "# Instantiate REST API\n",
    "\n",
    "api = tradeapi.REST(\n",
    "    alpaca_api_key,\n",
    "    alpaca_secret_key,\n",
    "    #base_url,\n",
    "    api_version = \"v2\"\n",
    ")"
   ]
  },
  {
   "cell_type": "code",
   "execution_count": 6,
   "id": "2df50d95",
   "metadata": {
    "tags": []
   },
   "outputs": [],
   "source": [
    "# Get user input for the stock symbol\n",
    "# stock_symbol = input(\"Enter the stock symbol you want to analyze (e.g., AAPL): \")\n",
    "stock_symbol = \"META\""
   ]
  },
  {
   "cell_type": "code",
   "execution_count": 5,
   "id": "a77d1e43",
   "metadata": {
    "tags": []
   },
   "outputs": [],
   "source": [
    "# Establish what time frame increment we will be looking at\n",
    "time_frame = \"1Day\""
   ]
  },
  {
   "cell_type": "code",
   "execution_count": 7,
   "id": "28a2aa39",
   "metadata": {
    "tags": []
   },
   "outputs": [],
   "source": [
    "# Get user input for the start date in datetime format\n",
    "# start_date_str = input(\"Enter the start date (YYYY-MM-DD): \")\n",
    "# start_date = datetime.strptime(start_date_str, \"%Y-%m-%d\")\n",
    "start_date = pd.Timestamp(\"2020-10-10\", tz=\"America/New_York\").isoformat()\n"
   ]
  },
  {
   "cell_type": "code",
   "execution_count": 8,
   "id": "bcb098d4",
   "metadata": {
    "tags": []
   },
   "outputs": [],
   "source": [
    "# Get user input for the end date in datetime format\n",
    "# end_date_str = input(\"Enter the end date (YYYY-MM-DD): \")\n",
    "# end_date = datetime.strptime(end_date_str, \"%Y-%m-%d\")\n",
    "end_date = pd.Timestamp(\"2020-12-12\", tz=\"America/New_York\").isoformat()"
   ]
  },
  {
   "cell_type": "code",
   "execution_count": 9,
   "id": "51dacbe3",
   "metadata": {
    "tags": []
   },
   "outputs": [],
   "source": [
    "# trading_days = end_date - start_date\n",
    "\n",
    "\n",
    "# print(f\"The timeframe between {start_date_str} and {end_date_str} is {trading_days.days} days.\")"
   ]
  },
  {
   "cell_type": "code",
   "execution_count": 9,
   "id": "eb624294",
   "metadata": {
    "tags": []
   },
   "outputs": [],
   "source": [
    "# Calls the stock data from the period of time desired in the desired time increment\n",
    "stock_data = api.get_bars(\n",
    "    stock_symbol, \n",
    "    time_frame, \n",
    "    start = start_date, \n",
    "    end = end_date\n",
    ").df"
   ]
  },
  {
   "cell_type": "code",
   "execution_count": 10,
   "id": "5574487e",
   "metadata": {
    "tags": []
   },
   "outputs": [
    {
     "name": "stdout",
     "output_type": "stream",
     "text": [
      "<class 'pandas.core.frame.DataFrame'>\n",
      "DatetimeIndex: 44 entries, 2020-10-12 04:00:00+00:00 to 2020-12-11 05:00:00+00:00\n",
      "Data columns (total 7 columns):\n",
      " #   Column       Non-Null Count  Dtype  \n",
      "---  ------       --------------  -----  \n",
      " 0   close        44 non-null     float64\n",
      " 1   high         44 non-null     float64\n",
      " 2   low          44 non-null     float64\n",
      " 3   trade_count  44 non-null     int64  \n",
      " 4   open         44 non-null     float64\n",
      " 5   volume       44 non-null     int64  \n",
      " 6   vwap         44 non-null     float64\n",
      "dtypes: float64(5), int64(2)\n",
      "memory usage: 2.8 KB\n"
     ]
    },
    {
     "data": {
      "text/html": [
       "<div>\n",
       "<style scoped>\n",
       "    .dataframe tbody tr th:only-of-type {\n",
       "        vertical-align: middle;\n",
       "    }\n",
       "\n",
       "    .dataframe tbody tr th {\n",
       "        vertical-align: top;\n",
       "    }\n",
       "\n",
       "    .dataframe thead th {\n",
       "        text-align: right;\n",
       "    }\n",
       "</style>\n",
       "<table border=\"1\" class=\"dataframe\">\n",
       "  <thead>\n",
       "    <tr style=\"text-align: right;\">\n",
       "      <th></th>\n",
       "      <th>close</th>\n",
       "      <th>high</th>\n",
       "      <th>low</th>\n",
       "      <th>trade_count</th>\n",
       "      <th>open</th>\n",
       "      <th>volume</th>\n",
       "      <th>vwap</th>\n",
       "    </tr>\n",
       "    <tr>\n",
       "      <th>timestamp</th>\n",
       "      <th></th>\n",
       "      <th></th>\n",
       "      <th></th>\n",
       "      <th></th>\n",
       "      <th></th>\n",
       "      <th></th>\n",
       "      <th></th>\n",
       "    </tr>\n",
       "  </thead>\n",
       "  <tbody>\n",
       "    <tr>\n",
       "      <th>2020-10-12 04:00:00+00:00</th>\n",
       "      <td>275.75</td>\n",
       "      <td>280.18</td>\n",
       "      <td>267.87</td>\n",
       "      <td>292730</td>\n",
       "      <td>270.200</td>\n",
       "      <td>32999660</td>\n",
       "      <td>275.227035</td>\n",
       "    </tr>\n",
       "    <tr>\n",
       "      <th>2020-10-13 04:00:00+00:00</th>\n",
       "      <td>276.14</td>\n",
       "      <td>279.10</td>\n",
       "      <td>273.39</td>\n",
       "      <td>181923</td>\n",
       "      <td>277.580</td>\n",
       "      <td>19505211</td>\n",
       "      <td>276.201124</td>\n",
       "    </tr>\n",
       "    <tr>\n",
       "      <th>2020-10-14 04:00:00+00:00</th>\n",
       "      <td>271.82</td>\n",
       "      <td>278.75</td>\n",
       "      <td>271.50</td>\n",
       "      <td>151136</td>\n",
       "      <td>277.620</td>\n",
       "      <td>16590158</td>\n",
       "      <td>273.981850</td>\n",
       "    </tr>\n",
       "    <tr>\n",
       "      <th>2020-10-15 04:00:00+00:00</th>\n",
       "      <td>266.72</td>\n",
       "      <td>269.04</td>\n",
       "      <td>263.67</td>\n",
       "      <td>182305</td>\n",
       "      <td>267.600</td>\n",
       "      <td>16330684</td>\n",
       "      <td>266.033730</td>\n",
       "    </tr>\n",
       "    <tr>\n",
       "      <th>2020-10-16 04:00:00+00:00</th>\n",
       "      <td>265.93</td>\n",
       "      <td>271.37</td>\n",
       "      <td>265.30</td>\n",
       "      <td>157636</td>\n",
       "      <td>267.375</td>\n",
       "      <td>18430693</td>\n",
       "      <td>267.458035</td>\n",
       "    </tr>\n",
       "  </tbody>\n",
       "</table>\n",
       "</div>"
      ],
      "text/plain": [
       "                            close    high     low  trade_count     open  \\\n",
       "timestamp                                                                 \n",
       "2020-10-12 04:00:00+00:00  275.75  280.18  267.87       292730  270.200   \n",
       "2020-10-13 04:00:00+00:00  276.14  279.10  273.39       181923  277.580   \n",
       "2020-10-14 04:00:00+00:00  271.82  278.75  271.50       151136  277.620   \n",
       "2020-10-15 04:00:00+00:00  266.72  269.04  263.67       182305  267.600   \n",
       "2020-10-16 04:00:00+00:00  265.93  271.37  265.30       157636  267.375   \n",
       "\n",
       "                             volume        vwap  \n",
       "timestamp                                        \n",
       "2020-10-12 04:00:00+00:00  32999660  275.227035  \n",
       "2020-10-13 04:00:00+00:00  19505211  276.201124  \n",
       "2020-10-14 04:00:00+00:00  16590158  273.981850  \n",
       "2020-10-15 04:00:00+00:00  16330684  266.033730  \n",
       "2020-10-16 04:00:00+00:00  18430693  267.458035  "
      ]
     },
     "metadata": {},
     "output_type": "display_data"
    },
    {
     "data": {
      "text/html": [
       "<div>\n",
       "<style scoped>\n",
       "    .dataframe tbody tr th:only-of-type {\n",
       "        vertical-align: middle;\n",
       "    }\n",
       "\n",
       "    .dataframe tbody tr th {\n",
       "        vertical-align: top;\n",
       "    }\n",
       "\n",
       "    .dataframe thead th {\n",
       "        text-align: right;\n",
       "    }\n",
       "</style>\n",
       "<table border=\"1\" class=\"dataframe\">\n",
       "  <thead>\n",
       "    <tr style=\"text-align: right;\">\n",
       "      <th></th>\n",
       "      <th>close</th>\n",
       "      <th>high</th>\n",
       "      <th>low</th>\n",
       "      <th>trade_count</th>\n",
       "      <th>open</th>\n",
       "      <th>volume</th>\n",
       "      <th>vwap</th>\n",
       "    </tr>\n",
       "    <tr>\n",
       "      <th>timestamp</th>\n",
       "      <th></th>\n",
       "      <th></th>\n",
       "      <th></th>\n",
       "      <th></th>\n",
       "      <th></th>\n",
       "      <th></th>\n",
       "      <th></th>\n",
       "    </tr>\n",
       "  </thead>\n",
       "  <tbody>\n",
       "    <tr>\n",
       "      <th>2020-12-07 05:00:00+00:00</th>\n",
       "      <td>285.58</td>\n",
       "      <td>288.4900</td>\n",
       "      <td>278.20</td>\n",
       "      <td>153281</td>\n",
       "      <td>279.190</td>\n",
       "      <td>14005842</td>\n",
       "      <td>285.751969</td>\n",
       "    </tr>\n",
       "    <tr>\n",
       "      <th>2020-12-08 05:00:00+00:00</th>\n",
       "      <td>283.40</td>\n",
       "      <td>286.4272</td>\n",
       "      <td>281.55</td>\n",
       "      <td>136454</td>\n",
       "      <td>286.010</td>\n",
       "      <td>11974657</td>\n",
       "      <td>283.705184</td>\n",
       "    </tr>\n",
       "    <tr>\n",
       "      <th>2020-12-09 05:00:00+00:00</th>\n",
       "      <td>277.92</td>\n",
       "      <td>287.6300</td>\n",
       "      <td>271.75</td>\n",
       "      <td>312698</td>\n",
       "      <td>283.660</td>\n",
       "      <td>26765687</td>\n",
       "      <td>278.642389</td>\n",
       "    </tr>\n",
       "    <tr>\n",
       "      <th>2020-12-10 05:00:00+00:00</th>\n",
       "      <td>277.12</td>\n",
       "      <td>278.7300</td>\n",
       "      <td>271.86</td>\n",
       "      <td>209825</td>\n",
       "      <td>275.535</td>\n",
       "      <td>21534833</td>\n",
       "      <td>276.018129</td>\n",
       "    </tr>\n",
       "    <tr>\n",
       "      <th>2020-12-11 05:00:00+00:00</th>\n",
       "      <td>273.55</td>\n",
       "      <td>276.4800</td>\n",
       "      <td>270.25</td>\n",
       "      <td>158853</td>\n",
       "      <td>274.530</td>\n",
       "      <td>15609459</td>\n",
       "      <td>273.330511</td>\n",
       "    </tr>\n",
       "  </tbody>\n",
       "</table>\n",
       "</div>"
      ],
      "text/plain": [
       "                            close      high     low  trade_count     open  \\\n",
       "timestamp                                                                   \n",
       "2020-12-07 05:00:00+00:00  285.58  288.4900  278.20       153281  279.190   \n",
       "2020-12-08 05:00:00+00:00  283.40  286.4272  281.55       136454  286.010   \n",
       "2020-12-09 05:00:00+00:00  277.92  287.6300  271.75       312698  283.660   \n",
       "2020-12-10 05:00:00+00:00  277.12  278.7300  271.86       209825  275.535   \n",
       "2020-12-11 05:00:00+00:00  273.55  276.4800  270.25       158853  274.530   \n",
       "\n",
       "                             volume        vwap  \n",
       "timestamp                                        \n",
       "2020-12-07 05:00:00+00:00  14005842  285.751969  \n",
       "2020-12-08 05:00:00+00:00  11974657  283.705184  \n",
       "2020-12-09 05:00:00+00:00  26765687  278.642389  \n",
       "2020-12-10 05:00:00+00:00  21534833  276.018129  \n",
       "2020-12-11 05:00:00+00:00  15609459  273.330511  "
      ]
     },
     "metadata": {},
     "output_type": "display_data"
    }
   ],
   "source": [
    "# Displays the information pulled\n",
    "stock_data.info()\n",
    "display(stock_data.head())\n",
    "display(stock_data.tail())"
   ]
  },
  {
   "cell_type": "code",
   "execution_count": 12,
   "id": "b8997cde",
   "metadata": {
    "tags": []
   },
   "outputs": [],
   "source": [
    "# Add new data columns to DF for body size and candle size\n",
    "# body size is absolute value of open - close\n",
    "# candle size is the absolute value of low - high\n",
    "# clean up datafram by removing vwap, volume, trade count columns\n"
   ]
  },
  {
   "cell_type": "code",
   "execution_count": 11,
   "id": "55cc5883",
   "metadata": {},
   "outputs": [],
   "source": [
    "stock_data = stock_data.reset_index()"
   ]
  },
  {
   "cell_type": "code",
   "execution_count": 12,
   "id": "87e1a156",
   "metadata": {},
   "outputs": [
    {
     "data": {
      "text/html": [
       "<div>\n",
       "<style scoped>\n",
       "    .dataframe tbody tr th:only-of-type {\n",
       "        vertical-align: middle;\n",
       "    }\n",
       "\n",
       "    .dataframe tbody tr th {\n",
       "        vertical-align: top;\n",
       "    }\n",
       "\n",
       "    .dataframe thead th {\n",
       "        text-align: right;\n",
       "    }\n",
       "</style>\n",
       "<table border=\"1\" class=\"dataframe\">\n",
       "  <thead>\n",
       "    <tr style=\"text-align: right;\">\n",
       "      <th></th>\n",
       "      <th>timestamp</th>\n",
       "      <th>close</th>\n",
       "      <th>high</th>\n",
       "      <th>low</th>\n",
       "      <th>trade_count</th>\n",
       "      <th>open</th>\n",
       "      <th>volume</th>\n",
       "      <th>vwap</th>\n",
       "    </tr>\n",
       "  </thead>\n",
       "  <tbody>\n",
       "    <tr>\n",
       "      <th>0</th>\n",
       "      <td>2020-10-12 04:00:00+00:00</td>\n",
       "      <td>275.75</td>\n",
       "      <td>280.18</td>\n",
       "      <td>267.87</td>\n",
       "      <td>292730</td>\n",
       "      <td>270.200</td>\n",
       "      <td>32999660</td>\n",
       "      <td>275.227035</td>\n",
       "    </tr>\n",
       "    <tr>\n",
       "      <th>1</th>\n",
       "      <td>2020-10-13 04:00:00+00:00</td>\n",
       "      <td>276.14</td>\n",
       "      <td>279.10</td>\n",
       "      <td>273.39</td>\n",
       "      <td>181923</td>\n",
       "      <td>277.580</td>\n",
       "      <td>19505211</td>\n",
       "      <td>276.201124</td>\n",
       "    </tr>\n",
       "    <tr>\n",
       "      <th>2</th>\n",
       "      <td>2020-10-14 04:00:00+00:00</td>\n",
       "      <td>271.82</td>\n",
       "      <td>278.75</td>\n",
       "      <td>271.50</td>\n",
       "      <td>151136</td>\n",
       "      <td>277.620</td>\n",
       "      <td>16590158</td>\n",
       "      <td>273.981850</td>\n",
       "    </tr>\n",
       "    <tr>\n",
       "      <th>3</th>\n",
       "      <td>2020-10-15 04:00:00+00:00</td>\n",
       "      <td>266.72</td>\n",
       "      <td>269.04</td>\n",
       "      <td>263.67</td>\n",
       "      <td>182305</td>\n",
       "      <td>267.600</td>\n",
       "      <td>16330684</td>\n",
       "      <td>266.033730</td>\n",
       "    </tr>\n",
       "    <tr>\n",
       "      <th>4</th>\n",
       "      <td>2020-10-16 04:00:00+00:00</td>\n",
       "      <td>265.93</td>\n",
       "      <td>271.37</td>\n",
       "      <td>265.30</td>\n",
       "      <td>157636</td>\n",
       "      <td>267.375</td>\n",
       "      <td>18430693</td>\n",
       "      <td>267.458035</td>\n",
       "    </tr>\n",
       "  </tbody>\n",
       "</table>\n",
       "</div>"
      ],
      "text/plain": [
       "                  timestamp   close    high     low  trade_count     open  \\\n",
       "0 2020-10-12 04:00:00+00:00  275.75  280.18  267.87       292730  270.200   \n",
       "1 2020-10-13 04:00:00+00:00  276.14  279.10  273.39       181923  277.580   \n",
       "2 2020-10-14 04:00:00+00:00  271.82  278.75  271.50       151136  277.620   \n",
       "3 2020-10-15 04:00:00+00:00  266.72  269.04  263.67       182305  267.600   \n",
       "4 2020-10-16 04:00:00+00:00  265.93  271.37  265.30       157636  267.375   \n",
       "\n",
       "     volume        vwap  \n",
       "0  32999660  275.227035  \n",
       "1  19505211  276.201124  \n",
       "2  16590158  273.981850  \n",
       "3  16330684  266.033730  \n",
       "4  18430693  267.458035  "
      ]
     },
     "execution_count": 12,
     "metadata": {},
     "output_type": "execute_result"
    }
   ],
   "source": [
    "stock_data.head()"
   ]
  },
  {
   "cell_type": "code",
   "execution_count": 13,
   "id": "a64b0f65",
   "metadata": {},
   "outputs": [],
   "source": [
    "fig = go.Figure([go.Scatter(x=stock_data['timestamp'], y=stock_data['close'])])"
   ]
  },
  {
   "cell_type": "code",
   "execution_count": 14,
   "id": "f33fb698",
   "metadata": {},
   "outputs": [
    {
     "data": {
      "application/vnd.plotly.v1+json": {
       "config": {
        "plotlyServerURL": "https://plot.ly"
       },
       "data": [
        {
         "type": "scatter",
         "x": [
          "2020-10-12T04:00:00+00:00",
          "2020-10-13T04:00:00+00:00",
          "2020-10-14T04:00:00+00:00",
          "2020-10-15T04:00:00+00:00",
          "2020-10-16T04:00:00+00:00",
          "2020-10-19T04:00:00+00:00",
          "2020-10-20T04:00:00+00:00",
          "2020-10-21T04:00:00+00:00",
          "2020-10-22T04:00:00+00:00",
          "2020-10-23T04:00:00+00:00",
          "2020-10-26T04:00:00+00:00",
          "2020-10-27T04:00:00+00:00",
          "2020-10-28T04:00:00+00:00",
          "2020-10-29T04:00:00+00:00",
          "2020-10-30T04:00:00+00:00",
          "2020-11-02T05:00:00+00:00",
          "2020-11-03T05:00:00+00:00",
          "2020-11-04T05:00:00+00:00",
          "2020-11-05T05:00:00+00:00",
          "2020-11-06T05:00:00+00:00",
          "2020-11-09T05:00:00+00:00",
          "2020-11-10T05:00:00+00:00",
          "2020-11-11T05:00:00+00:00",
          "2020-11-12T05:00:00+00:00",
          "2020-11-13T05:00:00+00:00",
          "2020-11-16T05:00:00+00:00",
          "2020-11-17T05:00:00+00:00",
          "2020-11-18T05:00:00+00:00",
          "2020-11-19T05:00:00+00:00",
          "2020-11-20T05:00:00+00:00",
          "2020-11-23T05:00:00+00:00",
          "2020-11-24T05:00:00+00:00",
          "2020-11-25T05:00:00+00:00",
          "2020-11-27T05:00:00+00:00",
          "2020-11-30T05:00:00+00:00",
          "2020-12-01T05:00:00+00:00",
          "2020-12-02T05:00:00+00:00",
          "2020-12-03T05:00:00+00:00",
          "2020-12-04T05:00:00+00:00",
          "2020-12-07T05:00:00+00:00",
          "2020-12-08T05:00:00+00:00",
          "2020-12-09T05:00:00+00:00",
          "2020-12-10T05:00:00+00:00",
          "2020-12-11T05:00:00+00:00"
         ],
         "y": [
          275.75,
          276.14,
          271.82,
          266.72,
          265.93,
          261.4,
          267.56,
          278.73,
          278.12,
          284.79,
          277.11,
          283.29,
          267.67,
          280.83,
          263.11,
          261.36,
          265.3,
          287.38,
          294.68,
          293.41,
          278.77,
          272.43,
          276.48,
          275.08,
          276.95,
          278.96,
          275,
          271.97,
          272.94,
          269.7,
          268.43,
          276.92,
          275.59,
          277.81,
          276.97,
          286.55,
          287.52,
          281.85,
          279.7,
          285.58,
          283.4,
          277.92,
          277.12,
          273.55
         ]
        }
       ],
       "layout": {
        "template": {
         "data": {
          "bar": [
           {
            "error_x": {
             "color": "#2a3f5f"
            },
            "error_y": {
             "color": "#2a3f5f"
            },
            "marker": {
             "line": {
              "color": "#E5ECF6",
              "width": 0.5
             },
             "pattern": {
              "fillmode": "overlay",
              "size": 10,
              "solidity": 0.2
             }
            },
            "type": "bar"
           }
          ],
          "barpolar": [
           {
            "marker": {
             "line": {
              "color": "#E5ECF6",
              "width": 0.5
             },
             "pattern": {
              "fillmode": "overlay",
              "size": 10,
              "solidity": 0.2
             }
            },
            "type": "barpolar"
           }
          ],
          "carpet": [
           {
            "aaxis": {
             "endlinecolor": "#2a3f5f",
             "gridcolor": "white",
             "linecolor": "white",
             "minorgridcolor": "white",
             "startlinecolor": "#2a3f5f"
            },
            "baxis": {
             "endlinecolor": "#2a3f5f",
             "gridcolor": "white",
             "linecolor": "white",
             "minorgridcolor": "white",
             "startlinecolor": "#2a3f5f"
            },
            "type": "carpet"
           }
          ],
          "choropleth": [
           {
            "colorbar": {
             "outlinewidth": 0,
             "ticks": ""
            },
            "type": "choropleth"
           }
          ],
          "contour": [
           {
            "colorbar": {
             "outlinewidth": 0,
             "ticks": ""
            },
            "colorscale": [
             [
              0,
              "#0d0887"
             ],
             [
              0.1111111111111111,
              "#46039f"
             ],
             [
              0.2222222222222222,
              "#7201a8"
             ],
             [
              0.3333333333333333,
              "#9c179e"
             ],
             [
              0.4444444444444444,
              "#bd3786"
             ],
             [
              0.5555555555555556,
              "#d8576b"
             ],
             [
              0.6666666666666666,
              "#ed7953"
             ],
             [
              0.7777777777777778,
              "#fb9f3a"
             ],
             [
              0.8888888888888888,
              "#fdca26"
             ],
             [
              1,
              "#f0f921"
             ]
            ],
            "type": "contour"
           }
          ],
          "contourcarpet": [
           {
            "colorbar": {
             "outlinewidth": 0,
             "ticks": ""
            },
            "type": "contourcarpet"
           }
          ],
          "heatmap": [
           {
            "colorbar": {
             "outlinewidth": 0,
             "ticks": ""
            },
            "colorscale": [
             [
              0,
              "#0d0887"
             ],
             [
              0.1111111111111111,
              "#46039f"
             ],
             [
              0.2222222222222222,
              "#7201a8"
             ],
             [
              0.3333333333333333,
              "#9c179e"
             ],
             [
              0.4444444444444444,
              "#bd3786"
             ],
             [
              0.5555555555555556,
              "#d8576b"
             ],
             [
              0.6666666666666666,
              "#ed7953"
             ],
             [
              0.7777777777777778,
              "#fb9f3a"
             ],
             [
              0.8888888888888888,
              "#fdca26"
             ],
             [
              1,
              "#f0f921"
             ]
            ],
            "type": "heatmap"
           }
          ],
          "heatmapgl": [
           {
            "colorbar": {
             "outlinewidth": 0,
             "ticks": ""
            },
            "colorscale": [
             [
              0,
              "#0d0887"
             ],
             [
              0.1111111111111111,
              "#46039f"
             ],
             [
              0.2222222222222222,
              "#7201a8"
             ],
             [
              0.3333333333333333,
              "#9c179e"
             ],
             [
              0.4444444444444444,
              "#bd3786"
             ],
             [
              0.5555555555555556,
              "#d8576b"
             ],
             [
              0.6666666666666666,
              "#ed7953"
             ],
             [
              0.7777777777777778,
              "#fb9f3a"
             ],
             [
              0.8888888888888888,
              "#fdca26"
             ],
             [
              1,
              "#f0f921"
             ]
            ],
            "type": "heatmapgl"
           }
          ],
          "histogram": [
           {
            "marker": {
             "pattern": {
              "fillmode": "overlay",
              "size": 10,
              "solidity": 0.2
             }
            },
            "type": "histogram"
           }
          ],
          "histogram2d": [
           {
            "colorbar": {
             "outlinewidth": 0,
             "ticks": ""
            },
            "colorscale": [
             [
              0,
              "#0d0887"
             ],
             [
              0.1111111111111111,
              "#46039f"
             ],
             [
              0.2222222222222222,
              "#7201a8"
             ],
             [
              0.3333333333333333,
              "#9c179e"
             ],
             [
              0.4444444444444444,
              "#bd3786"
             ],
             [
              0.5555555555555556,
              "#d8576b"
             ],
             [
              0.6666666666666666,
              "#ed7953"
             ],
             [
              0.7777777777777778,
              "#fb9f3a"
             ],
             [
              0.8888888888888888,
              "#fdca26"
             ],
             [
              1,
              "#f0f921"
             ]
            ],
            "type": "histogram2d"
           }
          ],
          "histogram2dcontour": [
           {
            "colorbar": {
             "outlinewidth": 0,
             "ticks": ""
            },
            "colorscale": [
             [
              0,
              "#0d0887"
             ],
             [
              0.1111111111111111,
              "#46039f"
             ],
             [
              0.2222222222222222,
              "#7201a8"
             ],
             [
              0.3333333333333333,
              "#9c179e"
             ],
             [
              0.4444444444444444,
              "#bd3786"
             ],
             [
              0.5555555555555556,
              "#d8576b"
             ],
             [
              0.6666666666666666,
              "#ed7953"
             ],
             [
              0.7777777777777778,
              "#fb9f3a"
             ],
             [
              0.8888888888888888,
              "#fdca26"
             ],
             [
              1,
              "#f0f921"
             ]
            ],
            "type": "histogram2dcontour"
           }
          ],
          "mesh3d": [
           {
            "colorbar": {
             "outlinewidth": 0,
             "ticks": ""
            },
            "type": "mesh3d"
           }
          ],
          "parcoords": [
           {
            "line": {
             "colorbar": {
              "outlinewidth": 0,
              "ticks": ""
             }
            },
            "type": "parcoords"
           }
          ],
          "pie": [
           {
            "automargin": true,
            "type": "pie"
           }
          ],
          "scatter": [
           {
            "fillpattern": {
             "fillmode": "overlay",
             "size": 10,
             "solidity": 0.2
            },
            "type": "scatter"
           }
          ],
          "scatter3d": [
           {
            "line": {
             "colorbar": {
              "outlinewidth": 0,
              "ticks": ""
             }
            },
            "marker": {
             "colorbar": {
              "outlinewidth": 0,
              "ticks": ""
             }
            },
            "type": "scatter3d"
           }
          ],
          "scattercarpet": [
           {
            "marker": {
             "colorbar": {
              "outlinewidth": 0,
              "ticks": ""
             }
            },
            "type": "scattercarpet"
           }
          ],
          "scattergeo": [
           {
            "marker": {
             "colorbar": {
              "outlinewidth": 0,
              "ticks": ""
             }
            },
            "type": "scattergeo"
           }
          ],
          "scattergl": [
           {
            "marker": {
             "colorbar": {
              "outlinewidth": 0,
              "ticks": ""
             }
            },
            "type": "scattergl"
           }
          ],
          "scattermapbox": [
           {
            "marker": {
             "colorbar": {
              "outlinewidth": 0,
              "ticks": ""
             }
            },
            "type": "scattermapbox"
           }
          ],
          "scatterpolar": [
           {
            "marker": {
             "colorbar": {
              "outlinewidth": 0,
              "ticks": ""
             }
            },
            "type": "scatterpolar"
           }
          ],
          "scatterpolargl": [
           {
            "marker": {
             "colorbar": {
              "outlinewidth": 0,
              "ticks": ""
             }
            },
            "type": "scatterpolargl"
           }
          ],
          "scatterternary": [
           {
            "marker": {
             "colorbar": {
              "outlinewidth": 0,
              "ticks": ""
             }
            },
            "type": "scatterternary"
           }
          ],
          "surface": [
           {
            "colorbar": {
             "outlinewidth": 0,
             "ticks": ""
            },
            "colorscale": [
             [
              0,
              "#0d0887"
             ],
             [
              0.1111111111111111,
              "#46039f"
             ],
             [
              0.2222222222222222,
              "#7201a8"
             ],
             [
              0.3333333333333333,
              "#9c179e"
             ],
             [
              0.4444444444444444,
              "#bd3786"
             ],
             [
              0.5555555555555556,
              "#d8576b"
             ],
             [
              0.6666666666666666,
              "#ed7953"
             ],
             [
              0.7777777777777778,
              "#fb9f3a"
             ],
             [
              0.8888888888888888,
              "#fdca26"
             ],
             [
              1,
              "#f0f921"
             ]
            ],
            "type": "surface"
           }
          ],
          "table": [
           {
            "cells": {
             "fill": {
              "color": "#EBF0F8"
             },
             "line": {
              "color": "white"
             }
            },
            "header": {
             "fill": {
              "color": "#C8D4E3"
             },
             "line": {
              "color": "white"
             }
            },
            "type": "table"
           }
          ]
         },
         "layout": {
          "annotationdefaults": {
           "arrowcolor": "#2a3f5f",
           "arrowhead": 0,
           "arrowwidth": 1
          },
          "autotypenumbers": "strict",
          "coloraxis": {
           "colorbar": {
            "outlinewidth": 0,
            "ticks": ""
           }
          },
          "colorscale": {
           "diverging": [
            [
             0,
             "#8e0152"
            ],
            [
             0.1,
             "#c51b7d"
            ],
            [
             0.2,
             "#de77ae"
            ],
            [
             0.3,
             "#f1b6da"
            ],
            [
             0.4,
             "#fde0ef"
            ],
            [
             0.5,
             "#f7f7f7"
            ],
            [
             0.6,
             "#e6f5d0"
            ],
            [
             0.7,
             "#b8e186"
            ],
            [
             0.8,
             "#7fbc41"
            ],
            [
             0.9,
             "#4d9221"
            ],
            [
             1,
             "#276419"
            ]
           ],
           "sequential": [
            [
             0,
             "#0d0887"
            ],
            [
             0.1111111111111111,
             "#46039f"
            ],
            [
             0.2222222222222222,
             "#7201a8"
            ],
            [
             0.3333333333333333,
             "#9c179e"
            ],
            [
             0.4444444444444444,
             "#bd3786"
            ],
            [
             0.5555555555555556,
             "#d8576b"
            ],
            [
             0.6666666666666666,
             "#ed7953"
            ],
            [
             0.7777777777777778,
             "#fb9f3a"
            ],
            [
             0.8888888888888888,
             "#fdca26"
            ],
            [
             1,
             "#f0f921"
            ]
           ],
           "sequentialminus": [
            [
             0,
             "#0d0887"
            ],
            [
             0.1111111111111111,
             "#46039f"
            ],
            [
             0.2222222222222222,
             "#7201a8"
            ],
            [
             0.3333333333333333,
             "#9c179e"
            ],
            [
             0.4444444444444444,
             "#bd3786"
            ],
            [
             0.5555555555555556,
             "#d8576b"
            ],
            [
             0.6666666666666666,
             "#ed7953"
            ],
            [
             0.7777777777777778,
             "#fb9f3a"
            ],
            [
             0.8888888888888888,
             "#fdca26"
            ],
            [
             1,
             "#f0f921"
            ]
           ]
          },
          "colorway": [
           "#636efa",
           "#EF553B",
           "#00cc96",
           "#ab63fa",
           "#FFA15A",
           "#19d3f3",
           "#FF6692",
           "#B6E880",
           "#FF97FF",
           "#FECB52"
          ],
          "font": {
           "color": "#2a3f5f"
          },
          "geo": {
           "bgcolor": "white",
           "lakecolor": "white",
           "landcolor": "#E5ECF6",
           "showlakes": true,
           "showland": true,
           "subunitcolor": "white"
          },
          "hoverlabel": {
           "align": "left"
          },
          "hovermode": "closest",
          "mapbox": {
           "style": "light"
          },
          "paper_bgcolor": "white",
          "plot_bgcolor": "#E5ECF6",
          "polar": {
           "angularaxis": {
            "gridcolor": "white",
            "linecolor": "white",
            "ticks": ""
           },
           "bgcolor": "#E5ECF6",
           "radialaxis": {
            "gridcolor": "white",
            "linecolor": "white",
            "ticks": ""
           }
          },
          "scene": {
           "xaxis": {
            "backgroundcolor": "#E5ECF6",
            "gridcolor": "white",
            "gridwidth": 2,
            "linecolor": "white",
            "showbackground": true,
            "ticks": "",
            "zerolinecolor": "white"
           },
           "yaxis": {
            "backgroundcolor": "#E5ECF6",
            "gridcolor": "white",
            "gridwidth": 2,
            "linecolor": "white",
            "showbackground": true,
            "ticks": "",
            "zerolinecolor": "white"
           },
           "zaxis": {
            "backgroundcolor": "#E5ECF6",
            "gridcolor": "white",
            "gridwidth": 2,
            "linecolor": "white",
            "showbackground": true,
            "ticks": "",
            "zerolinecolor": "white"
           }
          },
          "shapedefaults": {
           "line": {
            "color": "#2a3f5f"
           }
          },
          "ternary": {
           "aaxis": {
            "gridcolor": "white",
            "linecolor": "white",
            "ticks": ""
           },
           "baxis": {
            "gridcolor": "white",
            "linecolor": "white",
            "ticks": ""
           },
           "bgcolor": "#E5ECF6",
           "caxis": {
            "gridcolor": "white",
            "linecolor": "white",
            "ticks": ""
           }
          },
          "title": {
           "x": 0.05
          },
          "xaxis": {
           "automargin": true,
           "gridcolor": "white",
           "linecolor": "white",
           "ticks": "",
           "title": {
            "standoff": 15
           },
           "zerolinecolor": "white",
           "zerolinewidth": 2
          },
          "yaxis": {
           "automargin": true,
           "gridcolor": "white",
           "linecolor": "white",
           "ticks": "",
           "title": {
            "standoff": 15
           },
           "zerolinecolor": "white",
           "zerolinewidth": 2
          }
         }
        }
       }
      }
     },
     "metadata": {},
     "output_type": "display_data"
    }
   ],
   "source": [
    "fig"
   ]
  },
  {
   "cell_type": "code",
   "execution_count": 15,
   "id": "d0e2e996",
   "metadata": {},
   "outputs": [],
   "source": [
    "fig = go.Candlestick(x=stock_data['timestamp'],\n",
    "                open=stock_data['open'],\n",
    "                high=stock_data['high'],\n",
    "                low=stock_data['low'],\n",
    "                close=stock_data['close'])\n"
   ]
  },
  {
   "cell_type": "code",
   "execution_count": 16,
   "id": "2c71d6f8",
   "metadata": {},
   "outputs": [],
   "source": [
    "cand = go.Figure(data=[fig])"
   ]
  },
  {
   "cell_type": "code",
   "execution_count": 17,
   "id": "da9d6772",
   "metadata": {},
   "outputs": [
    {
     "data": {
      "application/vnd.plotly.v1+json": {
       "config": {
        "plotlyServerURL": "https://plot.ly"
       },
       "data": [
        {
         "close": [
          275.75,
          276.14,
          271.82,
          266.72,
          265.93,
          261.4,
          267.56,
          278.73,
          278.12,
          284.79,
          277.11,
          283.29,
          267.67,
          280.83,
          263.11,
          261.36,
          265.3,
          287.38,
          294.68,
          293.41,
          278.77,
          272.43,
          276.48,
          275.08,
          276.95,
          278.96,
          275,
          271.97,
          272.94,
          269.7,
          268.43,
          276.92,
          275.59,
          277.81,
          276.97,
          286.55,
          287.52,
          281.85,
          279.7,
          285.58,
          283.4,
          277.92,
          277.12,
          273.55
         ],
         "high": [
          280.18,
          279.1,
          278.75,
          269.04,
          271.37,
          268.55,
          269.7,
          283.05,
          282.45,
          285.24,
          285.23,
          284.51,
          278.79,
          283.6,
          276.7,
          270.47,
          270.05,
          288.94,
          297.38,
          294.6,
          292.58,
          274,
          278.4,
          279.75,
          277.76,
          279.41,
          277.68,
          277.3889,
          273.47,
          273,
          270.9471,
          277.8199,
          280.18,
          279.13,
          277.7,
          289.3,
          291.78,
          286.65,
          283.46,
          288.49,
          286.4272,
          287.63,
          278.73,
          276.48
         ],
         "low": [
          267.87,
          273.39,
          271.5,
          263.67,
          265.3,
          259.88,
          262.88,
          276.37,
          275.04,
          276.82,
          274.26,
          276.31,
          267.26,
          273.78,
          259.1,
          257.34,
          260.88,
          278.62,
          288.95,
          288.06,
          278.53,
          264,
          272.48,
          274.43,
          273.1,
          274.63,
          273.29,
          271.84,
          269.19,
          269.41,
          264.53,
          267.87,
          272.65,
          274.82,
          271.01,
          278.96,
          280.825,
          281.07,
          279.3,
          278.2,
          281.55,
          271.75,
          271.86,
          270.25
         ],
         "open": [
          270.2,
          277.58,
          277.62,
          267.6,
          267.375,
          265.53,
          263.06,
          279.56,
          279.87,
          278.8024,
          283.16,
          278.76,
          278.79,
          276.55,
          274.5,
          264.6,
          263.16,
          281,
          291.8965,
          293.95,
          289.87,
          273.1,
          273.47,
          277.18,
          277.72,
          275.05,
          277.68,
          274.52,
          271.025,
          272.56,
          270.89,
          268.49,
          278.14,
          277.39,
          276.13,
          279.16,
          285.36,
          286.25,
          280.3,
          279.19,
          286.01,
          283.66,
          275.535,
          274.53
         ],
         "type": "candlestick",
         "x": [
          "2020-10-12T04:00:00+00:00",
          "2020-10-13T04:00:00+00:00",
          "2020-10-14T04:00:00+00:00",
          "2020-10-15T04:00:00+00:00",
          "2020-10-16T04:00:00+00:00",
          "2020-10-19T04:00:00+00:00",
          "2020-10-20T04:00:00+00:00",
          "2020-10-21T04:00:00+00:00",
          "2020-10-22T04:00:00+00:00",
          "2020-10-23T04:00:00+00:00",
          "2020-10-26T04:00:00+00:00",
          "2020-10-27T04:00:00+00:00",
          "2020-10-28T04:00:00+00:00",
          "2020-10-29T04:00:00+00:00",
          "2020-10-30T04:00:00+00:00",
          "2020-11-02T05:00:00+00:00",
          "2020-11-03T05:00:00+00:00",
          "2020-11-04T05:00:00+00:00",
          "2020-11-05T05:00:00+00:00",
          "2020-11-06T05:00:00+00:00",
          "2020-11-09T05:00:00+00:00",
          "2020-11-10T05:00:00+00:00",
          "2020-11-11T05:00:00+00:00",
          "2020-11-12T05:00:00+00:00",
          "2020-11-13T05:00:00+00:00",
          "2020-11-16T05:00:00+00:00",
          "2020-11-17T05:00:00+00:00",
          "2020-11-18T05:00:00+00:00",
          "2020-11-19T05:00:00+00:00",
          "2020-11-20T05:00:00+00:00",
          "2020-11-23T05:00:00+00:00",
          "2020-11-24T05:00:00+00:00",
          "2020-11-25T05:00:00+00:00",
          "2020-11-27T05:00:00+00:00",
          "2020-11-30T05:00:00+00:00",
          "2020-12-01T05:00:00+00:00",
          "2020-12-02T05:00:00+00:00",
          "2020-12-03T05:00:00+00:00",
          "2020-12-04T05:00:00+00:00",
          "2020-12-07T05:00:00+00:00",
          "2020-12-08T05:00:00+00:00",
          "2020-12-09T05:00:00+00:00",
          "2020-12-10T05:00:00+00:00",
          "2020-12-11T05:00:00+00:00"
         ]
        }
       ],
       "layout": {
        "template": {
         "data": {
          "bar": [
           {
            "error_x": {
             "color": "#2a3f5f"
            },
            "error_y": {
             "color": "#2a3f5f"
            },
            "marker": {
             "line": {
              "color": "#E5ECF6",
              "width": 0.5
             },
             "pattern": {
              "fillmode": "overlay",
              "size": 10,
              "solidity": 0.2
             }
            },
            "type": "bar"
           }
          ],
          "barpolar": [
           {
            "marker": {
             "line": {
              "color": "#E5ECF6",
              "width": 0.5
             },
             "pattern": {
              "fillmode": "overlay",
              "size": 10,
              "solidity": 0.2
             }
            },
            "type": "barpolar"
           }
          ],
          "carpet": [
           {
            "aaxis": {
             "endlinecolor": "#2a3f5f",
             "gridcolor": "white",
             "linecolor": "white",
             "minorgridcolor": "white",
             "startlinecolor": "#2a3f5f"
            },
            "baxis": {
             "endlinecolor": "#2a3f5f",
             "gridcolor": "white",
             "linecolor": "white",
             "minorgridcolor": "white",
             "startlinecolor": "#2a3f5f"
            },
            "type": "carpet"
           }
          ],
          "choropleth": [
           {
            "colorbar": {
             "outlinewidth": 0,
             "ticks": ""
            },
            "type": "choropleth"
           }
          ],
          "contour": [
           {
            "colorbar": {
             "outlinewidth": 0,
             "ticks": ""
            },
            "colorscale": [
             [
              0,
              "#0d0887"
             ],
             [
              0.1111111111111111,
              "#46039f"
             ],
             [
              0.2222222222222222,
              "#7201a8"
             ],
             [
              0.3333333333333333,
              "#9c179e"
             ],
             [
              0.4444444444444444,
              "#bd3786"
             ],
             [
              0.5555555555555556,
              "#d8576b"
             ],
             [
              0.6666666666666666,
              "#ed7953"
             ],
             [
              0.7777777777777778,
              "#fb9f3a"
             ],
             [
              0.8888888888888888,
              "#fdca26"
             ],
             [
              1,
              "#f0f921"
             ]
            ],
            "type": "contour"
           }
          ],
          "contourcarpet": [
           {
            "colorbar": {
             "outlinewidth": 0,
             "ticks": ""
            },
            "type": "contourcarpet"
           }
          ],
          "heatmap": [
           {
            "colorbar": {
             "outlinewidth": 0,
             "ticks": ""
            },
            "colorscale": [
             [
              0,
              "#0d0887"
             ],
             [
              0.1111111111111111,
              "#46039f"
             ],
             [
              0.2222222222222222,
              "#7201a8"
             ],
             [
              0.3333333333333333,
              "#9c179e"
             ],
             [
              0.4444444444444444,
              "#bd3786"
             ],
             [
              0.5555555555555556,
              "#d8576b"
             ],
             [
              0.6666666666666666,
              "#ed7953"
             ],
             [
              0.7777777777777778,
              "#fb9f3a"
             ],
             [
              0.8888888888888888,
              "#fdca26"
             ],
             [
              1,
              "#f0f921"
             ]
            ],
            "type": "heatmap"
           }
          ],
          "heatmapgl": [
           {
            "colorbar": {
             "outlinewidth": 0,
             "ticks": ""
            },
            "colorscale": [
             [
              0,
              "#0d0887"
             ],
             [
              0.1111111111111111,
              "#46039f"
             ],
             [
              0.2222222222222222,
              "#7201a8"
             ],
             [
              0.3333333333333333,
              "#9c179e"
             ],
             [
              0.4444444444444444,
              "#bd3786"
             ],
             [
              0.5555555555555556,
              "#d8576b"
             ],
             [
              0.6666666666666666,
              "#ed7953"
             ],
             [
              0.7777777777777778,
              "#fb9f3a"
             ],
             [
              0.8888888888888888,
              "#fdca26"
             ],
             [
              1,
              "#f0f921"
             ]
            ],
            "type": "heatmapgl"
           }
          ],
          "histogram": [
           {
            "marker": {
             "pattern": {
              "fillmode": "overlay",
              "size": 10,
              "solidity": 0.2
             }
            },
            "type": "histogram"
           }
          ],
          "histogram2d": [
           {
            "colorbar": {
             "outlinewidth": 0,
             "ticks": ""
            },
            "colorscale": [
             [
              0,
              "#0d0887"
             ],
             [
              0.1111111111111111,
              "#46039f"
             ],
             [
              0.2222222222222222,
              "#7201a8"
             ],
             [
              0.3333333333333333,
              "#9c179e"
             ],
             [
              0.4444444444444444,
              "#bd3786"
             ],
             [
              0.5555555555555556,
              "#d8576b"
             ],
             [
              0.6666666666666666,
              "#ed7953"
             ],
             [
              0.7777777777777778,
              "#fb9f3a"
             ],
             [
              0.8888888888888888,
              "#fdca26"
             ],
             [
              1,
              "#f0f921"
             ]
            ],
            "type": "histogram2d"
           }
          ],
          "histogram2dcontour": [
           {
            "colorbar": {
             "outlinewidth": 0,
             "ticks": ""
            },
            "colorscale": [
             [
              0,
              "#0d0887"
             ],
             [
              0.1111111111111111,
              "#46039f"
             ],
             [
              0.2222222222222222,
              "#7201a8"
             ],
             [
              0.3333333333333333,
              "#9c179e"
             ],
             [
              0.4444444444444444,
              "#bd3786"
             ],
             [
              0.5555555555555556,
              "#d8576b"
             ],
             [
              0.6666666666666666,
              "#ed7953"
             ],
             [
              0.7777777777777778,
              "#fb9f3a"
             ],
             [
              0.8888888888888888,
              "#fdca26"
             ],
             [
              1,
              "#f0f921"
             ]
            ],
            "type": "histogram2dcontour"
           }
          ],
          "mesh3d": [
           {
            "colorbar": {
             "outlinewidth": 0,
             "ticks": ""
            },
            "type": "mesh3d"
           }
          ],
          "parcoords": [
           {
            "line": {
             "colorbar": {
              "outlinewidth": 0,
              "ticks": ""
             }
            },
            "type": "parcoords"
           }
          ],
          "pie": [
           {
            "automargin": true,
            "type": "pie"
           }
          ],
          "scatter": [
           {
            "fillpattern": {
             "fillmode": "overlay",
             "size": 10,
             "solidity": 0.2
            },
            "type": "scatter"
           }
          ],
          "scatter3d": [
           {
            "line": {
             "colorbar": {
              "outlinewidth": 0,
              "ticks": ""
             }
            },
            "marker": {
             "colorbar": {
              "outlinewidth": 0,
              "ticks": ""
             }
            },
            "type": "scatter3d"
           }
          ],
          "scattercarpet": [
           {
            "marker": {
             "colorbar": {
              "outlinewidth": 0,
              "ticks": ""
             }
            },
            "type": "scattercarpet"
           }
          ],
          "scattergeo": [
           {
            "marker": {
             "colorbar": {
              "outlinewidth": 0,
              "ticks": ""
             }
            },
            "type": "scattergeo"
           }
          ],
          "scattergl": [
           {
            "marker": {
             "colorbar": {
              "outlinewidth": 0,
              "ticks": ""
             }
            },
            "type": "scattergl"
           }
          ],
          "scattermapbox": [
           {
            "marker": {
             "colorbar": {
              "outlinewidth": 0,
              "ticks": ""
             }
            },
            "type": "scattermapbox"
           }
          ],
          "scatterpolar": [
           {
            "marker": {
             "colorbar": {
              "outlinewidth": 0,
              "ticks": ""
             }
            },
            "type": "scatterpolar"
           }
          ],
          "scatterpolargl": [
           {
            "marker": {
             "colorbar": {
              "outlinewidth": 0,
              "ticks": ""
             }
            },
            "type": "scatterpolargl"
           }
          ],
          "scatterternary": [
           {
            "marker": {
             "colorbar": {
              "outlinewidth": 0,
              "ticks": ""
             }
            },
            "type": "scatterternary"
           }
          ],
          "surface": [
           {
            "colorbar": {
             "outlinewidth": 0,
             "ticks": ""
            },
            "colorscale": [
             [
              0,
              "#0d0887"
             ],
             [
              0.1111111111111111,
              "#46039f"
             ],
             [
              0.2222222222222222,
              "#7201a8"
             ],
             [
              0.3333333333333333,
              "#9c179e"
             ],
             [
              0.4444444444444444,
              "#bd3786"
             ],
             [
              0.5555555555555556,
              "#d8576b"
             ],
             [
              0.6666666666666666,
              "#ed7953"
             ],
             [
              0.7777777777777778,
              "#fb9f3a"
             ],
             [
              0.8888888888888888,
              "#fdca26"
             ],
             [
              1,
              "#f0f921"
             ]
            ],
            "type": "surface"
           }
          ],
          "table": [
           {
            "cells": {
             "fill": {
              "color": "#EBF0F8"
             },
             "line": {
              "color": "white"
             }
            },
            "header": {
             "fill": {
              "color": "#C8D4E3"
             },
             "line": {
              "color": "white"
             }
            },
            "type": "table"
           }
          ]
         },
         "layout": {
          "annotationdefaults": {
           "arrowcolor": "#2a3f5f",
           "arrowhead": 0,
           "arrowwidth": 1
          },
          "autotypenumbers": "strict",
          "coloraxis": {
           "colorbar": {
            "outlinewidth": 0,
            "ticks": ""
           }
          },
          "colorscale": {
           "diverging": [
            [
             0,
             "#8e0152"
            ],
            [
             0.1,
             "#c51b7d"
            ],
            [
             0.2,
             "#de77ae"
            ],
            [
             0.3,
             "#f1b6da"
            ],
            [
             0.4,
             "#fde0ef"
            ],
            [
             0.5,
             "#f7f7f7"
            ],
            [
             0.6,
             "#e6f5d0"
            ],
            [
             0.7,
             "#b8e186"
            ],
            [
             0.8,
             "#7fbc41"
            ],
            [
             0.9,
             "#4d9221"
            ],
            [
             1,
             "#276419"
            ]
           ],
           "sequential": [
            [
             0,
             "#0d0887"
            ],
            [
             0.1111111111111111,
             "#46039f"
            ],
            [
             0.2222222222222222,
             "#7201a8"
            ],
            [
             0.3333333333333333,
             "#9c179e"
            ],
            [
             0.4444444444444444,
             "#bd3786"
            ],
            [
             0.5555555555555556,
             "#d8576b"
            ],
            [
             0.6666666666666666,
             "#ed7953"
            ],
            [
             0.7777777777777778,
             "#fb9f3a"
            ],
            [
             0.8888888888888888,
             "#fdca26"
            ],
            [
             1,
             "#f0f921"
            ]
           ],
           "sequentialminus": [
            [
             0,
             "#0d0887"
            ],
            [
             0.1111111111111111,
             "#46039f"
            ],
            [
             0.2222222222222222,
             "#7201a8"
            ],
            [
             0.3333333333333333,
             "#9c179e"
            ],
            [
             0.4444444444444444,
             "#bd3786"
            ],
            [
             0.5555555555555556,
             "#d8576b"
            ],
            [
             0.6666666666666666,
             "#ed7953"
            ],
            [
             0.7777777777777778,
             "#fb9f3a"
            ],
            [
             0.8888888888888888,
             "#fdca26"
            ],
            [
             1,
             "#f0f921"
            ]
           ]
          },
          "colorway": [
           "#636efa",
           "#EF553B",
           "#00cc96",
           "#ab63fa",
           "#FFA15A",
           "#19d3f3",
           "#FF6692",
           "#B6E880",
           "#FF97FF",
           "#FECB52"
          ],
          "font": {
           "color": "#2a3f5f"
          },
          "geo": {
           "bgcolor": "white",
           "lakecolor": "white",
           "landcolor": "#E5ECF6",
           "showlakes": true,
           "showland": true,
           "subunitcolor": "white"
          },
          "hoverlabel": {
           "align": "left"
          },
          "hovermode": "closest",
          "mapbox": {
           "style": "light"
          },
          "paper_bgcolor": "white",
          "plot_bgcolor": "#E5ECF6",
          "polar": {
           "angularaxis": {
            "gridcolor": "white",
            "linecolor": "white",
            "ticks": ""
           },
           "bgcolor": "#E5ECF6",
           "radialaxis": {
            "gridcolor": "white",
            "linecolor": "white",
            "ticks": ""
           }
          },
          "scene": {
           "xaxis": {
            "backgroundcolor": "#E5ECF6",
            "gridcolor": "white",
            "gridwidth": 2,
            "linecolor": "white",
            "showbackground": true,
            "ticks": "",
            "zerolinecolor": "white"
           },
           "yaxis": {
            "backgroundcolor": "#E5ECF6",
            "gridcolor": "white",
            "gridwidth": 2,
            "linecolor": "white",
            "showbackground": true,
            "ticks": "",
            "zerolinecolor": "white"
           },
           "zaxis": {
            "backgroundcolor": "#E5ECF6",
            "gridcolor": "white",
            "gridwidth": 2,
            "linecolor": "white",
            "showbackground": true,
            "ticks": "",
            "zerolinecolor": "white"
           }
          },
          "shapedefaults": {
           "line": {
            "color": "#2a3f5f"
           }
          },
          "ternary": {
           "aaxis": {
            "gridcolor": "white",
            "linecolor": "white",
            "ticks": ""
           },
           "baxis": {
            "gridcolor": "white",
            "linecolor": "white",
            "ticks": ""
           },
           "bgcolor": "#E5ECF6",
           "caxis": {
            "gridcolor": "white",
            "linecolor": "white",
            "ticks": ""
           }
          },
          "title": {
           "x": 0.05
          },
          "xaxis": {
           "automargin": true,
           "gridcolor": "white",
           "linecolor": "white",
           "ticks": "",
           "title": {
            "standoff": 15
           },
           "zerolinecolor": "white",
           "zerolinewidth": 2
          },
          "yaxis": {
           "automargin": true,
           "gridcolor": "white",
           "linecolor": "white",
           "ticks": "",
           "title": {
            "standoff": 15
           },
           "zerolinecolor": "white",
           "zerolinewidth": 2
          }
         }
        }
       }
      }
     },
     "metadata": {},
     "output_type": "display_data"
    }
   ],
   "source": [
    "cand.show()"
   ]
  },
  {
   "cell_type": "code",
   "execution_count": null,
   "id": "293beb68-8d8b-4513-9c81-81616b6941db",
   "metadata": {
    "tags": []
   },
   "outputs": [],
   "source": [
    "# Drop columns which aren't needed(trade_count, volume, vwap) and display the results\n",
    "stock_data = stock_data.drop(columns=['trade_count','volume','vwap'])\n",
    "display(stock_data.head())"
   ]
  },
  {
   "cell_type": "code",
   "execution_count": null,
   "id": "a6b37452",
   "metadata": {},
   "outputs": [],
   "source": [
    "new_data = stock_data.reset_index(inplace=True)"
   ]
  },
  {
   "cell_type": "code",
   "execution_count": null,
   "id": "e5e765ff",
   "metadata": {},
   "outputs": [],
   "source": [
    "print(new_data)"
   ]
  },
  {
   "cell_type": "code",
   "execution_count": null,
   "id": "e02f0581-f1db-4bc4-ba33-f52917b283f4",
   "metadata": {
    "tags": []
   },
   "outputs": [],
   "source": [
    "stock_data.head(2)"
   ]
  },
  {
   "cell_type": "code",
   "execution_count": null,
   "id": "26182b17",
   "metadata": {},
   "outputs": [],
   "source": [
    "fig = go.Figure(stock_data=[go.Candlestick(x=stock_data['timestamp'],\n",
    "                open=stock_data['META.Open'],\n",
    "                high=stock_data['META.High'],\n",
    "                low=stock_data['META.Low'],\n",
    "                close=stock_data['META.Close'])])\n"
   ]
  },
  {
   "cell_type": "code",
   "execution_count": null,
   "id": "2963f46b",
   "metadata": {},
   "outputs": [],
   "source": [
    "fig = px.candlestick(stock_data, x='timestamp', open='open', high='high', low='low', close='close')\n",
    "\n",
    "# Customize the figure (optional)\n",
    "fig.update_layout(title=\"Candlestick Chart Example\", xaxis_title=\"Date\", yaxis_title=\"Price\")\n",
    "fig.update_xaxes(type='category')\n",
    "\n"
   ]
  },
  {
   "cell_type": "code",
   "execution_count": null,
   "id": "d4f35cab",
   "metadata": {},
   "outputs": [],
   "source": [
    "# Show the chart\n",
    "fig.show()"
   ]
  },
  {
   "cell_type": "code",
   "execution_count": null,
   "id": "95876a4c",
   "metadata": {},
   "outputs": [],
   "source": [
    "chart = alt.Chart(stock_data).mark_area().encode(\n",
    "    x=\"close\",\n",
    "    y=\"open\"\n",
    ")"
   ]
  },
  {
   "cell_type": "code",
   "execution_count": null,
   "id": "4c843af7",
   "metadata": {},
   "outputs": [],
   "source": [
    "chart"
   ]
  },
  {
   "cell_type": "code",
   "execution_count": null,
   "id": "f1a9b599",
   "metadata": {},
   "outputs": [],
   "source": [
    "# create line plot\n",
    "chart = alt.Chart(stock_data).mark_line().encode(x=\"timestamp\",y=\"Close\")\n",
    "# set title and axis lables\n",
    "chart.title = \"META stock closing prices\"\n",
    "chart.encoding.x.title = \"Time\"\n",
    "chart.encoding.y.title = \"Price [USD]\"\n"
   ]
  },
  {
   "cell_type": "code",
   "execution_count": null,
   "id": "72e28ec0",
   "metadata": {},
   "outputs": [],
   "source": [
    "base = alt.Chart(stock_data)"
   ]
  },
  {
   "cell_type": "code",
   "execution_count": null,
   "id": "7db4ac33",
   "metadata": {},
   "outputs": [],
   "source": [
    "candlesticks = base.mark_bar().encode(\n",
    "    x='timestamp:T',\n",
    "    y='low:Q',\n",
    "    y2='high:Q',\n",
    "    color=alt.condition(\"datum.open <= datum.close\", alt.value(\"green\"), alt.value(\"red\")),\n",
    "    tooltip=['open:Q', 'high:Q', 'low:Q', 'close:Q']\n",
    ")"
   ]
  },
  {
   "cell_type": "code",
   "execution_count": null,
   "id": "4e195249",
   "metadata": {},
   "outputs": [],
   "source": [
    "wicks = base.mark_rule().encode(\n",
    "    x='timestamp:T',\n",
    "    y='low:Q',\n",
    "    y2='high:Q'\n",
    ")\n"
   ]
  },
  {
   "cell_type": "code",
   "execution_count": null,
   "id": "c3ab01d9",
   "metadata": {},
   "outputs": [],
   "source": [
    "chart = candlesticks + wicks"
   ]
  },
  {
   "cell_type": "code",
   "execution_count": null,
   "id": "112da75e",
   "metadata": {},
   "outputs": [],
   "source": [
    "chart"
   ]
  },
  {
   "cell_type": "code",
   "execution_count": null,
   "id": "37597501",
   "metadata": {},
   "outputs": [],
   "source": [
    "# display line plot\n",
    "chart"
   ]
  },
  {
   "cell_type": "code",
   "execution_count": null,
   "id": "18f9e68f-bf0d-471a-a7d0-9e66d632dce0",
   "metadata": {
    "tags": []
   },
   "outputs": [],
   "source": [
    "# Add new data columns to DF for body size and candle size\n",
    "# body size is absolute value of open - close\n",
    "# candle size is the absolute value of low - high\n",
    "# clean up datafram by removing vwap, volume, trade count columns\n",
    "\n",
    "stock_data['body_size'] = stock_data['close'] - stock_data['open']\n",
    "stock_data['candle_size'] = stock_data['high'] - stock_data['low']"
   ]
  },
  {
   "cell_type": "code",
   "execution_count": null,
   "id": "7fa7e1aa-9de6-4235-8782-74fb995c6b9d",
   "metadata": {
    "tags": []
   },
   "outputs": [],
   "source": [
    "stock_data.head()"
   ]
  },
  {
   "cell_type": "code",
   "execution_count": null,
   "id": "c26e2b56-ae86-40fa-ad4d-874553432759",
   "metadata": {
    "tags": []
   },
   "outputs": [],
   "source": [
    "source = stock_data\n",
    "\n",
    "open_close_color = alt.condition(\n",
    "    \"datum.open <= datum.close\",\n",
    "    alt.value(\"#06982d\"),\n",
    "    alt.value(\"#ae1325\")\n",
    ")\n",
    "\n",
    "base = alt.Chart(source).encode(\n",
    "    alt.X('date:T')\n",
    "        .axis(format='%m/%d', labelAngle=-45)\n",
    "        .title('Date in 2020'),\n",
    "    color=open_close_color\n",
    ")\n",
    "\n",
    "rule = base.mark_rule().encode(\n",
    "    alt.Y('low:Q')\n",
    "        .title('Price')\n",
    "        .scale(zero=False),\n",
    "    alt.Y2('high:Q')\n",
    ")\n",
    "\n",
    "bar = base.mark_bar().encode(\n",
    "    alt.Y('open:Q'),\n",
    "    alt.Y2('close:Q')\n",
    ")\n",
    "\n",
    "rule + bar"
   ]
  },
  {
   "cell_type": "code",
   "execution_count": null,
   "id": "7a309d71-d15a-4434-b7bf-f752f872b737",
   "metadata": {
    "tags": []
   },
   "outputs": [],
   "source": [
    "stock_data['body_size'].head()"
   ]
  },
  {
   "cell_type": "code",
   "execution_count": null,
   "id": "562f1e51",
   "metadata": {
    "tags": []
   },
   "outputs": [],
   "source": [
    "max_body_size = stock_data[\"body_size\"].max()"
   ]
  },
  {
   "cell_type": "code",
   "execution_count": null,
   "id": "4361e5d6-662d-4cf8-b197-eda362b97708",
   "metadata": {
    "tags": []
   },
   "outputs": [],
   "source": [
    "min_candle_size = stock_data[\"candle_size\"].min()"
   ]
  },
  {
   "cell_type": "code",
   "execution_count": null,
   "id": "1ecfe925-4ca4-425a-832e-4d6121df82d3",
   "metadata": {
    "tags": []
   },
   "outputs": [],
   "source": [
    "display(max_body_size)\n",
    "display(min_candle_size)"
   ]
  },
  {
   "cell_type": "code",
   "execution_count": null,
   "id": "169514d5-8fbc-4c24-959c-58aa9c9be49d",
   "metadata": {
    "tags": []
   },
   "outputs": [],
   "source": [
    "stock_data_1 = stock_data.drop(columns=['high','low','body_size','candle_size'])"
   ]
  },
  {
   "cell_type": "code",
   "execution_count": null,
   "id": "8f07a21c-a7ee-4869-ad91-c739c2517971",
   "metadata": {
    "tags": []
   },
   "outputs": [],
   "source": [
    "display (stock_data_1.head())"
   ]
  },
  {
   "cell_type": "code",
   "execution_count": null,
   "id": "b999fc9a-69f4-4180-b34c-15065b148350",
   "metadata": {},
   "outputs": [],
   "source": [
    "current_count = 0"
   ]
  },
  {
   "cell_type": "code",
   "execution_count": null,
   "id": "5fe23a07-7e70-4d8b-aa4e-d6b460031ce2",
   "metadata": {
    "tags": []
   },
   "outputs": [],
   "source": [
    "if stock_data.iloc[0][4] > 0:\n",
    "    previous_candle = 1\n",
    "elif stock_data.iloc[0][4] == 0:\n",
    "    previous_candle = 0\n",
    "else: stock_data.iloc[0][4] < 0\n",
    "previous_candle = -1\n",
    " \n",
    "number_of_rows = len(stock_data)\n",
    "\n",
    "display(previous_candle)\n",
    "display(stock_data.iloc[0][4])\n",
    "display(number_of_rows)"
   ]
  },
  {
   "cell_type": "code",
   "execution_count": null,
   "id": "31397687-5099-42aa-b9d0-7254f7d28937",
   "metadata": {
    "tags": []
   },
   "outputs": [],
   "source": [
    "row_counter = 0\n",
    "\n",
    "for row in stock_data:\n",
    "    row_counter = row_counter + 1\n",
    "    if stock_data.iloc[row_counterr][3] < stock_data.iloc[row_counter][0] and ads(st\n",
    "        "
   ]
  },
  {
   "cell_type": "code",
   "execution_count": null,
   "id": "97c0f827-0d14-49eb-b013-a4bb88327dfd",
   "metadata": {},
   "outputs": [],
   "source": []
  }
 ],
 "metadata": {
  "kernelspec": {
   "display_name": "Python 3 (ipykernel)",
   "language": "python",
   "name": "python3"
  },
  "language_info": {
   "codemirror_mode": {
    "name": "ipython",
    "version": 3
   },
   "file_extension": ".py",
   "mimetype": "text/x-python",
   "name": "python",
   "nbconvert_exporter": "python",
   "pygments_lexer": "ipython3",
   "version": "3.11.5"
  }
 },
 "nbformat": 4,
 "nbformat_minor": 5
}
