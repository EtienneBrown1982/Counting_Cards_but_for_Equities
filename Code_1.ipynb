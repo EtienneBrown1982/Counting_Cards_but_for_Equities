{
 "cells": [
  {
   "cell_type": "code",
   "execution_count": 1,
   "id": "f4263324-f778-4708-8c07-b862045ea216",
   "metadata": {
    "tags": []
   },
   "outputs": [],
   "source": [
    "#import libraries\n",
    "\n",
    "import os\n",
    "import altair as alt\n",
    "from vega_datasets import data\n",
    "import pandas as pd\n",
    "import hvplot\n",
    "import matplotlib\n",
    "import requests\n",
    "import alpaca_trade_api as tradeapi\n",
    "from dotenv import load_dotenv\n",
    "from datetime import datetime\n",
    "import json"
   ]
  },
  {
   "cell_type": "code",
   "execution_count": 2,
   "id": "7f2f36aa-35d8-4be2-ac98-777325fef000",
   "metadata": {
    "tags": []
   },
   "outputs": [
    {
     "data": {
      "text/plain": [
       "True"
      ]
     },
     "execution_count": 2,
     "metadata": {},
     "output_type": "execute_result"
    }
   ],
   "source": [
    "load_dotenv()"
   ]
  },
  {
   "cell_type": "code",
   "execution_count": 3,
   "id": "cee19603-87df-45e5-9ff5-7d78cf614d77",
   "metadata": {
    "tags": []
   },
   "outputs": [],
   "source": [
    "# Set Alpaca API key and secret\n",
    "alpaca_api_key = os.getenv(\"ALPACA_API_KEY\")\n",
    "alpaca_secret_key = os.getenv(\"ALPACA_SECRET_KEY\")\n",
    "\n"
   ]
  },
  {
   "cell_type": "code",
   "execution_count": 4,
   "id": "5edbf900",
   "metadata": {
    "tags": []
   },
   "outputs": [],
   "source": [
    "# Instantiate REST API\n",
    "\n",
    "api = tradeapi.REST(\n",
    "    alpaca_api_key,\n",
    "    alpaca_secret_key,\n",
    "    #base_url,\n",
    "    api_version = \"v2\"\n",
    ")"
   ]
  },
  {
   "cell_type": "code",
   "execution_count": 5,
   "id": "2df50d95",
   "metadata": {
    "tags": []
   },
   "outputs": [],
   "source": [
    "# Get user input for the stock symbol\n",
    "# stock_symbol = input(\"Enter the stock symbol you want to analyze (e.g., AAPL): \")\n",
    "stock_symbol = \"META\""
   ]
  },
  {
   "cell_type": "code",
   "execution_count": 6,
   "id": "a77d1e43",
   "metadata": {
    "tags": []
   },
   "outputs": [],
   "source": [
    "# Establish what time frame increment we will be looking at\n",
    "time_frame = \"1Day\""
   ]
  },
  {
   "cell_type": "code",
   "execution_count": 7,
   "id": "28a2aa39",
   "metadata": {
    "tags": []
   },
   "outputs": [],
   "source": [
    "# Get user input for the start date in datetime format\n",
    "# start_date_str = input(\"Enter the start date (YYYY-MM-DD): \")\n",
    "# start_date = datetime.strptime(start_date_str, \"%Y-%m-%d\")\n",
    "start_date = pd.Timestamp(\"2020-10-10\", tz=\"America/New_York\").isoformat()"
   ]
  },
  {
   "cell_type": "code",
   "execution_count": 8,
   "id": "bcb098d4",
   "metadata": {
    "tags": []
   },
   "outputs": [],
   "source": [
    "# Get user input for the end date in datetime format\n",
    "# end_date_str = input(\"Enter the end date (YYYY-MM-DD): \")\n",
    "# end_date = datetime.strptime(end_date_str, \"%Y-%m-%d\")\n",
    "end_date = pd.Timestamp(\"2020-12-12\", tz=\"America/New_York\").isoformat()"
   ]
  },
  {
   "cell_type": "code",
   "execution_count": 9,
   "id": "51dacbe3",
   "metadata": {
    "tags": []
   },
   "outputs": [],
   "source": [
    "# trading_days = end_date - start_date\n",
    "\n",
    "\n",
    "# print(f\"The timeframe between {start_date_str} and {end_date_str} is {trading_days.days} days.\")"
   ]
  },
  {
   "cell_type": "code",
   "execution_count": 10,
   "id": "eb624294",
   "metadata": {
    "tags": []
   },
   "outputs": [],
   "source": [
    "# Calls the stock data from the period of time desired in the desired time increment\n",
    "stock_data = api.get_bars(\n",
    "    stock_symbol, \n",
    "    time_frame, \n",
    "    start = start_date, \n",
    "    end = end_date\n",
    ").df"
   ]
  },
  {
   "cell_type": "code",
   "execution_count": 12,
   "id": "5574487e",
   "metadata": {
    "tags": []
   },
   "outputs": [
    {
     "name": "stdout",
     "output_type": "stream",
     "text": [
      "<class 'pandas.core.frame.DataFrame'>\n",
      "DatetimeIndex: 44 entries, 2020-10-12 04:00:00+00:00 to 2020-12-11 05:00:00+00:00\n",
      "Data columns (total 7 columns):\n",
      " #   Column       Non-Null Count  Dtype  \n",
      "---  ------       --------------  -----  \n",
      " 0   close        44 non-null     float64\n",
      " 1   high         44 non-null     float64\n",
      " 2   low          44 non-null     float64\n",
      " 3   trade_count  44 non-null     int64  \n",
      " 4   open         44 non-null     float64\n",
      " 5   volume       44 non-null     int64  \n",
      " 6   vwap         44 non-null     float64\n",
      "dtypes: float64(5), int64(2)\n",
      "memory usage: 2.8 KB\n"
     ]
    },
    {
     "data": {
      "text/html": [
       "<div>\n",
       "<style scoped>\n",
       "    .dataframe tbody tr th:only-of-type {\n",
       "        vertical-align: middle;\n",
       "    }\n",
       "\n",
       "    .dataframe tbody tr th {\n",
       "        vertical-align: top;\n",
       "    }\n",
       "\n",
       "    .dataframe thead th {\n",
       "        text-align: right;\n",
       "    }\n",
       "</style>\n",
       "<table border=\"1\" class=\"dataframe\">\n",
       "  <thead>\n",
       "    <tr style=\"text-align: right;\">\n",
       "      <th></th>\n",
       "      <th>close</th>\n",
       "      <th>high</th>\n",
       "      <th>low</th>\n",
       "      <th>trade_count</th>\n",
       "      <th>open</th>\n",
       "      <th>volume</th>\n",
       "      <th>vwap</th>\n",
       "    </tr>\n",
       "    <tr>\n",
       "      <th>timestamp</th>\n",
       "      <th></th>\n",
       "      <th></th>\n",
       "      <th></th>\n",
       "      <th></th>\n",
       "      <th></th>\n",
       "      <th></th>\n",
       "      <th></th>\n",
       "    </tr>\n",
       "  </thead>\n",
       "  <tbody>\n",
       "    <tr>\n",
       "      <th>2020-10-12 04:00:00+00:00</th>\n",
       "      <td>275.75</td>\n",
       "      <td>280.18</td>\n",
       "      <td>267.87</td>\n",
       "      <td>292730</td>\n",
       "      <td>270.200</td>\n",
       "      <td>32999660</td>\n",
       "      <td>275.227035</td>\n",
       "    </tr>\n",
       "    <tr>\n",
       "      <th>2020-10-13 04:00:00+00:00</th>\n",
       "      <td>276.14</td>\n",
       "      <td>279.10</td>\n",
       "      <td>273.39</td>\n",
       "      <td>181923</td>\n",
       "      <td>277.580</td>\n",
       "      <td>19505211</td>\n",
       "      <td>276.201124</td>\n",
       "    </tr>\n",
       "    <tr>\n",
       "      <th>2020-10-14 04:00:00+00:00</th>\n",
       "      <td>271.82</td>\n",
       "      <td>278.75</td>\n",
       "      <td>271.50</td>\n",
       "      <td>151136</td>\n",
       "      <td>277.620</td>\n",
       "      <td>16590158</td>\n",
       "      <td>273.981850</td>\n",
       "    </tr>\n",
       "    <tr>\n",
       "      <th>2020-10-15 04:00:00+00:00</th>\n",
       "      <td>266.72</td>\n",
       "      <td>269.04</td>\n",
       "      <td>263.67</td>\n",
       "      <td>182305</td>\n",
       "      <td>267.600</td>\n",
       "      <td>16330684</td>\n",
       "      <td>266.033730</td>\n",
       "    </tr>\n",
       "    <tr>\n",
       "      <th>2020-10-16 04:00:00+00:00</th>\n",
       "      <td>265.93</td>\n",
       "      <td>271.37</td>\n",
       "      <td>265.30</td>\n",
       "      <td>157636</td>\n",
       "      <td>267.375</td>\n",
       "      <td>18430693</td>\n",
       "      <td>267.458035</td>\n",
       "    </tr>\n",
       "  </tbody>\n",
       "</table>\n",
       "</div>"
      ],
      "text/plain": [
       "                            close    high     low  trade_count     open  \\\n",
       "timestamp                                                                 \n",
       "2020-10-12 04:00:00+00:00  275.75  280.18  267.87       292730  270.200   \n",
       "2020-10-13 04:00:00+00:00  276.14  279.10  273.39       181923  277.580   \n",
       "2020-10-14 04:00:00+00:00  271.82  278.75  271.50       151136  277.620   \n",
       "2020-10-15 04:00:00+00:00  266.72  269.04  263.67       182305  267.600   \n",
       "2020-10-16 04:00:00+00:00  265.93  271.37  265.30       157636  267.375   \n",
       "\n",
       "                             volume        vwap  \n",
       "timestamp                                        \n",
       "2020-10-12 04:00:00+00:00  32999660  275.227035  \n",
       "2020-10-13 04:00:00+00:00  19505211  276.201124  \n",
       "2020-10-14 04:00:00+00:00  16590158  273.981850  \n",
       "2020-10-15 04:00:00+00:00  16330684  266.033730  \n",
       "2020-10-16 04:00:00+00:00  18430693  267.458035  "
      ]
     },
     "metadata": {},
     "output_type": "display_data"
    },
    {
     "data": {
      "text/html": [
       "<div>\n",
       "<style scoped>\n",
       "    .dataframe tbody tr th:only-of-type {\n",
       "        vertical-align: middle;\n",
       "    }\n",
       "\n",
       "    .dataframe tbody tr th {\n",
       "        vertical-align: top;\n",
       "    }\n",
       "\n",
       "    .dataframe thead th {\n",
       "        text-align: right;\n",
       "    }\n",
       "</style>\n",
       "<table border=\"1\" class=\"dataframe\">\n",
       "  <thead>\n",
       "    <tr style=\"text-align: right;\">\n",
       "      <th></th>\n",
       "      <th>close</th>\n",
       "      <th>high</th>\n",
       "      <th>low</th>\n",
       "      <th>trade_count</th>\n",
       "      <th>open</th>\n",
       "      <th>volume</th>\n",
       "      <th>vwap</th>\n",
       "    </tr>\n",
       "    <tr>\n",
       "      <th>timestamp</th>\n",
       "      <th></th>\n",
       "      <th></th>\n",
       "      <th></th>\n",
       "      <th></th>\n",
       "      <th></th>\n",
       "      <th></th>\n",
       "      <th></th>\n",
       "    </tr>\n",
       "  </thead>\n",
       "  <tbody>\n",
       "    <tr>\n",
       "      <th>2020-12-07 05:00:00+00:00</th>\n",
       "      <td>285.58</td>\n",
       "      <td>288.4900</td>\n",
       "      <td>278.20</td>\n",
       "      <td>153281</td>\n",
       "      <td>279.190</td>\n",
       "      <td>14005842</td>\n",
       "      <td>285.751969</td>\n",
       "    </tr>\n",
       "    <tr>\n",
       "      <th>2020-12-08 05:00:00+00:00</th>\n",
       "      <td>283.40</td>\n",
       "      <td>286.4272</td>\n",
       "      <td>281.55</td>\n",
       "      <td>136454</td>\n",
       "      <td>286.010</td>\n",
       "      <td>11974657</td>\n",
       "      <td>283.705184</td>\n",
       "    </tr>\n",
       "    <tr>\n",
       "      <th>2020-12-09 05:00:00+00:00</th>\n",
       "      <td>277.92</td>\n",
       "      <td>287.6300</td>\n",
       "      <td>271.75</td>\n",
       "      <td>312698</td>\n",
       "      <td>283.660</td>\n",
       "      <td>26765687</td>\n",
       "      <td>278.642389</td>\n",
       "    </tr>\n",
       "    <tr>\n",
       "      <th>2020-12-10 05:00:00+00:00</th>\n",
       "      <td>277.12</td>\n",
       "      <td>278.7300</td>\n",
       "      <td>271.86</td>\n",
       "      <td>209825</td>\n",
       "      <td>275.535</td>\n",
       "      <td>21534833</td>\n",
       "      <td>276.018129</td>\n",
       "    </tr>\n",
       "    <tr>\n",
       "      <th>2020-12-11 05:00:00+00:00</th>\n",
       "      <td>273.55</td>\n",
       "      <td>276.4800</td>\n",
       "      <td>270.25</td>\n",
       "      <td>158853</td>\n",
       "      <td>274.530</td>\n",
       "      <td>15609459</td>\n",
       "      <td>273.330511</td>\n",
       "    </tr>\n",
       "  </tbody>\n",
       "</table>\n",
       "</div>"
      ],
      "text/plain": [
       "                            close      high     low  trade_count     open  \\\n",
       "timestamp                                                                   \n",
       "2020-12-07 05:00:00+00:00  285.58  288.4900  278.20       153281  279.190   \n",
       "2020-12-08 05:00:00+00:00  283.40  286.4272  281.55       136454  286.010   \n",
       "2020-12-09 05:00:00+00:00  277.92  287.6300  271.75       312698  283.660   \n",
       "2020-12-10 05:00:00+00:00  277.12  278.7300  271.86       209825  275.535   \n",
       "2020-12-11 05:00:00+00:00  273.55  276.4800  270.25       158853  274.530   \n",
       "\n",
       "                             volume        vwap  \n",
       "timestamp                                        \n",
       "2020-12-07 05:00:00+00:00  14005842  285.751969  \n",
       "2020-12-08 05:00:00+00:00  11974657  283.705184  \n",
       "2020-12-09 05:00:00+00:00  26765687  278.642389  \n",
       "2020-12-10 05:00:00+00:00  21534833  276.018129  \n",
       "2020-12-11 05:00:00+00:00  15609459  273.330511  "
      ]
     },
     "metadata": {},
     "output_type": "display_data"
    }
   ],
   "source": [
    "# Displays the information pulled\n",
    "stock_data.info()\n",
    "display(stock_data.head())\n",
    "display(stock_data.tail())"
   ]
  },
  {
   "cell_type": "code",
   "execution_count": 29,
   "id": "b8997cde",
   "metadata": {
    "tags": []
   },
   "outputs": [],
   "source": [
    "# Add new data columns to DF for body size and candle size\n",
    "# body size is absolute value of open - close\n",
    "# candle size is the absolute value of low - high\n",
    "# clean up datafram by removing vwap, volume, trade count columns\n"
   ]
  },
  {
   "cell_type": "code",
   "execution_count": 30,
   "id": "293beb68-8d8b-4513-9c81-81616b6941db",
   "metadata": {
    "tags": []
   },
   "outputs": [
    {
     "data": {
      "text/html": [
       "<div>\n",
       "<style scoped>\n",
       "    .dataframe tbody tr th:only-of-type {\n",
       "        vertical-align: middle;\n",
       "    }\n",
       "\n",
       "    .dataframe tbody tr th {\n",
       "        vertical-align: top;\n",
       "    }\n",
       "\n",
       "    .dataframe thead th {\n",
       "        text-align: right;\n",
       "    }\n",
       "</style>\n",
       "<table border=\"1\" class=\"dataframe\">\n",
       "  <thead>\n",
       "    <tr style=\"text-align: right;\">\n",
       "      <th></th>\n",
       "      <th>close</th>\n",
       "      <th>high</th>\n",
       "      <th>low</th>\n",
       "      <th>open</th>\n",
       "    </tr>\n",
       "    <tr>\n",
       "      <th>timestamp</th>\n",
       "      <th></th>\n",
       "      <th></th>\n",
       "      <th></th>\n",
       "      <th></th>\n",
       "    </tr>\n",
       "  </thead>\n",
       "  <tbody>\n",
       "    <tr>\n",
       "      <th>2020-10-12 04:00:00+00:00</th>\n",
       "      <td>275.75</td>\n",
       "      <td>280.18</td>\n",
       "      <td>267.87</td>\n",
       "      <td>270.200</td>\n",
       "    </tr>\n",
       "    <tr>\n",
       "      <th>2020-10-13 04:00:00+00:00</th>\n",
       "      <td>276.14</td>\n",
       "      <td>279.10</td>\n",
       "      <td>273.39</td>\n",
       "      <td>277.580</td>\n",
       "    </tr>\n",
       "    <tr>\n",
       "      <th>2020-10-14 04:00:00+00:00</th>\n",
       "      <td>271.82</td>\n",
       "      <td>278.75</td>\n",
       "      <td>271.50</td>\n",
       "      <td>277.620</td>\n",
       "    </tr>\n",
       "    <tr>\n",
       "      <th>2020-10-15 04:00:00+00:00</th>\n",
       "      <td>266.72</td>\n",
       "      <td>269.04</td>\n",
       "      <td>263.67</td>\n",
       "      <td>267.600</td>\n",
       "    </tr>\n",
       "    <tr>\n",
       "      <th>2020-10-16 04:00:00+00:00</th>\n",
       "      <td>265.93</td>\n",
       "      <td>271.37</td>\n",
       "      <td>265.30</td>\n",
       "      <td>267.375</td>\n",
       "    </tr>\n",
       "  </tbody>\n",
       "</table>\n",
       "</div>"
      ],
      "text/plain": [
       "                            close    high     low     open\n",
       "timestamp                                                 \n",
       "2020-10-12 04:00:00+00:00  275.75  280.18  267.87  270.200\n",
       "2020-10-13 04:00:00+00:00  276.14  279.10  273.39  277.580\n",
       "2020-10-14 04:00:00+00:00  271.82  278.75  271.50  277.620\n",
       "2020-10-15 04:00:00+00:00  266.72  269.04  263.67  267.600\n",
       "2020-10-16 04:00:00+00:00  265.93  271.37  265.30  267.375"
      ]
     },
     "metadata": {},
     "output_type": "display_data"
    }
   ],
   "source": [
    "# Drop columns which aren't needed(trade_count, volume, vwap) and display the results\n",
    "stock_data = stock_data.drop(columns=['trade_count','volume','vwap'])\n",
    "display(stock_data.head())"
   ]
  },
  {
   "cell_type": "code",
   "execution_count": 34,
   "id": "e02f0581-f1db-4bc4-ba33-f52917b283f4",
   "metadata": {
    "tags": []
   },
   "outputs": [
    {
     "data": {
      "text/html": [
       "<div>\n",
       "<style scoped>\n",
       "    .dataframe tbody tr th:only-of-type {\n",
       "        vertical-align: middle;\n",
       "    }\n",
       "\n",
       "    .dataframe tbody tr th {\n",
       "        vertical-align: top;\n",
       "    }\n",
       "\n",
       "    .dataframe thead th {\n",
       "        text-align: right;\n",
       "    }\n",
       "</style>\n",
       "<table border=\"1\" class=\"dataframe\">\n",
       "  <thead>\n",
       "    <tr style=\"text-align: right;\">\n",
       "      <th></th>\n",
       "      <th>close</th>\n",
       "      <th>high</th>\n",
       "      <th>low</th>\n",
       "      <th>open</th>\n",
       "    </tr>\n",
       "    <tr>\n",
       "      <th>timestamp</th>\n",
       "      <th></th>\n",
       "      <th></th>\n",
       "      <th></th>\n",
       "      <th></th>\n",
       "    </tr>\n",
       "  </thead>\n",
       "  <tbody>\n",
       "    <tr>\n",
       "      <th>2020-10-12 04:00:00+00:00</th>\n",
       "      <td>275.75</td>\n",
       "      <td>280.18</td>\n",
       "      <td>267.87</td>\n",
       "      <td>270.20</td>\n",
       "    </tr>\n",
       "    <tr>\n",
       "      <th>2020-10-13 04:00:00+00:00</th>\n",
       "      <td>276.14</td>\n",
       "      <td>279.10</td>\n",
       "      <td>273.39</td>\n",
       "      <td>277.58</td>\n",
       "    </tr>\n",
       "  </tbody>\n",
       "</table>\n",
       "</div>"
      ],
      "text/plain": [
       "                            close    high     low    open\n",
       "timestamp                                                \n",
       "2020-10-12 04:00:00+00:00  275.75  280.18  267.87  270.20\n",
       "2020-10-13 04:00:00+00:00  276.14  279.10  273.39  277.58"
      ]
     },
     "execution_count": 34,
     "metadata": {},
     "output_type": "execute_result"
    }
   ],
   "source": [
    "stock_data.head(2)"
   ]
  },
  {
   "cell_type": "code",
   "execution_count": 35,
   "id": "18f9e68f-bf0d-471a-a7d0-9e66d632dce0",
   "metadata": {
    "tags": []
   },
   "outputs": [],
   "source": [
    "# Add new data columns to DF for body size and candle size\n",
    "# body size is absolute value of open - close\n",
    "# candle size is the absolute value of low - high\n",
    "# clean up datafram by removing vwap, volume, trade count columns\n",
    "\n",
    "stock_data['body_size'] = stock_data['close'] - stock_data['open']\n",
    "stock_data['candle_size'] = stock_data['high'] - stock_data['low']"
   ]
  },
  {
   "cell_type": "code",
   "execution_count": 36,
   "id": "7fa7e1aa-9de6-4235-8782-74fb995c6b9d",
   "metadata": {
    "tags": []
   },
   "outputs": [
    {
     "data": {
      "text/html": [
       "<div>\n",
       "<style scoped>\n",
       "    .dataframe tbody tr th:only-of-type {\n",
       "        vertical-align: middle;\n",
       "    }\n",
       "\n",
       "    .dataframe tbody tr th {\n",
       "        vertical-align: top;\n",
       "    }\n",
       "\n",
       "    .dataframe thead th {\n",
       "        text-align: right;\n",
       "    }\n",
       "</style>\n",
       "<table border=\"1\" class=\"dataframe\">\n",
       "  <thead>\n",
       "    <tr style=\"text-align: right;\">\n",
       "      <th></th>\n",
       "      <th>close</th>\n",
       "      <th>high</th>\n",
       "      <th>low</th>\n",
       "      <th>open</th>\n",
       "      <th>body_size</th>\n",
       "      <th>candle_size</th>\n",
       "    </tr>\n",
       "    <tr>\n",
       "      <th>timestamp</th>\n",
       "      <th></th>\n",
       "      <th></th>\n",
       "      <th></th>\n",
       "      <th></th>\n",
       "      <th></th>\n",
       "      <th></th>\n",
       "    </tr>\n",
       "  </thead>\n",
       "  <tbody>\n",
       "    <tr>\n",
       "      <th>2020-10-12 04:00:00+00:00</th>\n",
       "      <td>275.75</td>\n",
       "      <td>280.18</td>\n",
       "      <td>267.87</td>\n",
       "      <td>270.200</td>\n",
       "      <td>5.550</td>\n",
       "      <td>12.31</td>\n",
       "    </tr>\n",
       "    <tr>\n",
       "      <th>2020-10-13 04:00:00+00:00</th>\n",
       "      <td>276.14</td>\n",
       "      <td>279.10</td>\n",
       "      <td>273.39</td>\n",
       "      <td>277.580</td>\n",
       "      <td>-1.440</td>\n",
       "      <td>5.71</td>\n",
       "    </tr>\n",
       "    <tr>\n",
       "      <th>2020-10-14 04:00:00+00:00</th>\n",
       "      <td>271.82</td>\n",
       "      <td>278.75</td>\n",
       "      <td>271.50</td>\n",
       "      <td>277.620</td>\n",
       "      <td>-5.800</td>\n",
       "      <td>7.25</td>\n",
       "    </tr>\n",
       "    <tr>\n",
       "      <th>2020-10-15 04:00:00+00:00</th>\n",
       "      <td>266.72</td>\n",
       "      <td>269.04</td>\n",
       "      <td>263.67</td>\n",
       "      <td>267.600</td>\n",
       "      <td>-0.880</td>\n",
       "      <td>5.37</td>\n",
       "    </tr>\n",
       "    <tr>\n",
       "      <th>2020-10-16 04:00:00+00:00</th>\n",
       "      <td>265.93</td>\n",
       "      <td>271.37</td>\n",
       "      <td>265.30</td>\n",
       "      <td>267.375</td>\n",
       "      <td>-1.445</td>\n",
       "      <td>6.07</td>\n",
       "    </tr>\n",
       "  </tbody>\n",
       "</table>\n",
       "</div>"
      ],
      "text/plain": [
       "                            close    high     low     open  body_size  \\\n",
       "timestamp                                                               \n",
       "2020-10-12 04:00:00+00:00  275.75  280.18  267.87  270.200      5.550   \n",
       "2020-10-13 04:00:00+00:00  276.14  279.10  273.39  277.580     -1.440   \n",
       "2020-10-14 04:00:00+00:00  271.82  278.75  271.50  277.620     -5.800   \n",
       "2020-10-15 04:00:00+00:00  266.72  269.04  263.67  267.600     -0.880   \n",
       "2020-10-16 04:00:00+00:00  265.93  271.37  265.30  267.375     -1.445   \n",
       "\n",
       "                           candle_size  \n",
       "timestamp                               \n",
       "2020-10-12 04:00:00+00:00        12.31  \n",
       "2020-10-13 04:00:00+00:00         5.71  \n",
       "2020-10-14 04:00:00+00:00         7.25  \n",
       "2020-10-15 04:00:00+00:00         5.37  \n",
       "2020-10-16 04:00:00+00:00         6.07  "
      ]
     },
     "execution_count": 36,
     "metadata": {},
     "output_type": "execute_result"
    }
   ],
   "source": [
    "stock_data.head()"
   ]
  },
  {
   "cell_type": "code",
   "execution_count": 18,
   "id": "c26e2b56-ae86-40fa-ad4d-874553432759",
   "metadata": {
    "tags": []
   },
   "outputs": [
    {
     "data": {
      "text/html": [
       "\n",
       "<style>\n",
       "  #altair-viz-c02d164435af442484a2145252868caa.vega-embed {\n",
       "    width: 100%;\n",
       "    display: flex;\n",
       "  }\n",
       "\n",
       "  #altair-viz-c02d164435af442484a2145252868caa.vega-embed details,\n",
       "  #altair-viz-c02d164435af442484a2145252868caa.vega-embed details summary {\n",
       "    position: relative;\n",
       "  }\n",
       "</style>\n",
       "<div id=\"altair-viz-c02d164435af442484a2145252868caa\"></div>\n",
       "<script type=\"text/javascript\">\n",
       "  var VEGA_DEBUG = (typeof VEGA_DEBUG == \"undefined\") ? {} : VEGA_DEBUG;\n",
       "  (function(spec, embedOpt){\n",
       "    let outputDiv = document.currentScript.previousElementSibling;\n",
       "    if (outputDiv.id !== \"altair-viz-c02d164435af442484a2145252868caa\") {\n",
       "      outputDiv = document.getElementById(\"altair-viz-c02d164435af442484a2145252868caa\");\n",
       "    }\n",
       "    const paths = {\n",
       "      \"vega\": \"https://cdn.jsdelivr.net/npm/vega@5?noext\",\n",
       "      \"vega-lib\": \"https://cdn.jsdelivr.net/npm/vega-lib?noext\",\n",
       "      \"vega-lite\": \"https://cdn.jsdelivr.net/npm/vega-lite@5.15.1?noext\",\n",
       "      \"vega-embed\": \"https://cdn.jsdelivr.net/npm/vega-embed@6?noext\",\n",
       "    };\n",
       "\n",
       "    function maybeLoadScript(lib, version) {\n",
       "      var key = `${lib.replace(\"-\", \"\")}_version`;\n",
       "      return (VEGA_DEBUG[key] == version) ?\n",
       "        Promise.resolve(paths[lib]) :\n",
       "        new Promise(function(resolve, reject) {\n",
       "          var s = document.createElement('script');\n",
       "          document.getElementsByTagName(\"head\")[0].appendChild(s);\n",
       "          s.async = true;\n",
       "          s.onload = () => {\n",
       "            VEGA_DEBUG[key] = version;\n",
       "            return resolve(paths[lib]);\n",
       "          };\n",
       "          s.onerror = () => reject(`Error loading script: ${paths[lib]}`);\n",
       "          s.src = paths[lib];\n",
       "        });\n",
       "    }\n",
       "\n",
       "    function showError(err) {\n",
       "      outputDiv.innerHTML = `<div class=\"error\" style=\"color:red;\">${err}</div>`;\n",
       "      throw err;\n",
       "    }\n",
       "\n",
       "    function displayChart(vegaEmbed) {\n",
       "      vegaEmbed(outputDiv, spec, embedOpt)\n",
       "        .catch(err => showError(`Javascript Error: ${err.message}<br>This usually means there's a typo in your chart specification. See the javascript console for the full traceback.`));\n",
       "    }\n",
       "\n",
       "    if(typeof define === \"function\" && define.amd) {\n",
       "      requirejs.config({paths});\n",
       "      require([\"vega-embed\"], displayChart, err => showError(`Error loading script: ${err.message}`));\n",
       "    } else {\n",
       "      maybeLoadScript(\"vega\", \"5\")\n",
       "        .then(() => maybeLoadScript(\"vega-lite\", \"5.15.1\"))\n",
       "        .then(() => maybeLoadScript(\"vega-embed\", \"6\"))\n",
       "        .catch(showError)\n",
       "        .then(() => displayChart(vegaEmbed));\n",
       "    }\n",
       "  })({\"config\": {\"view\": {\"continuousWidth\": 300, \"continuousHeight\": 300}}, \"layer\": [{\"mark\": {\"type\": \"rule\"}, \"encoding\": {\"color\": {\"condition\": {\"test\": \"datum.open <= datum.close\", \"value\": \"#06982d\"}, \"value\": \"#ae1325\"}, \"x\": {\"axis\": {\"format\": \"%m/%d\", \"labelAngle\": -45}, \"field\": \"date\", \"title\": \"Date in 2020\", \"type\": \"temporal\"}, \"y\": {\"field\": \"low\", \"scale\": {\"zero\": false}, \"title\": \"Price\", \"type\": \"quantitative\"}, \"y2\": {\"field\": \"high\"}}}, {\"mark\": {\"type\": \"bar\"}, \"encoding\": {\"color\": {\"condition\": {\"test\": \"datum.open <= datum.close\", \"value\": \"#06982d\"}, \"value\": \"#ae1325\"}, \"x\": {\"axis\": {\"format\": \"%m/%d\", \"labelAngle\": -45}, \"field\": \"date\", \"title\": \"Date in 2020\", \"type\": \"temporal\"}, \"y\": {\"field\": \"open\", \"type\": \"quantitative\"}, \"y2\": {\"field\": \"close\"}}}], \"data\": {\"name\": \"data-130c73a2ac84e301bc4f4f9362d16c5c\"}, \"$schema\": \"https://vega.github.io/schema/vega-lite/v5.15.1.json\", \"datasets\": {\"data-130c73a2ac84e301bc4f4f9362d16c5c\": [{\"close\": 275.75, \"high\": 280.18, \"low\": 267.87, \"trade_count\": 292730, \"open\": 270.2, \"volume\": 32999660, \"vwap\": 275.227035}, {\"close\": 276.14, \"high\": 279.1, \"low\": 273.39, \"trade_count\": 181923, \"open\": 277.58, \"volume\": 19505211, \"vwap\": 276.201124}, {\"close\": 271.82, \"high\": 278.75, \"low\": 271.5, \"trade_count\": 151136, \"open\": 277.62, \"volume\": 16590158, \"vwap\": 273.98185}, {\"close\": 266.72, \"high\": 269.04, \"low\": 263.67, \"trade_count\": 182305, \"open\": 267.6, \"volume\": 16330684, \"vwap\": 266.03373}, {\"close\": 265.93, \"high\": 271.37, \"low\": 265.3, \"trade_count\": 157636, \"open\": 267.375, \"volume\": 18430693, \"vwap\": 267.458035}, {\"close\": 261.4, \"high\": 268.55, \"low\": 259.88, \"trade_count\": 165426, \"open\": 265.53, \"volume\": 14831856, \"vwap\": 262.953335}, {\"close\": 267.56, \"high\": 269.7, \"low\": 262.88, \"trade_count\": 198335, \"open\": 263.06, \"volume\": 19469184, \"vwap\": 267.131212}, {\"close\": 278.73, \"high\": 283.05, \"low\": 276.37, \"trade_count\": 300133, \"open\": 279.56, \"volume\": 31010778, \"vwap\": 280.08517}, {\"close\": 278.12, \"high\": 282.45, \"low\": 275.04, \"trade_count\": 175239, \"open\": 279.87, \"volume\": 17433402, \"vwap\": 278.092413}, {\"close\": 284.79, \"high\": 285.24, \"low\": 276.82, \"trade_count\": 175499, \"open\": 278.8024, \"volume\": 18416489, \"vwap\": 281.277578}, {\"close\": 277.11, \"high\": 285.23, \"low\": 274.26, \"trade_count\": 221989, \"open\": 283.16, \"volume\": 23684921, \"vwap\": 279.055698}, {\"close\": 283.29, \"high\": 284.51, \"low\": 276.31, \"trade_count\": 163576, \"open\": 278.76, \"volume\": 17228249, \"vwap\": 282.062292}, {\"close\": 267.67, \"high\": 278.79, \"low\": 267.26, \"trade_count\": 271517, \"open\": 278.79, \"volume\": 24823141, \"vwap\": 270.978637}, {\"close\": 280.83, \"high\": 283.6, \"low\": 273.78, \"trade_count\": 349488, \"open\": 276.55, \"volume\": 34249611, \"vwap\": 280.481723}, {\"close\": 263.11, \"high\": 276.7, \"low\": 259.1, \"trade_count\": 529938, \"open\": 274.5, \"volume\": 49339030, \"vwap\": 264.788265}, {\"close\": 261.36, \"high\": 270.47, \"low\": 257.34, \"trade_count\": 288879, \"open\": 264.6, \"volume\": 28799371, \"vwap\": 262.7922}, {\"close\": 265.3, \"high\": 270.05, \"low\": 260.88, \"trade_count\": 193488, \"open\": 263.16, \"volume\": 19126473, \"vwap\": 266.408586}, {\"close\": 287.38, \"high\": 288.94, \"low\": 278.62, \"trade_count\": 392416, \"open\": 281.0, \"volume\": 37125895, \"vwap\": 285.104615}, {\"close\": 294.68, \"high\": 297.38, \"low\": 288.95, \"trade_count\": 254982, \"open\": 291.8965, \"volume\": 25003590, \"vwap\": 294.49761}, {\"close\": 293.41, \"high\": 294.6, \"low\": 288.06, \"trade_count\": 160154, \"open\": 293.95, \"volume\": 14902433, \"vwap\": 292.447607}, {\"close\": 278.77, \"high\": 292.58, \"low\": 278.53, \"trade_count\": 308127, \"open\": 289.87, \"volume\": 26886160, \"vwap\": 285.49708}, {\"close\": 272.43, \"high\": 274.0, \"low\": 264.0, \"trade_count\": 341525, \"open\": 273.1, \"volume\": 30807722, \"vwap\": 270.048637}, {\"close\": 276.48, \"high\": 278.4, \"low\": 272.48, \"trade_count\": 181636, \"open\": 273.47, \"volume\": 16200970, \"vwap\": 275.885837}, {\"close\": 275.08, \"high\": 279.75, \"low\": 274.43, \"trade_count\": 157079, \"open\": 277.18, \"volume\": 14090618, \"vwap\": 276.960322}, {\"close\": 276.95, \"high\": 277.76, \"low\": 273.1, \"trade_count\": 127680, \"open\": 277.72, \"volume\": 11585400, \"vwap\": 275.780741}, {\"close\": 278.96, \"high\": 279.41, \"low\": 274.63, \"trade_count\": 137641, \"open\": 275.05, \"volume\": 14405056, \"vwap\": 277.614086}, {\"close\": 275.0, \"high\": 277.68, \"low\": 273.29, \"trade_count\": 154054, \"open\": 277.68, \"volume\": 16129514, \"vwap\": 275.381368}, {\"close\": 271.97, \"high\": 277.3889, \"low\": 271.84, \"trade_count\": 141289, \"open\": 274.52, \"volume\": 13911528, \"vwap\": 273.933321}, {\"close\": 272.94, \"high\": 273.47, \"low\": 269.19, \"trade_count\": 152857, \"open\": 271.025, \"volume\": 14207109, \"vwap\": 272.007571}, {\"close\": 269.7, \"high\": 273.0, \"low\": 269.41, \"trade_count\": 157827, \"open\": 272.56, \"volume\": 20109233, \"vwap\": 270.81395}, {\"close\": 268.43, \"high\": 270.9471, \"low\": 264.53, \"trade_count\": 230804, \"open\": 270.89, \"volume\": 22243380, \"vwap\": 267.573256}, {\"close\": 276.92, \"high\": 277.8199, \"low\": 267.87, \"trade_count\": 206710, \"open\": 268.49, \"volume\": 18373002, \"vwap\": 273.953798}, {\"close\": 275.59, \"high\": 280.18, \"low\": 272.65, \"trade_count\": 157796, \"open\": 278.14, \"volume\": 13358441, \"vwap\": 275.328733}, {\"close\": 277.81, \"high\": 279.13, \"low\": 274.82, \"trade_count\": 108534, \"open\": 277.39, \"volume\": 8383121, \"vwap\": 277.195745}, {\"close\": 276.97, \"high\": 277.7, \"low\": 271.01, \"trade_count\": 180944, \"open\": 276.13, \"volume\": 19253834, \"vwap\": 275.310216}, {\"close\": 286.55, \"high\": 289.3, \"low\": 278.96, \"trade_count\": 248486, \"open\": 279.16, \"volume\": 21921040, \"vwap\": 285.947518}, {\"close\": 287.52, \"high\": 291.78, \"low\": 280.825, \"trade_count\": 178590, \"open\": 285.36, \"volume\": 18516063, \"vwap\": 287.231401}, {\"close\": 281.85, \"high\": 286.65, \"low\": 281.07, \"trade_count\": 164853, \"open\": 286.25, \"volume\": 14001290, \"vwap\": 283.396961}, {\"close\": 279.7, \"high\": 283.46, \"low\": 279.3, \"trade_count\": 131291, \"open\": 280.3, \"volume\": 11951659, \"vwap\": 280.560475}, {\"close\": 285.58, \"high\": 288.49, \"low\": 278.2, \"trade_count\": 153281, \"open\": 279.19, \"volume\": 14005842, \"vwap\": 285.751969}, {\"close\": 283.4, \"high\": 286.4272, \"low\": 281.55, \"trade_count\": 136454, \"open\": 286.01, \"volume\": 11974657, \"vwap\": 283.705184}, {\"close\": 277.92, \"high\": 287.63, \"low\": 271.75, \"trade_count\": 312698, \"open\": 283.66, \"volume\": 26765687, \"vwap\": 278.642389}, {\"close\": 277.12, \"high\": 278.73, \"low\": 271.86, \"trade_count\": 209825, \"open\": 275.535, \"volume\": 21534833, \"vwap\": 276.018129}, {\"close\": 273.55, \"high\": 276.48, \"low\": 270.25, \"trade_count\": 158853, \"open\": 274.53, \"volume\": 15609459, \"vwap\": 273.330511}]}}, {\"mode\": \"vega-lite\"});\n",
       "</script>"
      ],
      "text/plain": [
       "alt.LayerChart(...)"
      ]
     },
     "execution_count": 18,
     "metadata": {},
     "output_type": "execute_result"
    }
   ],
   "source": [
    "source = stock_data\n",
    "\n",
    "open_close_color = alt.condition(\n",
    "    \"datum.open <= datum.close\",\n",
    "    alt.value(\"#06982d\"),\n",
    "    alt.value(\"#ae1325\")\n",
    ")\n",
    "\n",
    "base = alt.Chart(source).encode(\n",
    "    alt.X('date:T')\n",
    "        .axis(format='%m/%d', labelAngle=-45)\n",
    "        .title('Date in 2020'),\n",
    "    color=open_close_color\n",
    ")\n",
    "\n",
    "rule = base.mark_rule().encode(\n",
    "    alt.Y('low:Q')\n",
    "        .title('Price')\n",
    "        .scale(zero=False),\n",
    "    alt.Y2('high:Q')\n",
    ")\n",
    "\n",
    "bar = base.mark_bar().encode(\n",
    "    alt.Y('open:Q'),\n",
    "    alt.Y2('close:Q')\n",
    ")\n",
    "\n",
    "rule + bar"
   ]
  },
  {
   "cell_type": "code",
   "execution_count": 57,
   "id": "7a309d71-d15a-4434-b7bf-f752f872b737",
   "metadata": {
    "tags": []
   },
   "outputs": [
    {
     "data": {
      "text/plain": [
       "timestamp\n",
       "2020-10-12 04:00:00+00:00    5.550\n",
       "2020-10-13 04:00:00+00:00   -1.440\n",
       "2020-10-14 04:00:00+00:00   -5.800\n",
       "2020-10-15 04:00:00+00:00   -0.880\n",
       "2020-10-16 04:00:00+00:00   -1.445\n",
       "Name: body_size, dtype: float64"
      ]
     },
     "execution_count": 57,
     "metadata": {},
     "output_type": "execute_result"
    }
   ],
   "source": [
    "stock_data['body_size'].head()"
   ]
  },
  {
   "cell_type": "code",
   "execution_count": 37,
   "id": "562f1e51",
   "metadata": {
    "tags": []
   },
   "outputs": [],
   "source": [
    "max_body_size = stock_data[\"body_size\"].max()"
   ]
  },
  {
   "cell_type": "code",
   "execution_count": 38,
   "id": "4361e5d6-662d-4cf8-b197-eda362b97708",
   "metadata": {
    "tags": []
   },
   "outputs": [],
   "source": [
    "min_candle_size = stock_data[\"candle_size\"].min()"
   ]
  },
  {
   "cell_type": "code",
   "execution_count": 40,
   "id": "1ecfe925-4ca4-425a-832e-4d6121df82d3",
   "metadata": {
    "tags": []
   },
   "outputs": [
    {
     "data": {
      "text/plain": [
       "8.430000000000007"
      ]
     },
     "metadata": {},
     "output_type": "display_data"
    },
    {
     "data": {
      "text/plain": [
       "3.589999999999975"
      ]
     },
     "metadata": {},
     "output_type": "display_data"
    }
   ],
   "source": [
    "display(max_body_size)\n",
    "display(min_candle_size)"
   ]
  },
  {
   "cell_type": "code",
   "execution_count": 45,
   "id": "169514d5-8fbc-4c24-959c-58aa9c9be49d",
   "metadata": {
    "tags": []
   },
   "outputs": [],
   "source": [
    "stock_data_1 = stock_data.drop(columns=['high','low','body_size','candle_size'])"
   ]
  },
  {
   "cell_type": "code",
   "execution_count": 47,
   "id": "8f07a21c-a7ee-4869-ad91-c739c2517971",
   "metadata": {
    "tags": []
   },
   "outputs": [
    {
     "data": {
      "text/html": [
       "<div>\n",
       "<style scoped>\n",
       "    .dataframe tbody tr th:only-of-type {\n",
       "        vertical-align: middle;\n",
       "    }\n",
       "\n",
       "    .dataframe tbody tr th {\n",
       "        vertical-align: top;\n",
       "    }\n",
       "\n",
       "    .dataframe thead th {\n",
       "        text-align: right;\n",
       "    }\n",
       "</style>\n",
       "<table border=\"1\" class=\"dataframe\">\n",
       "  <thead>\n",
       "    <tr style=\"text-align: right;\">\n",
       "      <th></th>\n",
       "      <th>close</th>\n",
       "      <th>open</th>\n",
       "    </tr>\n",
       "    <tr>\n",
       "      <th>timestamp</th>\n",
       "      <th></th>\n",
       "      <th></th>\n",
       "    </tr>\n",
       "  </thead>\n",
       "  <tbody>\n",
       "    <tr>\n",
       "      <th>2020-10-12 04:00:00+00:00</th>\n",
       "      <td>275.75</td>\n",
       "      <td>270.200</td>\n",
       "    </tr>\n",
       "    <tr>\n",
       "      <th>2020-10-13 04:00:00+00:00</th>\n",
       "      <td>276.14</td>\n",
       "      <td>277.580</td>\n",
       "    </tr>\n",
       "    <tr>\n",
       "      <th>2020-10-14 04:00:00+00:00</th>\n",
       "      <td>271.82</td>\n",
       "      <td>277.620</td>\n",
       "    </tr>\n",
       "    <tr>\n",
       "      <th>2020-10-15 04:00:00+00:00</th>\n",
       "      <td>266.72</td>\n",
       "      <td>267.600</td>\n",
       "    </tr>\n",
       "    <tr>\n",
       "      <th>2020-10-16 04:00:00+00:00</th>\n",
       "      <td>265.93</td>\n",
       "      <td>267.375</td>\n",
       "    </tr>\n",
       "  </tbody>\n",
       "</table>\n",
       "</div>"
      ],
      "text/plain": [
       "                            close     open\n",
       "timestamp                                 \n",
       "2020-10-12 04:00:00+00:00  275.75  270.200\n",
       "2020-10-13 04:00:00+00:00  276.14  277.580\n",
       "2020-10-14 04:00:00+00:00  271.82  277.620\n",
       "2020-10-15 04:00:00+00:00  266.72  267.600\n",
       "2020-10-16 04:00:00+00:00  265.93  267.375"
      ]
     },
     "metadata": {},
     "output_type": "display_data"
    }
   ],
   "source": [
    "display (stock_data_1.head())"
   ]
  },
  {
   "cell_type": "code",
   "execution_count": null,
   "id": "b999fc9a-69f4-4180-b34c-15065b148350",
   "metadata": {},
   "outputs": [],
   "source": [
    "current_count = 0"
   ]
  },
  {
   "cell_type": "code",
   "execution_count": 59,
   "id": "5fe23a07-7e70-4d8b-aa4e-d6b460031ce2",
   "metadata": {
    "tags": []
   },
   "outputs": [
    {
     "data": {
      "text/plain": [
       "-1"
      ]
     },
     "metadata": {},
     "output_type": "display_data"
    },
    {
     "data": {
      "text/plain": [
       "5.550000000000011"
      ]
     },
     "metadata": {},
     "output_type": "display_data"
    },
    {
     "data": {
      "text/plain": [
       "44"
      ]
     },
     "metadata": {},
     "output_type": "display_data"
    }
   ],
   "source": [
    "if stock_data.iloc[0][4] > 0:\n",
    "    previous_candle = 1\n",
    "elif stock_data.iloc[0][4] == 0:\n",
    "    previous_candle = 0\n",
    "else: stock_data.iloc[0][4] < 0\n",
    "previous_candle = -1\n",
    " \n",
    "number_of_rows = len(stock_data)\n",
    "\n",
    "display(previous_candle)\n",
    "display(stock_data.iloc[0][4])\n",
    "display(number_of_rows)"
   ]
  },
  {
   "cell_type": "code",
   "execution_count": 61,
   "id": "31397687-5099-42aa-b9d0-7254f7d28937",
   "metadata": {
    "tags": []
   },
   "outputs": [
    {
     "ename": "SyntaxError",
     "evalue": "invalid syntax (1597284194.py, line 1)",
     "output_type": "error",
     "traceback": [
      "\u001b[1;36m  Cell \u001b[1;32mIn[61], line 1\u001b[1;36m\u001b[0m\n\u001b[1;33m    for i in range len(stock_data):\u001b[0m\n\u001b[1;37m                   ^\u001b[0m\n\u001b[1;31mSyntaxError\u001b[0m\u001b[1;31m:\u001b[0m invalid syntax\n"
     ]
    }
   ],
   "source": [
    "row_counter = 0\n",
    "\n",
    "for row in stock_data:\n",
    "    row_counter = row_counter + 1\n",
    "    if stock_data.iloc[row_counterr][3] < stock_data.iloc[row_counter][0] and ads(st\n",
    "        "
   ]
  },
  {
   "cell_type": "code",
   "execution_count": null,
   "id": "97c0f827-0d14-49eb-b013-a4bb88327dfd",
   "metadata": {},
   "outputs": [],
   "source": []
  }
 ],
 "metadata": {
  "kernelspec": {
   "display_name": "Python 3 (ipykernel)",
   "language": "python",
   "name": "python3"
  },
  "language_info": {
   "codemirror_mode": {
    "name": "ipython",
    "version": 3
   },
   "file_extension": ".py",
   "mimetype": "text/x-python",
   "name": "python",
   "nbconvert_exporter": "python",
   "pygments_lexer": "ipython3",
   "version": "3.11.5"
  }
 },
 "nbformat": 4,
 "nbformat_minor": 5
}
