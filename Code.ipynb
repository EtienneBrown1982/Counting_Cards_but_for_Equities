{
 "cells": [
  {
   "cell_type": "code",
   "execution_count": 92,
   "id": "f4263324-f778-4708-8c07-b862045ea216",
   "metadata": {
    "tags": []
   },
   "outputs": [],
   "source": [
    "#import libraries\n",
    "\n",
    "import os\n",
    "import pandas as pd\n",
    "import hvplot\n",
    "import matplotlib\n",
    "import requests\n",
    "import alpaca_trade_api as tradeapi\n",
    "from dotenv import load_dotenv\n",
    "from datetime import datetime\n",
    "import json"
   ]
  },
  {
   "cell_type": "code",
   "execution_count": 93,
   "id": "7f2f36aa-35d8-4be2-ac98-777325fef000",
   "metadata": {
    "tags": []
   },
   "outputs": [
    {
     "data": {
      "text/plain": [
       "True"
      ]
     },
     "execution_count": 93,
     "metadata": {},
     "output_type": "execute_result"
    }
   ],
   "source": [
    "load_dotenv()"
   ]
  },
  {
   "cell_type": "code",
   "execution_count": 94,
   "id": "cee19603-87df-45e5-9ff5-7d78cf614d77",
   "metadata": {},
   "outputs": [],
   "source": [
    "# Set Alpaca API key and secret\n",
    "alpaca_api_key = os.getenv(\"ALPACA_API_KEY\")\n",
    "alpaca_secret_key = os.getenv(\"ALPACA_SECRET_KEY\")\n",
    "base_url = 'https://api.alpaca.markets'\n"
   ]
  },
  {
   "cell_type": "code",
   "execution_count": 95,
   "id": "5edbf900",
   "metadata": {},
   "outputs": [],
   "source": [
    "# Instantiate REST API\n",
    "\n",
    "api = tradeapi.REST(\n",
    "    alpaca_api_key,\n",
    "    alpaca_secret_key,\n",
    "    #base_url,\n",
    "    api_version = \"v2\"\n",
    ")"
   ]
  },
  {
   "cell_type": "code",
   "execution_count": 96,
   "id": "2df50d95",
   "metadata": {},
   "outputs": [],
   "source": [
    "# Get user input for the stock symbol\n",
    "# stock_symbol = input(\"Enter the stock symbol you want to analyze (e.g., AAPL): \")\n",
    "stock_symbol = \"META\""
   ]
  },
  {
   "cell_type": "code",
   "execution_count": 97,
   "id": "a77d1e43",
   "metadata": {},
   "outputs": [],
   "source": [
    "# Establish what time frame increment we will be looking at\n",
    "time_frame = \"1Day\""
   ]
  },
  {
   "cell_type": "code",
   "execution_count": 98,
   "id": "28a2aa39",
   "metadata": {},
   "outputs": [],
   "source": [
    "# Get user input for the start date in datetime format\n",
    "# start_date_str = input(\"Enter the start date (YYYY-MM-DD): \")\n",
    "# start_date = datetime.strptime(start_date_str, \"%Y-%m-%d\")\n",
    "start_date = pd.Timestamp(\"2020-10-10\", tz=\"America/New_York\").isoformat()"
   ]
  },
  {
   "cell_type": "code",
   "execution_count": 99,
   "id": "bcb098d4",
   "metadata": {},
   "outputs": [],
   "source": [
    "# Get user input for the end date in datetime format\n",
    "# end_date_str = input(\"Enter the end date (YYYY-MM-DD): \")\n",
    "# end_date = datetime.strptime(end_date_str, \"%Y-%m-%d\")\n",
    "end_date = pd.Timestamp(\"2020-12-12\", tz=\"America/New_York\").isoformat()"
   ]
  },
  {
   "cell_type": "code",
   "execution_count": 100,
   "id": "51dacbe3",
   "metadata": {},
   "outputs": [],
   "source": [
    "# trading_days = end_date - start_date\n",
    "\n",
    "\n",
    "# print(f\"The timeframe between {start_date_str} and {end_date_str} is {trading_days.days} days.\")"
   ]
  },
  {
   "cell_type": "code",
   "execution_count": 106,
   "id": "eb624294",
   "metadata": {},
   "outputs": [],
   "source": [
    "# Calls the stock data from the period of time desired in the desired time increment\n",
    "stock_data = api.get_bars(\n",
    "    stock_symbol, \n",
    "    time_frame, \n",
    "    start = start_date, \n",
    "    end = end_date\n",
    ").df"
   ]
  },
  {
   "cell_type": "code",
   "execution_count": 109,
   "id": "5574487e",
   "metadata": {},
   "outputs": [
    {
     "name": "stdout",
     "output_type": "stream",
     "text": [
      "<class 'pandas.core.frame.DataFrame'>\n",
      "DatetimeIndex: 44 entries, 2020-10-12 04:00:00+00:00 to 2020-12-11 05:00:00+00:00\n",
      "Data columns (total 7 columns):\n",
      " #   Column       Non-Null Count  Dtype  \n",
      "---  ------       --------------  -----  \n",
      " 0   close        44 non-null     float64\n",
      " 1   high         44 non-null     float64\n",
      " 2   low          44 non-null     float64\n",
      " 3   trade_count  44 non-null     int64  \n",
      " 4   open         44 non-null     float64\n",
      " 5   volume       44 non-null     int64  \n",
      " 6   vwap         44 non-null     float64\n",
      "dtypes: float64(5), int64(2)\n",
      "memory usage: 2.8 KB\n"
     ]
    },
    {
     "data": {
      "text/html": [
       "<div>\n",
       "<style scoped>\n",
       "    .dataframe tbody tr th:only-of-type {\n",
       "        vertical-align: middle;\n",
       "    }\n",
       "\n",
       "    .dataframe tbody tr th {\n",
       "        vertical-align: top;\n",
       "    }\n",
       "\n",
       "    .dataframe thead th {\n",
       "        text-align: right;\n",
       "    }\n",
       "</style>\n",
       "<table border=\"1\" class=\"dataframe\">\n",
       "  <thead>\n",
       "    <tr style=\"text-align: right;\">\n",
       "      <th></th>\n",
       "      <th>close</th>\n",
       "      <th>high</th>\n",
       "      <th>low</th>\n",
       "      <th>trade_count</th>\n",
       "      <th>open</th>\n",
       "      <th>volume</th>\n",
       "      <th>vwap</th>\n",
       "    </tr>\n",
       "    <tr>\n",
       "      <th>timestamp</th>\n",
       "      <th></th>\n",
       "      <th></th>\n",
       "      <th></th>\n",
       "      <th></th>\n",
       "      <th></th>\n",
       "      <th></th>\n",
       "      <th></th>\n",
       "    </tr>\n",
       "  </thead>\n",
       "  <tbody>\n",
       "    <tr>\n",
       "      <th>2020-10-12 04:00:00+00:00</th>\n",
       "      <td>275.75</td>\n",
       "      <td>280.18</td>\n",
       "      <td>267.87</td>\n",
       "      <td>292730</td>\n",
       "      <td>270.200</td>\n",
       "      <td>32999660</td>\n",
       "      <td>275.227035</td>\n",
       "    </tr>\n",
       "    <tr>\n",
       "      <th>2020-10-13 04:00:00+00:00</th>\n",
       "      <td>276.14</td>\n",
       "      <td>279.10</td>\n",
       "      <td>273.39</td>\n",
       "      <td>181923</td>\n",
       "      <td>277.580</td>\n",
       "      <td>19505211</td>\n",
       "      <td>276.201124</td>\n",
       "    </tr>\n",
       "    <tr>\n",
       "      <th>2020-10-14 04:00:00+00:00</th>\n",
       "      <td>271.82</td>\n",
       "      <td>278.75</td>\n",
       "      <td>271.50</td>\n",
       "      <td>151136</td>\n",
       "      <td>277.620</td>\n",
       "      <td>16590158</td>\n",
       "      <td>273.981850</td>\n",
       "    </tr>\n",
       "    <tr>\n",
       "      <th>2020-10-15 04:00:00+00:00</th>\n",
       "      <td>266.72</td>\n",
       "      <td>269.04</td>\n",
       "      <td>263.67</td>\n",
       "      <td>182305</td>\n",
       "      <td>267.600</td>\n",
       "      <td>16330684</td>\n",
       "      <td>266.033730</td>\n",
       "    </tr>\n",
       "    <tr>\n",
       "      <th>2020-10-16 04:00:00+00:00</th>\n",
       "      <td>265.93</td>\n",
       "      <td>271.37</td>\n",
       "      <td>265.30</td>\n",
       "      <td>157636</td>\n",
       "      <td>267.375</td>\n",
       "      <td>18430693</td>\n",
       "      <td>267.458035</td>\n",
       "    </tr>\n",
       "  </tbody>\n",
       "</table>\n",
       "</div>"
      ],
      "text/plain": [
       "                            close    high     low  trade_count     open  \\\n",
       "timestamp                                                                 \n",
       "2020-10-12 04:00:00+00:00  275.75  280.18  267.87       292730  270.200   \n",
       "2020-10-13 04:00:00+00:00  276.14  279.10  273.39       181923  277.580   \n",
       "2020-10-14 04:00:00+00:00  271.82  278.75  271.50       151136  277.620   \n",
       "2020-10-15 04:00:00+00:00  266.72  269.04  263.67       182305  267.600   \n",
       "2020-10-16 04:00:00+00:00  265.93  271.37  265.30       157636  267.375   \n",
       "\n",
       "                             volume        vwap  \n",
       "timestamp                                        \n",
       "2020-10-12 04:00:00+00:00  32999660  275.227035  \n",
       "2020-10-13 04:00:00+00:00  19505211  276.201124  \n",
       "2020-10-14 04:00:00+00:00  16590158  273.981850  \n",
       "2020-10-15 04:00:00+00:00  16330684  266.033730  \n",
       "2020-10-16 04:00:00+00:00  18430693  267.458035  "
      ]
     },
     "metadata": {},
     "output_type": "display_data"
    },
    {
     "data": {
      "text/html": [
       "<div>\n",
       "<style scoped>\n",
       "    .dataframe tbody tr th:only-of-type {\n",
       "        vertical-align: middle;\n",
       "    }\n",
       "\n",
       "    .dataframe tbody tr th {\n",
       "        vertical-align: top;\n",
       "    }\n",
       "\n",
       "    .dataframe thead th {\n",
       "        text-align: right;\n",
       "    }\n",
       "</style>\n",
       "<table border=\"1\" class=\"dataframe\">\n",
       "  <thead>\n",
       "    <tr style=\"text-align: right;\">\n",
       "      <th></th>\n",
       "      <th>close</th>\n",
       "      <th>high</th>\n",
       "      <th>low</th>\n",
       "      <th>trade_count</th>\n",
       "      <th>open</th>\n",
       "      <th>volume</th>\n",
       "      <th>vwap</th>\n",
       "    </tr>\n",
       "    <tr>\n",
       "      <th>timestamp</th>\n",
       "      <th></th>\n",
       "      <th></th>\n",
       "      <th></th>\n",
       "      <th></th>\n",
       "      <th></th>\n",
       "      <th></th>\n",
       "      <th></th>\n",
       "    </tr>\n",
       "  </thead>\n",
       "  <tbody>\n",
       "    <tr>\n",
       "      <th>2020-12-07 05:00:00+00:00</th>\n",
       "      <td>285.58</td>\n",
       "      <td>288.4900</td>\n",
       "      <td>278.20</td>\n",
       "      <td>153281</td>\n",
       "      <td>279.190</td>\n",
       "      <td>14005842</td>\n",
       "      <td>285.751969</td>\n",
       "    </tr>\n",
       "    <tr>\n",
       "      <th>2020-12-08 05:00:00+00:00</th>\n",
       "      <td>283.40</td>\n",
       "      <td>286.4272</td>\n",
       "      <td>281.55</td>\n",
       "      <td>136454</td>\n",
       "      <td>286.010</td>\n",
       "      <td>11974657</td>\n",
       "      <td>283.705184</td>\n",
       "    </tr>\n",
       "    <tr>\n",
       "      <th>2020-12-09 05:00:00+00:00</th>\n",
       "      <td>277.92</td>\n",
       "      <td>287.6300</td>\n",
       "      <td>271.75</td>\n",
       "      <td>312698</td>\n",
       "      <td>283.660</td>\n",
       "      <td>26765687</td>\n",
       "      <td>278.642389</td>\n",
       "    </tr>\n",
       "    <tr>\n",
       "      <th>2020-12-10 05:00:00+00:00</th>\n",
       "      <td>277.12</td>\n",
       "      <td>278.7300</td>\n",
       "      <td>271.86</td>\n",
       "      <td>209825</td>\n",
       "      <td>275.535</td>\n",
       "      <td>21534833</td>\n",
       "      <td>276.018129</td>\n",
       "    </tr>\n",
       "    <tr>\n",
       "      <th>2020-12-11 05:00:00+00:00</th>\n",
       "      <td>273.55</td>\n",
       "      <td>276.4800</td>\n",
       "      <td>270.25</td>\n",
       "      <td>158853</td>\n",
       "      <td>274.530</td>\n",
       "      <td>15609459</td>\n",
       "      <td>273.330511</td>\n",
       "    </tr>\n",
       "  </tbody>\n",
       "</table>\n",
       "</div>"
      ],
      "text/plain": [
       "                            close      high     low  trade_count     open  \\\n",
       "timestamp                                                                   \n",
       "2020-12-07 05:00:00+00:00  285.58  288.4900  278.20       153281  279.190   \n",
       "2020-12-08 05:00:00+00:00  283.40  286.4272  281.55       136454  286.010   \n",
       "2020-12-09 05:00:00+00:00  277.92  287.6300  271.75       312698  283.660   \n",
       "2020-12-10 05:00:00+00:00  277.12  278.7300  271.86       209825  275.535   \n",
       "2020-12-11 05:00:00+00:00  273.55  276.4800  270.25       158853  274.530   \n",
       "\n",
       "                             volume        vwap  \n",
       "timestamp                                        \n",
       "2020-12-07 05:00:00+00:00  14005842  285.751969  \n",
       "2020-12-08 05:00:00+00:00  11974657  283.705184  \n",
       "2020-12-09 05:00:00+00:00  26765687  278.642389  \n",
       "2020-12-10 05:00:00+00:00  21534833  276.018129  \n",
       "2020-12-11 05:00:00+00:00  15609459  273.330511  "
      ]
     },
     "metadata": {},
     "output_type": "display_data"
    }
   ],
   "source": [
    "# Displays the information pulled\n",
    "stock_data.info()\n",
    "display(stock_data.head())\n",
    "display(stock_data.tail())"
   ]
  },
  {
   "cell_type": "code",
   "execution_count": null,
   "id": "b8997cde",
   "metadata": {},
   "outputs": [],
   "source": [
    "# Add new data columns to DF for body size and candle size\n",
    "# body size is absolute value of open - close\n",
    "# candle size is the absolute value of low - high\n",
    "# clean up datafram by removing vwap, volume, trade count columns\n"
   ]
  },
  {
   "cell_type": "code",
   "execution_count": 110,
   "id": "cf0813ad",
   "metadata": {},
   "outputs": [
    {
     "ename": "ValueError",
     "evalue": "The truth value of a DataFrame is ambiguous. Use a.empty, a.bool(), a.item(), a.any() or a.all().",
     "output_type": "error",
     "traceback": [
      "\u001b[0;31m---------------------------------------------------------------------------\u001b[0m",
      "\u001b[0;31mValueError\u001b[0m                                Traceback (most recent call last)",
      "\u001b[1;32m/Users/etienne/Desktop/Homework/Counting_Cards_but_for_Equities/Code.ipynb Cell 12\u001b[0m line \u001b[0;36m1\n\u001b[0;32m----> <a href='vscode-notebook-cell:/Users/etienne/Desktop/Homework/Counting_Cards_but_for_Equities/Code.ipynb#X13sZmlsZQ%3D%3D?line=0'>1</a>\u001b[0m \u001b[39mif\u001b[39;00m stock_data:\n\u001b[1;32m      <a href='vscode-notebook-cell:/Users/etienne/Desktop/Homework/Counting_Cards_but_for_Equities/Code.ipynb#X13sZmlsZQ%3D%3D?line=1'>2</a>\u001b[0m         \u001b[39m# Convert the data to a dictionary\u001b[39;00m\n\u001b[1;32m      <a href='vscode-notebook-cell:/Users/etienne/Desktop/Homework/Counting_Cards_but_for_Equities/Code.ipynb#X13sZmlsZQ%3D%3D?line=2'>3</a>\u001b[0m         data_dict \u001b[39m=\u001b[39m {\n\u001b[1;32m      <a href='vscode-notebook-cell:/Users/etienne/Desktop/Homework/Counting_Cards_but_for_Equities/Code.ipynb#X13sZmlsZQ%3D%3D?line=3'>4</a>\u001b[0m             \u001b[39m\"\u001b[39m\u001b[39mSymbol\u001b[39m\u001b[39m\"\u001b[39m: stock_symbol,\n\u001b[1;32m      <a href='vscode-notebook-cell:/Users/etienne/Desktop/Homework/Counting_Cards_but_for_Equities/Code.ipynb#X13sZmlsZQ%3D%3D?line=4'>5</a>\u001b[0m             \u001b[39m\"\u001b[39m\u001b[39mPrice\u001b[39m\u001b[39m\"\u001b[39m: stock_data\u001b[39m.\u001b[39mprice,\n\u001b[1;32m      <a href='vscode-notebook-cell:/Users/etienne/Desktop/Homework/Counting_Cards_but_for_Equities/Code.ipynb#X13sZmlsZQ%3D%3D?line=5'>6</a>\u001b[0m             \u001b[39m\"\u001b[39m\u001b[39mTimestamp\u001b[39m\u001b[39m\"\u001b[39m: stock_data\u001b[39m.\u001b[39mtimestamp\n\u001b[1;32m      <a href='vscode-notebook-cell:/Users/etienne/Desktop/Homework/Counting_Cards_but_for_Equities/Code.ipynb#X13sZmlsZQ%3D%3D?line=6'>7</a>\u001b[0m         }\n\u001b[1;32m      <a href='vscode-notebook-cell:/Users/etienne/Desktop/Homework/Counting_Cards_but_for_Equities/Code.ipynb#X13sZmlsZQ%3D%3D?line=7'>8</a>\u001b[0m          \u001b[39m# Display the data as JSON\u001b[39;00m\n",
      "File \u001b[0;32m~/anaconda3/lib/python3.11/site-packages/pandas/core/generic.py:1519\u001b[0m, in \u001b[0;36mNDFrame.__nonzero__\u001b[0;34m(self)\u001b[0m\n\u001b[1;32m   1517\u001b[0m \u001b[39m@final\u001b[39m\n\u001b[1;32m   1518\u001b[0m \u001b[39mdef\u001b[39;00m \u001b[39m__nonzero__\u001b[39m(\u001b[39mself\u001b[39m) \u001b[39m-\u001b[39m\u001b[39m>\u001b[39m NoReturn:\n\u001b[0;32m-> 1519\u001b[0m     \u001b[39mraise\u001b[39;00m \u001b[39mValueError\u001b[39;00m(\n\u001b[1;32m   1520\u001b[0m         \u001b[39mf\u001b[39m\u001b[39m\"\u001b[39m\u001b[39mThe truth value of a \u001b[39m\u001b[39m{\u001b[39;00m\u001b[39mtype\u001b[39m(\u001b[39mself\u001b[39m)\u001b[39m.\u001b[39m\u001b[39m__name__\u001b[39m\u001b[39m}\u001b[39;00m\u001b[39m is ambiguous. \u001b[39m\u001b[39m\"\u001b[39m\n\u001b[1;32m   1521\u001b[0m         \u001b[39m\"\u001b[39m\u001b[39mUse a.empty, a.bool(), a.item(), a.any() or a.all().\u001b[39m\u001b[39m\"\u001b[39m\n\u001b[1;32m   1522\u001b[0m     )\n",
      "\u001b[0;31mValueError\u001b[0m: The truth value of a DataFrame is ambiguous. Use a.empty, a.bool(), a.item(), a.any() or a.all()."
     ]
    }
   ],
   "source": [
    "if stock_data:\n",
    "        # Convert the data to a dictionary\n",
    "        data_dict = {\n",
    "            \"Symbol\": stock_symbol,\n",
    "            \"Price\": stock_data.price,\n",
    "            \"Timestamp\": stock_data.timestamp\n",
    "        }\n",
    "         # Display the data as JSON\n",
    "        json_data = json.dumps(data_dict, indent=2)\n",
    "        print(\"Real-time data for {stock_symbol} in JSON format:\\n\")\n",
    "        print(json_data)\n",
    "else:\n",
    "        print(f\"No data found for {stock_symbol}. Please check the symbol and try again.\")\n",
    "    "
   ]
  },
  {
   "cell_type": "code",
   "execution_count": null,
   "id": "562f1e51",
   "metadata": {},
   "outputs": [
    {
     "ename": "IndentationError",
     "evalue": "unexpected indent (2334544546.py, line 2)",
     "output_type": "error",
     "traceback": [
      "\u001b[1;36m  Cell \u001b[1;32mIn[35], line 2\u001b[1;36m\u001b[0m\n\u001b[1;33m    json_data = json.dumps(data_dict, indent=2)\u001b[0m\n\u001b[1;37m    ^\u001b[0m\n\u001b[1;31mIndentationError\u001b[0m\u001b[1;31m:\u001b[0m unexpected indent\n"
     ]
    }
   ],
   "source": []
  }
 ],
 "metadata": {
  "kernelspec": {
   "display_name": "Python 3 (ipykernel)",
   "language": "python",
   "name": "python3"
  },
  "language_info": {
   "codemirror_mode": {
    "name": "ipython",
    "version": 3
   },
   "file_extension": ".py",
   "mimetype": "text/x-python",
   "name": "python",
   "nbconvert_exporter": "python",
   "pygments_lexer": "ipython3",
   "version": "3.11.4"
  }
 },
 "nbformat": 4,
 "nbformat_minor": 5
}
